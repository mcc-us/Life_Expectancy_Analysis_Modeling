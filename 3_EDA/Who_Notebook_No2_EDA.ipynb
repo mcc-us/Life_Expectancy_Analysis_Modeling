{
 "cells": [
  {
   "cell_type": "markdown",
   "id": "a8ff9e38",
   "metadata": {
    "toc": true
   },
   "source": [
    "<h1>Table of Contents<span class=\"tocSkip\"></span></h1>\n",
    "<div class=\"toc\"><ul class=\"toc-item\"><li><span><a href=\"#Who_Notebook_No2_EDA\" data-toc-modified-id=\"Who_Notebook_No2_EDA-1\"><span class=\"toc-item-num\">1&nbsp;&nbsp;</span>Who_Notebook_No2_EDA</a></span></li></ul></div>"
   ]
  },
  {
   "cell_type": "markdown",
   "id": "32155c01",
   "metadata": {},
   "source": [
    "## Who_Notebook_No2_EDA"
   ]
  },
  {
   "cell_type": "code",
   "execution_count": null,
   "id": "59287891",
   "metadata": {},
   "outputs": [],
   "source": [
    "!ls\n",
    "\n",
    "\n"
   ]
  },
  {
   "cell_type": "code",
   "execution_count": 1,
   "id": "010b9300",
   "metadata": {},
   "outputs": [],
   "source": [
    "import numpy as np\n",
    "import pandas as pd"
   ]
  },
  {
   "cell_type": "code",
   "execution_count": 2,
   "id": "0886ca7e",
   "metadata": {},
   "outputs": [],
   "source": [
    "file_read = \"Life_Expectancy_Data.csv\"\n",
    "file_saved = \"clean_life_expect_data.csv\"\n",
    "\n",
    "df = pd.read_csv(\n",
    "    file_read,\n",
    "    na_values='')  # file=churn.all2 contains '?' instead of Null or Nan.\n",
    "\n",
    "# Change column names for clarity\n",
    "df.columns = [\n",
    "    'Cty', 'Yr', 'Dev', 'L_Expec', 'A_Mort', 'Inf_D', 'Alc', 'Per_Expen',\n",
    "    'HepB', 'Mes', 'BMI', 'lt5y_D', 'Polio', 'T_Expen', 'Dipt', 'HIV', 'GDP',\n",
    "    'Pop', 'Th_1-19y', 'Th_5-9y', 'Income', 'Ed'\n",
    "]\n",
    "\n",
    "'L_Expec', 'A_Mort', 'Inf_D', 'Alc','HepB', 'Mes', 'BMI', 'lt5y_D', 'Polio','HIV','Th_1-19y', 'Th_5-9y',\n",
    "\n",
    "# RE-ORDER dataframe\n",
    "df.loc[:, ['Yr','Cty','Dev',\n",
    "           'GDP','T_Expen','Per_Expen','Income','Pop','Ed',\n",
    "           'Alc','HepB', 'Mes','Polio','HIV','BMI',\n",
    "           'A_Mort', 'Inf_D','lt5y_D','Th_1-19y', 'Th_5-9y',\n",
    "           'L_Expec']]\n",
    "\n",
    "# Save Cleaned Data\n",
    "df.to_csv(file_saved)"
   ]
  },
  {
   "cell_type": "code",
   "execution_count": 3,
   "id": "a770bce5",
   "metadata": {
    "scrolled": true
   },
   "outputs": [
    {
     "name": "stdout",
     "output_type": "stream",
     "text": [
      "<class 'pandas.core.frame.DataFrame'>\n",
      "RangeIndex: 2938 entries, 0 to 2937\n",
      "Data columns (total 22 columns):\n",
      " #   Column     Non-Null Count  Dtype  \n",
      "---  ------     --------------  -----  \n",
      " 0   Cty        2938 non-null   object \n",
      " 1   Yr         2938 non-null   int64  \n",
      " 2   Dev        2938 non-null   object \n",
      " 3   L_Expec    2928 non-null   float64\n",
      " 4   A_Mort     2928 non-null   float64\n",
      " 5   Inf_D      2938 non-null   int64  \n",
      " 6   Alc        2744 non-null   float64\n",
      " 7   Per_Expen  2938 non-null   float64\n",
      " 8   HepB       2385 non-null   float64\n",
      " 9   Mes        2938 non-null   int64  \n",
      " 10  BMI        2904 non-null   float64\n",
      " 11  lt5y_D     2938 non-null   int64  \n",
      " 12  Polio      2919 non-null   float64\n",
      " 13  T_Expen    2712 non-null   float64\n",
      " 14  Dipt       2919 non-null   float64\n",
      " 15  HIV        2938 non-null   float64\n",
      " 16  GDP        2490 non-null   float64\n",
      " 17  Pop        2286 non-null   float64\n",
      " 18  Th_1-19y   2904 non-null   float64\n",
      " 19  Th_5-9y    2904 non-null   float64\n",
      " 20  Income     2771 non-null   float64\n",
      " 21  Ed         2775 non-null   float64\n",
      "dtypes: float64(16), int64(4), object(2)\n",
      "memory usage: 505.1+ KB\n"
     ]
    }
   ],
   "source": [
    "df = pd.read_csv(file_saved, usecols=lambda x: x != 'Unnamed: 0') # Drop Index Column\n",
    "\n",
    "df.info()"
   ]
  },
  {
   "cell_type": "code",
   "execution_count": null,
   "id": "4e1ecf30",
   "metadata": {},
   "outputs": [],
   "source": []
  },
  {
   "cell_type": "markdown",
   "id": "c01d24dc",
   "metadata": {},
   "source": [
    "==================================   \n",
    "**Columns with Missing Values**\n",
    "\n",
    "---\n",
    "\n",
    "LOW Number Missing\n",
    "- Life Expect\n",
    "- Adult Mortality\n",
    "- BMI\n",
    "- Polio\n",
    "- Diptheria\n",
    "- Thin 1-19\n",
    "- Thin 5-9\n",
    "\n",
    "---\n",
    "\n",
    "MED Number Missing\n",
    "- Alcohol \n",
    "- Total Expenditure\n",
    "- Income\n",
    "- Education\n",
    "\n",
    "---\n",
    "\n",
    "HIGH Number Missing\n",
    "- Hep B\n",
    "- GDP\n",
    "- Population\n",
    "\n",
    "=================================="
   ]
  },
  {
   "cell_type": "code",
   "execution_count": null,
   "id": "85ff713f",
   "metadata": {},
   "outputs": [],
   "source": []
  },
  {
   "cell_type": "code",
   "execution_count": null,
   "id": "9179a28c",
   "metadata": {},
   "outputs": [],
   "source": []
  }
 ],
 "metadata": {
  "kernelspec": {
   "display_name": "Python 3 (ipykernel)",
   "language": "python",
   "name": "python3"
  },
  "language_info": {
   "codemirror_mode": {
    "name": "ipython",
    "version": 3
   },
   "file_extension": ".py",
   "mimetype": "text/x-python",
   "name": "python",
   "nbconvert_exporter": "python",
   "pygments_lexer": "ipython3",
   "version": "3.9.13"
  },
  "toc": {
   "base_numbering": 1,
   "nav_menu": {},
   "number_sections": true,
   "sideBar": true,
   "skip_h1_title": true,
   "title_cell": "Table of Contents",
   "title_sidebar": "Contents",
   "toc_cell": true,
   "toc_position": {},
   "toc_section_display": true,
   "toc_window_display": false
  },
  "varInspector": {
   "cols": {
    "lenName": 16,
    "lenType": 16,
    "lenVar": 40
   },
   "kernels_config": {
    "python": {
     "delete_cmd_postfix": "",
     "delete_cmd_prefix": "del ",
     "library": "var_list.py",
     "varRefreshCmd": "print(var_dic_list())"
    },
    "r": {
     "delete_cmd_postfix": ") ",
     "delete_cmd_prefix": "rm(",
     "library": "var_list.r",
     "varRefreshCmd": "cat(var_dic_list()) "
    }
   },
   "types_to_exclude": [
    "module",
    "function",
    "builtin_function_or_method",
    "instance",
    "_Feature"
   ],
   "window_display": false
  }
 },
 "nbformat": 4,
 "nbformat_minor": 5
}
