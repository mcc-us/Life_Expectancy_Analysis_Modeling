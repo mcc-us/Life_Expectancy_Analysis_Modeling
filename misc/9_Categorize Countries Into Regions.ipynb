{
 "cells": [
  {
   "cell_type": "markdown",
   "id": "d9069ab7",
   "metadata": {
    "toc": true
   },
   "source": [
    "<h1>Table of Contents<span class=\"tocSkip\"></span></h1>\n",
    "<div class=\"toc\"><ul class=\"toc-item\"><li><span><a href=\"#File:-3_Categorize-Countires-into-Regions\" data-toc-modified-id=\"File:-3_Categorize-Countires-into-Regions-1\"><span class=\"toc-item-num\">1&nbsp;&nbsp;</span>File: 3_Categorize Countires into Regions</a></span></li></ul></div>"
   ]
  },
  {
   "cell_type": "markdown",
   "id": "0d6eaa04",
   "metadata": {},
   "source": [
    "## File: 3_Categorize Countires into Regions\n",
    "\n",
    "This file takes input of  `clean_data_1.csv`  and produces output of `regional_data_2.csv`\n",
    "- This list of countries and their regions was found on the site:\n",
    "\n",
    "    https://www.thoughtco.com/official-listing-of-countries-world-region-1435153"
   ]
  },
  {
   "cell_type": "code",
   "execution_count": 18,
   "id": "bb04b6d3",
   "metadata": {},
   "outputs": [],
   "source": [
    "# Common Python Libraries\n",
    "import numpy as np\n",
    "import pandas as pd\n",
    "import matplotlib.pyplot as plt\n",
    "%matplotlib inline\n",
    "import seaborn as sns"
   ]
  },
  {
   "cell_type": "code",
   "execution_count": 19,
   "id": "127f518f",
   "metadata": {},
   "outputs": [
    {
     "name": "stdout",
     "output_type": "stream",
     "text": [
      " clean_data_1.csv\t   'regional_data_22023-01-18 13:18:11.756900.csv'\r\n",
      " Life_Expectancy_Data.csv   regional_data_2.csv\r\n"
     ]
    }
   ],
   "source": [
    "!ls *.csv"
   ]
  },
  {
   "cell_type": "code",
   "execution_count": 20,
   "id": "2026d29a",
   "metadata": {},
   "outputs": [
    {
     "name": "stdout",
     "output_type": "stream",
     "text": [
      "<class 'pandas.core.frame.DataFrame'>\n",
      "RangeIndex: 2938 entries, 0 to 2937\n",
      "Data columns (total 22 columns):\n",
      " #   Column      Non-Null Count  Dtype   \n",
      "---  ------      --------------  -----   \n",
      " 0   Country     2938 non-null   object  \n",
      " 1   Year        2938 non-null   int64   \n",
      " 2   Status      2938 non-null   category\n",
      " 3   LifeExpec   2938 non-null   float64 \n",
      " 4   AdultMort   2938 non-null   float64 \n",
      " 5   InfD        2938 non-null   int64   \n",
      " 6   EtOH        2938 non-null   float64 \n",
      " 7   PercExpen   2938 non-null   float64 \n",
      " 8   HepB        2938 non-null   float64 \n",
      " 9   Measles     2938 non-null   int64   \n",
      " 10  BMI         2938 non-null   float64 \n",
      " 11  lt5yD       2938 non-null   int64   \n",
      " 12  Polio       2938 non-null   float64 \n",
      " 13  TotalExpen  2938 non-null   float64 \n",
      " 14  Diph        2938 non-null   float64 \n",
      " 15  HIV/AIDS    2938 non-null   float64 \n",
      " 16  GDP         2938 non-null   float64 \n",
      " 17  Population  2938 non-null   float64 \n",
      " 18  Thin1_19y   2938 non-null   float64 \n",
      " 19  Thin5_9y    2938 non-null   float64 \n",
      " 20  Income      2938 non-null   float64 \n",
      " 21  Education   2938 non-null   float64 \n",
      "dtypes: category(1), float64(16), int64(4), object(1)\n",
      "memory usage: 485.1+ KB\n"
     ]
    }
   ],
   "source": [
    "filename = 'clean_data_1.csv'\n",
    "\n",
    "df = pd.read_csv(filename, header=0)\n",
    "\n",
    "# Convert object 'Status' to categorical \n",
    "df[\"Status\"] = pd.Categorical(df[\"Status\"])\n",
    "\n",
    "df.info()"
   ]
  },
  {
   "cell_type": "code",
   "execution_count": 21,
   "id": "fe010053",
   "metadata": {},
   "outputs": [
    {
     "data": {
      "text/plain": [
       "array(['Afghanistan', 'Albania', 'Algeria', 'Angola',\n",
       "       'Antigua and Barbuda', 'Argentina', 'Armenia', 'Australia',\n",
       "       'Austria', 'Azerbaijan', 'Bahamas', 'Bahrain', 'Bangladesh',\n",
       "       'Barbados', 'Belarus', 'Belgium', 'Belize', 'Benin', 'Bhutan',\n",
       "       'Bolivia (Plurinational State of)', 'Bosnia and Herzegovina',\n",
       "       'Botswana', 'Brazil', 'Brunei Darussalam', 'Bulgaria',\n",
       "       'Burkina Faso', 'Burundi', \"Côte d'Ivoire\", 'Cabo Verde',\n",
       "       'Cambodia', 'Cameroon', 'Canada', 'Central African Republic',\n",
       "       'Chad', 'Chile', 'China', 'Colombia', 'Comoros', 'Congo',\n",
       "       'Cook Islands', 'Costa Rica', 'Croatia', 'Cuba', 'Cyprus',\n",
       "       'Czechia', \"Democratic People's Republic of Korea\",\n",
       "       'Democratic Republic of the Congo', 'Denmark', 'Djibouti',\n",
       "       'Dominica', 'Dominican Republic', 'Ecuador', 'Egypt',\n",
       "       'El Salvador', 'Equatorial Guinea', 'Eritrea', 'Estonia',\n",
       "       'Ethiopia', 'Fiji', 'Finland', 'France', 'Gabon', 'Gambia',\n",
       "       'Georgia', 'Germany', 'Ghana', 'Greece', 'Grenada', 'Guatemala',\n",
       "       'Guinea', 'Guinea-Bissau', 'Guyana', 'Haiti', 'Honduras',\n",
       "       'Hungary', 'Iceland', 'India', 'Indonesia',\n",
       "       'Iran (Islamic Republic of)', 'Iraq', 'Ireland', 'Israel', 'Italy',\n",
       "       'Jamaica', 'Japan', 'Jordan', 'Kazakhstan', 'Kenya', 'Kiribati',\n",
       "       'Kuwait', 'Kyrgyzstan', \"Lao People's Democratic Republic\",\n",
       "       'Latvia', 'Lebanon', 'Lesotho', 'Liberia', 'Libya', 'Lithuania',\n",
       "       'Luxembourg', 'Madagascar', 'Malawi', 'Malaysia', 'Maldives',\n",
       "       'Mali', 'Malta', 'Marshall Islands', 'Mauritania', 'Mauritius',\n",
       "       'Mexico', 'Micronesia (Federated States of)', 'Monaco', 'Mongolia',\n",
       "       'Montenegro', 'Morocco', 'Mozambique', 'Myanmar', 'Namibia',\n",
       "       'Nauru', 'Nepal', 'Netherlands', 'New Zealand', 'Nicaragua',\n",
       "       'Niger', 'Nigeria', 'Niue', 'Norway', 'Oman', 'Pakistan', 'Palau',\n",
       "       'Panama', 'Papua New Guinea', 'Paraguay', 'Peru', 'Philippines',\n",
       "       'Poland', 'Portugal', 'Qatar', 'Republic of Korea',\n",
       "       'Republic of Moldova', 'Romania', 'Russian Federation', 'Rwanda',\n",
       "       'Saint Kitts and Nevis', 'Saint Lucia',\n",
       "       'Saint Vincent and the Grenadines', 'Samoa', 'San Marino',\n",
       "       'Sao Tome and Principe', 'Saudi Arabia', 'Senegal', 'Serbia',\n",
       "       'Seychelles', 'Sierra Leone', 'Singapore', 'Slovakia', 'Slovenia',\n",
       "       'Solomon Islands', 'Somalia', 'South Africa', 'South Sudan',\n",
       "       'Spain', 'Sri Lanka', 'Sudan', 'Suriname', 'Swaziland', 'Sweden',\n",
       "       'Switzerland', 'Syrian Arab Republic', 'Tajikistan', 'Thailand',\n",
       "       'The former Yugoslav republic of Macedonia', 'Timor-Leste', 'Togo',\n",
       "       'Tonga', 'Trinidad and Tobago', 'Tunisia', 'Turkey',\n",
       "       'Turkmenistan', 'Tuvalu', 'Uganda', 'Ukraine',\n",
       "       'United Arab Emirates',\n",
       "       'United Kingdom of Great Britain and Northern Ireland',\n",
       "       'United Republic of Tanzania', 'United States of America',\n",
       "       'Uruguay', 'Uzbekistan', 'Vanuatu',\n",
       "       'Venezuela (Bolivarian Republic of)', 'Viet Nam', 'Yemen',\n",
       "       'Zambia', 'Zimbabwe'], dtype=object)"
      ]
     },
     "execution_count": 21,
     "metadata": {},
     "output_type": "execute_result"
    }
   ],
   "source": [
    "lst_countries = df.Country.unique()\n",
    "lst_countries"
   ]
  },
  {
   "cell_type": "code",
   "execution_count": 22,
   "id": "161590fa",
   "metadata": {},
   "outputs": [],
   "source": [
    "Asia = ['Bangladesh','Bhutan','Brunei','Cambodia','China','India','Indonesia','Japan','Kazakhstan',\n",
    "        \"Democratic People's Republic of Korea\",'South Korea','Kyrgyzstan',\"Lao People's Democratic Republic\",'Malaysia','Maldives','Mongolia','Myanmar',\n",
    "        'Nepal','Philippines','Singapore','Sri Lanka','Taiwan','Tajikistan','Thailand','Turkmenistan',\n",
    "        'Uzbekistan','Viet Nam']\n"
   ]
  },
  {
   "cell_type": "code",
   "execution_count": 23,
   "id": "378d56e9",
   "metadata": {},
   "outputs": [],
   "source": [
    "M_East_N_Africa = ['Afghanistan','Algeria','Azerbaijan','Bahrain','Egypt',\"Iran (Islamic Republic of)\",\n",
    "                   'Iraq','Israel','Jordan','Kuwait','Lebanon','Libya','Morocco','Oman','Pakistan','Qatar',\n",
    "                   'Saudi Arabia','Somalia','Syrian Arab Republic','Tunisia','Turkey',\n",
    "                   'United Arab Emirates','Yemen']\n"
   ]
  },
  {
   "cell_type": "code",
   "execution_count": 24,
   "id": "ad31034c",
   "metadata": {},
   "outputs": [],
   "source": [
    "Europe = ['Albania','Andorra','Armenia','Austria','Belarus','Belgium','Bosnia and Herzegovina',\n",
    "          'Bulgaria','Croatia','Cyprus','Czech Republic','Denmark','Estonia','Finland','France',\n",
    "          'Georgia','Germany','Greece','Hungary','Iceland','Ireland','Italy','Kosovo','Latvia',\n",
    "          'Liechtenstein','Lithuania','Luxembourg','Yugoslav republic of Macedonia','Malta',\n",
    "          'Republic of Moldova','Monaco','Montenegro',\n",
    "          'Netherlands','Norway','Poland','Portugal','Romania','Russia','San Marino','Serbia',\n",
    "          'Slovakia','Slovenia','Spain','Sweden','Switzerland','Ukraine',\n",
    "          'United Kingdom of Great Britain and Northern Ireland','Vatican City']\n"
   ]
  },
  {
   "cell_type": "code",
   "execution_count": 25,
   "id": "81729892",
   "metadata": {},
   "outputs": [],
   "source": [
    "N_America = ['Canada','Greenland','Mexico','United States of America']\n"
   ]
  },
  {
   "cell_type": "code",
   "execution_count": 26,
   "id": "8f56d73b",
   "metadata": {},
   "outputs": [],
   "source": [
    "C_America_Caribbean = ['Antigua and Barbuda','Bahamas','Barbados','Belize','Costa Rica','Cuba',\n",
    "                       'Dominica','Dominican Republic','El Salvador','Grenada','Guatemala',\n",
    "                       'Haiti','Honduras','Jamaica','Nicaragua','Panama','Saint Kitts and Nevis',\n",
    "                       'Saint Lucia','Saint Vincent and the Grenadines','Trinidad and Tobago']\n"
   ]
  },
  {
   "cell_type": "code",
   "execution_count": 27,
   "id": "1b9bcb09",
   "metadata": {},
   "outputs": [],
   "source": [
    "S_America = ['Argentina','Bolivia','Brazil','Chile','Colombia','Ecuador','Guyana',\n",
    "             'Paraguay','Peru','Suriname','Uruguay',\"Venezuela (Bolivarian Republic of)\"]\n"
   ]
  },
  {
   "cell_type": "code",
   "execution_count": 28,
   "id": "8696b3ad",
   "metadata": {},
   "outputs": [],
   "source": [
    "Sub_Saharan_Africa = ['Angola','Benin','Botswana','Burkina Faso','Burundi','Cameroon','Cape Verde',\n",
    "                      'The Central African Republic','Chad','Comoros','Republic of the Congo',\n",
    "                      'Democratic Republic of the Congo','Côte d\\'Ivoire','Djibouti',\n",
    "                      'Equatorial Guinea','Eritrea','Ethiopia','Gabon','Gambia','Ghana',\n",
    "                      'Guinea','Guinea-Bissau','Kenya','Lesotho','Liberia','Madagascar',\n",
    "                      'Malawi','Mali','Mauritania','Mauritius','Mozambique','Namibia','Niger',\n",
    "                      'Nigeria','Rwanda','Sao Tome and Principe','Senegal','Seychelles','Sierra Leone',\n",
    "                      'South Africa','South Sudan','Sudan','Swaziland','Tanzania','Togo','Uganda',\n",
    "                      'Zambia','Zimbabwe']\n"
   ]
  },
  {
   "cell_type": "code",
   "execution_count": 29,
   "id": "6f7c31a6",
   "metadata": {},
   "outputs": [],
   "source": [
    "Oceania = ['Australia','Timor-Leste','Fiji','Kiribati','Marshall Islands',\n",
    "           'Micronesia (Federated States of)','Nauru','Niue','New Zealand','Palau',\n",
    "           'Papua New Guinea','Samoa','Solomon Islands','Tonga','Tuvalu','Vanuatu']\n"
   ]
  },
  {
   "cell_type": "code",
   "execution_count": 30,
   "id": "3c285567",
   "metadata": {},
   "outputs": [
    {
     "name": "stdout",
     "output_type": "stream",
     "text": [
      "Good Job!\n"
     ]
    }
   ],
   "source": [
    "def country_2_region(country):\n",
    "    \"\"\"Assign a country name a region. There are EIGHT regions\"\"\"\n",
    "    \n",
    "    region = ''\n",
    "    if country in Asia:\n",
    "        region='Asia'\n",
    "    elif country in M_East_N_Africa:\n",
    "        region='M_East_N_Africa'\n",
    "    elif country in S_America:\n",
    "        region='S_America'\n",
    "    elif country in N_America:\n",
    "        region='N_America'\n",
    "    elif country in Europe:\n",
    "        region='Europe'\n",
    "    elif country in Oceania:\n",
    "        region='Oceania'\n",
    "    elif country in Sub_Saharan_Africa:\n",
    "        region='Sub_Saharan_Africa'\n",
    "    else: \n",
    "        region=\"C_America_Caribbean\"\n",
    "    \n",
    "    return region\n",
    "\n",
    "\n",
    "\n",
    "# Test with assertions\n",
    "\n",
    "assert 'Oceania'==country_2_region('Samoa')\n",
    "\n",
    "assert 'M_East_N_Africa'==country_2_region('Algeria')\n",
    "\n",
    "assert 'S_America'==country_2_region('Bolivia')\n",
    "\n",
    "assert 'N_America'==country_2_region('Canada')\n",
    "\n",
    "assert 'Europe'==country_2_region('Andorra')\n",
    "\n",
    "assert 'Sub_Saharan_Africa'==country_2_region('Botswana')\n",
    "\n",
    "print('Good Job!')"
   ]
  },
  {
   "cell_type": "code",
   "execution_count": 31,
   "id": "97f97a9d",
   "metadata": {},
   "outputs": [],
   "source": [
    "file_description = 'regional_data_2'\n",
    "suffix = 'csv'\n",
    "\n",
    "%run 9_Produce_file_names_w_date_time_stamp.ipynb"
   ]
  },
  {
   "cell_type": "code",
   "execution_count": 32,
   "id": "8dc95b6f",
   "metadata": {},
   "outputs": [
    {
     "data": {
      "text/plain": [
       "array(['M_East_N_Africa', 'Europe', 'Sub_Saharan_Africa',\n",
       "       'C_America_Caribbean', 'S_America', 'Oceania', 'Asia', 'N_America'],\n",
       "      dtype=object)"
      ]
     },
     "execution_count": 32,
     "metadata": {},
     "output_type": "execute_result"
    }
   ],
   "source": [
    "df['Region'] = df['Country'].apply(country_2_region)\n",
    "\n",
    "File_Name_Date_Time = NamePlusDateTime(file_description, suffix)\n",
    "\n",
    "df.to_csv(File_Name_Date_Time, index=False)\n",
    "\n",
    "lst_regions = df.Region.unique()\n",
    "lst_regions"
   ]
  },
  {
   "cell_type": "code",
   "execution_count": 33,
   "id": "5ee93e2e",
   "metadata": {},
   "outputs": [
    {
     "name": "stdout",
     "output_type": "stream",
     "text": [
      "<class 'pandas.core.frame.DataFrame'>\n",
      "RangeIndex: 2938 entries, 0 to 2937\n",
      "Data columns (total 23 columns):\n",
      " #   Column      Non-Null Count  Dtype   \n",
      "---  ------      --------------  -----   \n",
      " 0   Country     2938 non-null   object  \n",
      " 1   Year        2938 non-null   int64   \n",
      " 2   Status      2938 non-null   category\n",
      " 3   LifeExpec   2938 non-null   float64 \n",
      " 4   AdultMort   2938 non-null   float64 \n",
      " 5   InfD        2938 non-null   int64   \n",
      " 6   EtOH        2938 non-null   float64 \n",
      " 7   PercExpen   2938 non-null   float64 \n",
      " 8   HepB        2938 non-null   float64 \n",
      " 9   Measles     2938 non-null   int64   \n",
      " 10  BMI         2938 non-null   float64 \n",
      " 11  lt5yD       2938 non-null   int64   \n",
      " 12  Polio       2938 non-null   float64 \n",
      " 13  TotalExpen  2938 non-null   float64 \n",
      " 14  Diph        2938 non-null   float64 \n",
      " 15  HIV/AIDS    2938 non-null   float64 \n",
      " 16  GDP         2938 non-null   float64 \n",
      " 17  Population  2938 non-null   float64 \n",
      " 18  Thin1_19y   2938 non-null   float64 \n",
      " 19  Thin5_9y    2938 non-null   float64 \n",
      " 20  Income      2938 non-null   float64 \n",
      " 21  Education   2938 non-null   float64 \n",
      " 22  Region      2938 non-null   object  \n",
      "dtypes: category(1), float64(16), int64(4), object(2)\n",
      "memory usage: 508.1+ KB\n"
     ]
    }
   ],
   "source": [
    "df.info()"
   ]
  },
  {
   "cell_type": "code",
   "execution_count": 34,
   "id": "6401f485",
   "metadata": {},
   "outputs": [
    {
     "name": "stdout",
     "output_type": "stream",
     "text": [
      " clean_data_1.csv\r\n",
      " Life_Expectancy_Data.csv\r\n",
      "'regional_data_22023-01-18 13:18:11.756900.csv'\r\n",
      "'regional_data_2-2023-01-18 13:18:55.451573.csv'\r\n",
      " regional_data_2.csv\r\n"
     ]
    }
   ],
   "source": [
    "!ls *.csv"
   ]
  }
 ],
 "metadata": {
  "kernelspec": {
   "display_name": "Python 3 (ipykernel)",
   "language": "python",
   "name": "python3"
  },
  "language_info": {
   "codemirror_mode": {
    "name": "ipython",
    "version": 3
   },
   "file_extension": ".py",
   "mimetype": "text/x-python",
   "name": "python",
   "nbconvert_exporter": "python",
   "pygments_lexer": "ipython3",
   "version": "3.9.13"
  },
  "toc": {
   "base_numbering": 1,
   "nav_menu": {},
   "number_sections": true,
   "sideBar": true,
   "skip_h1_title": true,
   "title_cell": "Table of Contents",
   "title_sidebar": "Contents",
   "toc_cell": true,
   "toc_position": {},
   "toc_section_display": true,
   "toc_window_display": false
  },
  "varInspector": {
   "cols": {
    "lenName": 16,
    "lenType": 16,
    "lenVar": 40
   },
   "kernels_config": {
    "python": {
     "delete_cmd_postfix": "",
     "delete_cmd_prefix": "del ",
     "library": "var_list.py",
     "varRefreshCmd": "print(var_dic_list())"
    },
    "r": {
     "delete_cmd_postfix": ") ",
     "delete_cmd_prefix": "rm(",
     "library": "var_list.r",
     "varRefreshCmd": "cat(var_dic_list()) "
    }
   },
   "position": {
    "height": "264.85px",
    "left": "1390px",
    "right": "20px",
    "top": "120px",
    "width": "350px"
   },
   "types_to_exclude": [
    "module",
    "function",
    "builtin_function_or_method",
    "instance",
    "_Feature"
   ],
   "window_display": false
  }
 },
 "nbformat": 4,
 "nbformat_minor": 5
}
