{
 "cells": [
  {
   "cell_type": "markdown",
   "id": "a752c232",
   "metadata": {
    "toc": true
   },
   "source": [
    "<h1>Table of Contents<span class=\"tocSkip\"></span></h1>\n",
    "<div class=\"toc\"><ul class=\"toc-item\"></ul></div>"
   ]
  },
  {
   "cell_type": "markdown",
   "id": "3f5ac5ac",
   "metadata": {},
   "source": [
    "# Generate_Clean_Data_1.CSV_FROM_Life_Expectancy_Data.csv\n",
    "\n",
    "This python notebook simply takes the original data file `Life_Expectancy_Data.csv` and produces the Intermediate file `Clean_Data_1.csv`.\n",
    "\n",
    "**IMPORTANT** - This file is used to generate the FIRST INTERMEDIATE data file."
   ]
  },
  {
   "cell_type": "code",
   "execution_count": null,
   "id": "0240eb61",
   "metadata": {},
   "outputs": [],
   "source": [
    "# Common Python Libraries\n",
    "import numpy as np\n",
    "import pandas as pd\n",
    "import matplotlib.pyplot as plt\n",
    "%matplotlib inline\n",
    "import seaborn as sns"
   ]
  },
  {
   "cell_type": "code",
   "execution_count": null,
   "id": "dd13bccf",
   "metadata": {},
   "outputs": [],
   "source": [
    "!ls *.csv"
   ]
  },
  {
   "cell_type": "code",
   "execution_count": null,
   "id": "06115e7f",
   "metadata": {},
   "outputs": [],
   "source": [
    "filename = 'Life_Expectancy_Data.csv'\n",
    "\n",
    "# Clean up column names\n",
    "column_names = ['Country', 'Year', 'Status', 'LifeExpectancy', 'AdultMort', \n",
    "                'InfD', 'EtOH', 'PercExpen','HepB', 'Measles', \n",
    "                'BMI', 'lt5yD', 'Polio', 'TotalExpen', 'Diph', \n",
    "                'HIV', 'GDP','Population', 'Thin1_19y', 'Thin5_9y',\n",
    "                'Income', 'Education'\n",
    "               ]\n",
    "\n",
    "df = pd.read_csv(filename, header=0, names=column_names)\n",
    "\n",
    "df.info()"
   ]
  },
  {
   "cell_type": "code",
   "execution_count": null,
   "id": "4cab4dae",
   "metadata": {},
   "outputs": [],
   "source": [
    "# Number of null value for each variable\n",
    "df.isnull().sum()"
   ]
  },
  {
   "cell_type": "code",
   "execution_count": null,
   "id": "0190a1e6",
   "metadata": {},
   "outputs": [],
   "source": [
    "# Convert Dev status to a binary variable, where Developing Nations = 0, Developed Nation status = 1.\n",
    "df['Status'] = df['Status'].apply(lambda x: 0 if x == 'Developing' else 1).astype('int8')\n",
    "\n",
    "# Fillna with column means\n",
    "df['EtOH'].fillna(np.mean(df.EtOH),inplace=True)\n",
    "df['HepB'].fillna(np.mean(df.HepB),inplace=True)\n",
    "df['BMI'].fillna(np.mean(df.BMI),inplace=True)\n",
    "df['Polio'].fillna(np.mean(df.Polio),inplace=True)\n",
    "df['TotalExpen'].fillna(np.mean(df.TotalExpen),inplace=True)\n",
    "df['Diph'].fillna(np.mean(df.Diph),inplace=True)\n",
    "df['GDP'].fillna(np.mean(df.GDP),inplace=True)\n",
    "df['Population'].fillna(np.mean(df.Population),inplace=True)\n",
    "df['Thin1_19y'].fillna(np.mean(df['Thin1_19y']),inplace=True)\n",
    "df['Thin5_9y'].fillna(np.mean(df['Thin5_9y']),inplace=True)\n",
    "df['AdultMort'].fillna(np.mean(df.AdultMort),inplace=True)\n",
    "df['Education'].fillna(np.mean(df.Education),inplace=True)\n",
    "df['Income'].fillna(np.mean(df.Income),inplace=True)\n",
    "\n",
    "df.isnull().sum()"
   ]
  },
  {
   "cell_type": "code",
   "execution_count": null,
   "id": "c0f4a104",
   "metadata": {},
   "outputs": [],
   "source": [
    "# Save Intermediate dataframe\n",
    "df.to_csv(\"clean_mean_data_1.csv\", index=False)"
   ]
  },
  {
   "cell_type": "code",
   "execution_count": null,
   "id": "3052fce7",
   "metadata": {},
   "outputs": [],
   "source": [
    "!ls *.csv"
   ]
  },
  {
   "cell_type": "code",
   "execution_count": null,
   "id": "db4022dc",
   "metadata": {},
   "outputs": [],
   "source": []
  }
 ],
 "metadata": {
  "kernelspec": {
   "display_name": "Python 3 (ipykernel)",
   "language": "python",
   "name": "python3"
  },
  "language_info": {
   "codemirror_mode": {
    "name": "ipython",
    "version": 3
   },
   "file_extension": ".py",
   "mimetype": "text/x-python",
   "name": "python",
   "nbconvert_exporter": "python",
   "pygments_lexer": "ipython3",
   "version": "3.9.13"
  },
  "toc": {
   "base_numbering": 1,
   "nav_menu": {},
   "number_sections": true,
   "sideBar": true,
   "skip_h1_title": true,
   "title_cell": "Table of Contents",
   "title_sidebar": "Contents",
   "toc_cell": true,
   "toc_position": {},
   "toc_section_display": true,
   "toc_window_display": false
  },
  "varInspector": {
   "cols": {
    "lenName": 16,
    "lenType": 16,
    "lenVar": 40
   },
   "kernels_config": {
    "python": {
     "delete_cmd_postfix": "",
     "delete_cmd_prefix": "del ",
     "library": "var_list.py",
     "varRefreshCmd": "print(var_dic_list())"
    },
    "r": {
     "delete_cmd_postfix": ") ",
     "delete_cmd_prefix": "rm(",
     "library": "var_list.r",
     "varRefreshCmd": "cat(var_dic_list()) "
    }
   },
   "types_to_exclude": [
    "module",
    "function",
    "builtin_function_or_method",
    "instance",
    "_Feature"
   ],
   "window_display": false
  }
 },
 "nbformat": 4,
 "nbformat_minor": 5
}
