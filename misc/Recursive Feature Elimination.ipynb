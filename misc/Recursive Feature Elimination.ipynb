{
 "cells": [
  {
   "cell_type": "markdown",
   "id": "c6e03256",
   "metadata": {
    "toc": true
   },
   "source": [
    "<h1>Table of Contents<span class=\"tocSkip\"></span></h1>\n",
    "<div class=\"toc\"><ul class=\"toc-item\"></ul></div>"
   ]
  },
  {
   "cell_type": "markdown",
   "id": "9d9c2cad",
   "metadata": {},
   "source": [
    "# Recursive Feature Elimination\n",
    "\n",
    "WHO Life Expectancy Data"
   ]
  },
  {
   "cell_type": "code",
   "execution_count": 7,
   "id": "0a73355e",
   "metadata": {},
   "outputs": [],
   "source": [
    "# Common Python Libraries\n",
    "import pandas as pd\n",
    "import numpy as np\n",
    "import matplotlib.pyplot as plt\n",
    "%matplotlib inline\n",
    "import seaborn as sns\n",
    "\n",
    "# import warnings\n",
    "import warnings\n",
    "warnings.filterwarnings(\"ignore\")\n",
    "\n",
    "# Libraries from Sklearn\n",
    "from sklearn.preprocessing import StandardScaler\n",
    "from sklearn.model_selection import train_test_split"
   ]
  },
  {
   "cell_type": "code",
   "execution_count": 2,
   "id": "d7e1ccb8",
   "metadata": {},
   "outputs": [
    {
     "name": "stdout",
     "output_type": "stream",
     "text": [
      "1_Life_Expectancy_Data.csv  1_who_le_data.csv\r\n"
     ]
    }
   ],
   "source": [
    "!ls *.csv"
   ]
  },
  {
   "cell_type": "markdown",
   "id": "296f3ee1",
   "metadata": {},
   "source": [
    "# RE-Packagaging DATA"
   ]
  },
  {
   "cell_type": "code",
   "execution_count": 5,
   "id": "d03df7a9",
   "metadata": {},
   "outputs": [
    {
     "data": {
      "text/html": [
       "<div>\n",
       "<style scoped>\n",
       "    .dataframe tbody tr th:only-of-type {\n",
       "        vertical-align: middle;\n",
       "    }\n",
       "\n",
       "    .dataframe tbody tr th {\n",
       "        vertical-align: top;\n",
       "    }\n",
       "\n",
       "    .dataframe thead th {\n",
       "        text-align: right;\n",
       "    }\n",
       "</style>\n",
       "<table border=\"1\" class=\"dataframe\">\n",
       "  <thead>\n",
       "    <tr style=\"text-align: right;\">\n",
       "      <th></th>\n",
       "      <th>Dev</th>\n",
       "      <th>GDP</th>\n",
       "      <th>T_Expen</th>\n",
       "      <th>Income</th>\n",
       "      <th>Ed</th>\n",
       "      <th>Alc</th>\n",
       "      <th>HepB</th>\n",
       "      <th>Mes</th>\n",
       "      <th>Polio</th>\n",
       "      <th>Dipt</th>\n",
       "      <th>HIV</th>\n",
       "      <th>BMI</th>\n",
       "      <th>A_Mort</th>\n",
       "      <th>Inf_D</th>\n",
       "      <th>lt5y_D</th>\n",
       "      <th>Th_1-19y</th>\n",
       "      <th>Th_5-9y</th>\n",
       "      <th>L_Expec</th>\n",
       "    </tr>\n",
       "  </thead>\n",
       "  <tbody>\n",
       "    <tr>\n",
       "      <th>0</th>\n",
       "      <td>0</td>\n",
       "      <td>584.259210</td>\n",
       "      <td>8.16</td>\n",
       "      <td>0.479</td>\n",
       "      <td>10.1</td>\n",
       "      <td>0.01</td>\n",
       "      <td>65.0</td>\n",
       "      <td>1154</td>\n",
       "      <td>6.0</td>\n",
       "      <td>65.0</td>\n",
       "      <td>0.1</td>\n",
       "      <td>19.1</td>\n",
       "      <td>263.0</td>\n",
       "      <td>62</td>\n",
       "      <td>83</td>\n",
       "      <td>17.2</td>\n",
       "      <td>17.3</td>\n",
       "      <td>65.0</td>\n",
       "    </tr>\n",
       "    <tr>\n",
       "      <th>1</th>\n",
       "      <td>0</td>\n",
       "      <td>612.696514</td>\n",
       "      <td>8.18</td>\n",
       "      <td>0.476</td>\n",
       "      <td>10.0</td>\n",
       "      <td>0.01</td>\n",
       "      <td>62.0</td>\n",
       "      <td>492</td>\n",
       "      <td>58.0</td>\n",
       "      <td>62.0</td>\n",
       "      <td>0.1</td>\n",
       "      <td>18.6</td>\n",
       "      <td>271.0</td>\n",
       "      <td>64</td>\n",
       "      <td>86</td>\n",
       "      <td>17.5</td>\n",
       "      <td>17.5</td>\n",
       "      <td>59.9</td>\n",
       "    </tr>\n",
       "    <tr>\n",
       "      <th>2</th>\n",
       "      <td>0</td>\n",
       "      <td>631.744976</td>\n",
       "      <td>8.13</td>\n",
       "      <td>0.470</td>\n",
       "      <td>9.9</td>\n",
       "      <td>0.01</td>\n",
       "      <td>64.0</td>\n",
       "      <td>430</td>\n",
       "      <td>62.0</td>\n",
       "      <td>64.0</td>\n",
       "      <td>0.1</td>\n",
       "      <td>18.1</td>\n",
       "      <td>268.0</td>\n",
       "      <td>66</td>\n",
       "      <td>89</td>\n",
       "      <td>17.7</td>\n",
       "      <td>17.7</td>\n",
       "      <td>59.9</td>\n",
       "    </tr>\n",
       "    <tr>\n",
       "      <th>3</th>\n",
       "      <td>0</td>\n",
       "      <td>669.959000</td>\n",
       "      <td>8.52</td>\n",
       "      <td>0.463</td>\n",
       "      <td>9.8</td>\n",
       "      <td>0.01</td>\n",
       "      <td>67.0</td>\n",
       "      <td>2787</td>\n",
       "      <td>67.0</td>\n",
       "      <td>67.0</td>\n",
       "      <td>0.1</td>\n",
       "      <td>17.6</td>\n",
       "      <td>272.0</td>\n",
       "      <td>69</td>\n",
       "      <td>93</td>\n",
       "      <td>17.9</td>\n",
       "      <td>18.0</td>\n",
       "      <td>59.5</td>\n",
       "    </tr>\n",
       "    <tr>\n",
       "      <th>4</th>\n",
       "      <td>0</td>\n",
       "      <td>63.537231</td>\n",
       "      <td>7.87</td>\n",
       "      <td>0.454</td>\n",
       "      <td>9.5</td>\n",
       "      <td>0.01</td>\n",
       "      <td>68.0</td>\n",
       "      <td>3013</td>\n",
       "      <td>68.0</td>\n",
       "      <td>68.0</td>\n",
       "      <td>0.1</td>\n",
       "      <td>17.2</td>\n",
       "      <td>275.0</td>\n",
       "      <td>71</td>\n",
       "      <td>97</td>\n",
       "      <td>18.2</td>\n",
       "      <td>18.2</td>\n",
       "      <td>59.2</td>\n",
       "    </tr>\n",
       "  </tbody>\n",
       "</table>\n",
       "</div>"
      ],
      "text/plain": [
       "   Dev         GDP  T_Expen  Income    Ed   Alc  HepB   Mes  Polio  Dipt  HIV  \\\n",
       "0    0  584.259210     8.16   0.479  10.1  0.01  65.0  1154    6.0  65.0  0.1   \n",
       "1    0  612.696514     8.18   0.476  10.0  0.01  62.0   492   58.0  62.0  0.1   \n",
       "2    0  631.744976     8.13   0.470   9.9  0.01  64.0   430   62.0  64.0  0.1   \n",
       "3    0  669.959000     8.52   0.463   9.8  0.01  67.0  2787   67.0  67.0  0.1   \n",
       "4    0   63.537231     7.87   0.454   9.5  0.01  68.0  3013   68.0  68.0  0.1   \n",
       "\n",
       "    BMI  A_Mort  Inf_D  lt5y_D  Th_1-19y  Th_5-9y  L_Expec  \n",
       "0  19.1   263.0     62      83      17.2     17.3     65.0  \n",
       "1  18.6   271.0     64      86      17.5     17.5     59.9  \n",
       "2  18.1   268.0     66      89      17.7     17.7     59.9  \n",
       "3  17.6   272.0     69      93      17.9     18.0     59.5  \n",
       "4  17.2   275.0     71      97      18.2     18.2     59.2  "
      ]
     },
     "execution_count": 5,
     "metadata": {},
     "output_type": "execute_result"
    }
   ],
   "source": [
    "column_names = [\n",
    "    'Cty', 'Yr', 'Dev', 'L_Expec', 'A_Mort', 'Inf_D', 'Alc', 'Per_Expen',\n",
    "    'HepB', 'Mes', 'BMI', 'lt5y_D', 'Polio', 'T_Expen', 'Dipt', 'HIV', 'GDP',\n",
    "    'Pop', 'Th_1-19y', 'Th_5-9y', 'Income', 'Ed'\n",
    "]\n",
    "\n",
    "df = pd.read_csv('1_Life_Expectancy_Data.csv', header=0, names=column_names)\n",
    "\n",
    "# RE-ORDER dataframe\n",
    "df = df[[\n",
    "    'Yr', 'Cty', 'Dev', 'GDP', 'T_Expen', 'Per_Expen', 'Income', 'Pop', 'Ed',\n",
    "    'Alc', 'HepB', 'Mes', 'Polio', 'Dipt', 'HIV', 'BMI', 'A_Mort', 'Inf_D', 'lt5y_D',\n",
    "    'Th_1-19y', 'Th_5-9y', 'L_Expec'\n",
    "]]\n",
    "\n",
    "# Discretize Developing Nation status ('Dev') to {0,1}\n",
    "df['Dev'] = df['Dev'].apply(lambda x: 0\n",
    "                            if x.strip() == 'Developing' else 1).astype('int8')\n",
    "\n",
    "# drop columns based Correlation Coeff.\n",
    "df.drop(['Per_Expen', 'Pop', 'Cty', 'Yr'], axis=1, inplace=True)\n",
    "\n",
    "df.to_csv(\"SUBSET_who_le_data.csv\", index=False)\n",
    "\n",
    "df.head()"
   ]
  },
  {
   "cell_type": "code",
   "execution_count": 9,
   "id": "8ebd9095",
   "metadata": {},
   "outputs": [],
   "source": [
    "x = df.drop('L_Expec', axis=1)\n",
    "y = df[['L_Expec']]\n",
    "\n",
    "x_train, x_test, y_train, y_test= train_test_split(x, y, \n",
    "                                                   test_size=0.3,\n",
    "                                                   random_state=100)\n",
    "# Cannot Use Stratify.\n",
    "# The stratify parameter set it to split data in a way to allocate \n",
    "# test_size amount of data to each class. In this case, you don't have sufficient class labels \n",
    "# of one of your classes to keep the data splitting ratio equal to test_size."
   ]
  },
  {
   "cell_type": "code",
   "execution_count": null,
   "id": "ff1c0490",
   "metadata": {},
   "outputs": [],
   "source": [
    "from sklearn.preprocessing import StandardScaler\n",
    "\n",
    "scaler = StandardScaler()\n",
    "\n",
    "num_vars = ['GDP','T_Expen','Income','Ed','Alc', \n",
    "            'HepB','Mes','Polio','HIV','BMI',\n",
    "            'A_Mort', 'lt5y_D', 'Th_5-9y'\n",
    "           ]\n",
    "\n",
    "x_train[num_vars] = scaler.fit_transform(x_train[num_vars])"
   ]
  },
  {
   "cell_type": "code",
   "execution_count": null,
   "id": "6bf5e2a8",
   "metadata": {},
   "outputs": [],
   "source": [
    "#Model Building\n",
    "\n",
    "#RFE\n",
    "from sklearn.feature_selection import RFE\n",
    "from sklearn.linear_model import LinearRegression\n",
    "import statsmodels.api as sm \n",
    "from statsmodels.stats.outliers_influence import variance_inflation_factor\n",
    "\n",
    "\n",
    "lm = LinearRegression()\n",
    "\n",
    "lm.fit(x_train,y_train)\n",
    "\n",
    "rfe = RFE(lm)\n",
    "\n",
    "rfe = rfe.fit(x_train, y_train)\n",
    "\n"
   ]
  },
  {
   "cell_type": "code",
   "execution_count": null,
   "id": "91ae65ce",
   "metadata": {},
   "outputs": [],
   "source": [
    "list(zip(x_train.columns,rfe.support_,rfe.ranking_))\n"
   ]
  },
  {
   "cell_type": "code",
   "execution_count": null,
   "id": "70e12e0d",
   "metadata": {},
   "outputs": [],
   "source": [
    "x_train.columns[rfe.support_]\n",
    "\n"
   ]
  },
  {
   "cell_type": "code",
   "execution_count": null,
   "id": "6ef23b9b",
   "metadata": {},
   "outputs": [],
   "source": [
    "x_train_rfe = x_train[x_train.columns[rfe.support_]]\n",
    "x_train_rfe.head()\n"
   ]
  },
  {
   "cell_type": "code",
   "execution_count": null,
   "id": "345b30bd",
   "metadata": {},
   "outputs": [],
   "source": [
    "def build_model(x,y):\n",
    "    x = sm.add_constant(x) #Adding the constant\n",
    "    lm = sm.OLS(y,x).fit() # fitting the model\n",
    "    print(lm.summary()) # model summary\n",
    "    return x\n",
    "    \n",
    "def checkVIF(x):\n",
    "    vif = pd.DataFrame()\n",
    "    vif['Features'] = x.columns\n",
    "    vif['VIF'] = [variance_inflation_factor(x.values, i) for i in range(x.shape[1])]\n",
    "    vif['VIF'] = round(vif['VIF'], 2)\n",
    "    vif = vif.sort_values(by = \"VIF\", ascending = False)\n",
    "    return(vif)\n"
   ]
  },
  {
   "cell_type": "code",
   "execution_count": null,
   "id": "cace997a",
   "metadata": {
    "scrolled": false
   },
   "outputs": [],
   "source": [
    "# MODEL 1\n",
    "\n",
    "x_train_new = build_model(x_train_rfe,y_train)"
   ]
  },
  {
   "cell_type": "code",
   "execution_count": null,
   "id": "73d3ecb9",
   "metadata": {},
   "outputs": [],
   "source": []
  },
  {
   "cell_type": "code",
   "execution_count": null,
   "id": "9bfce1e0",
   "metadata": {},
   "outputs": [],
   "source": []
  },
  {
   "cell_type": "code",
   "execution_count": null,
   "id": "c388697a",
   "metadata": {},
   "outputs": [],
   "source": []
  },
  {
   "cell_type": "code",
   "execution_count": null,
   "id": "84a82be3",
   "metadata": {},
   "outputs": [],
   "source": []
  },
  {
   "cell_type": "code",
   "execution_count": 6,
   "id": "6f210643",
   "metadata": {},
   "outputs": [
    {
     "ename": "NameError",
     "evalue": "name 'y' is not defined",
     "output_type": "error",
     "traceback": [
      "\u001b[0;31m---------------------------------------------------------------------------\u001b[0m",
      "\u001b[0;31mNameError\u001b[0m                                 Traceback (most recent call last)",
      "\u001b[0;32m/tmp/ipykernel_13356/4139117942.py\u001b[0m in \u001b[0;36m<module>\u001b[0;34m\u001b[0m\n\u001b[1;32m      3\u001b[0m \u001b[0mplt\u001b[0m\u001b[0;34m.\u001b[0m\u001b[0msubplot\u001b[0m\u001b[0;34m(\u001b[0m\u001b[0;36m1\u001b[0m\u001b[0;34m,\u001b[0m\u001b[0;36m2\u001b[0m\u001b[0;34m,\u001b[0m\u001b[0;36m1\u001b[0m\u001b[0;34m)\u001b[0m\u001b[0;34m\u001b[0m\u001b[0;34m\u001b[0m\u001b[0m\n\u001b[1;32m      4\u001b[0m \u001b[0mplt\u001b[0m\u001b[0;34m.\u001b[0m\u001b[0mtitle\u001b[0m\u001b[0;34m(\u001b[0m\u001b[0;34m'Histogram of Life Expect. (All Countries)'\u001b[0m\u001b[0;34m)\u001b[0m\u001b[0;34m\u001b[0m\u001b[0;34m\u001b[0m\u001b[0m\n\u001b[0;32m----> 5\u001b[0;31m \u001b[0msns\u001b[0m\u001b[0;34m.\u001b[0m\u001b[0mdistplot\u001b[0m\u001b[0;34m(\u001b[0m\u001b[0my\u001b[0m\u001b[0;34m)\u001b[0m\u001b[0;34m\u001b[0m\u001b[0;34m\u001b[0m\u001b[0m\n\u001b[0m\u001b[1;32m      6\u001b[0m \u001b[0;34m\u001b[0m\u001b[0m\n\u001b[1;32m      7\u001b[0m \u001b[0mplt\u001b[0m\u001b[0;34m.\u001b[0m\u001b[0msubplot\u001b[0m\u001b[0;34m(\u001b[0m\u001b[0;36m1\u001b[0m\u001b[0;34m,\u001b[0m\u001b[0;36m2\u001b[0m\u001b[0;34m,\u001b[0m\u001b[0;36m2\u001b[0m\u001b[0;34m)\u001b[0m\u001b[0;34m\u001b[0m\u001b[0;34m\u001b[0m\u001b[0m\n",
      "\u001b[0;31mNameError\u001b[0m: name 'y' is not defined"
     ]
    },
    {
     "data": {
      "image/png": "[encoded data removed]",
      "text/plain": [
       "<Figure size 2000x800 with 1 Axes>"
      ]
     },
     "metadata": {},
     "output_type": "display_data"
    }
   ],
   "source": [
    "plt.figure(figsize=(20,8))\n",
    "\n",
    "plt.subplot(1,2,1)\n",
    "plt.title('Histogram of Life Expect. (All Countries)')\n",
    "sns.distplot(y)\n",
    "\n",
    "plt.subplot(1,2,2)\n",
    "plt.title('Life Expect. (All Countries)')\n",
    "sns.boxplot(y)\n",
    "\n",
    "\n",
    "plt.show()"
   ]
  },
  {
   "cell_type": "code",
   "execution_count": null,
   "id": "02c605bb",
   "metadata": {},
   "outputs": [],
   "source": [
    "plt.figure(figsize = (13, 13))\n",
    "\n",
    "heatmap = sns.heatmap(df.corr(), vmin = -1, vmax = 1, annot = True, annot_kws={\"fontsize\":8})\n",
    "\n",
    "heatmap.set_title('Who Life Expectancy Heatmap', fontdict = {'fontsize' : 18}, pad = 12)"
   ]
  },
  {
   "cell_type": "code",
   "execution_count": null,
   "id": "9926cf2b",
   "metadata": {},
   "outputs": [],
   "source": []
  },
  {
   "cell_type": "code",
   "execution_count": null,
   "id": "b3dda82b",
   "metadata": {},
   "outputs": [],
   "source": [
    "#Clustermap\n",
    "\n",
    "#Clustermap table shows not only all correlation between variables, but also group (cluster) relationships.\n",
    "\n",
    "#plt.figure(figsize = (4, 4))\n",
    "#clustermap = sns.clustermap(raw_boston.corr(), vmin = -1, vmax = 1, annot = True)\n",
    "\n"
   ]
  },
  {
   "cell_type": "code",
   "execution_count": null,
   "id": "04a1acb5",
   "metadata": {},
   "outputs": [],
   "source": []
  },
  {
   "cell_type": "code",
   "execution_count": null,
   "id": "f85ba70c",
   "metadata": {},
   "outputs": [],
   "source": [
    "print(y.describe(percentiles = [0.05,0.25,0.5,0.75,0.9,0.95]))"
   ]
  }
 ],
 "metadata": {
  "kernelspec": {
   "display_name": "Python 3 (ipykernel)",
   "language": "python",
   "name": "python3"
  },
  "language_info": {
   "codemirror_mode": {
    "name": "ipython",
    "version": 3
   },
   "file_extension": ".py",
   "mimetype": "text/x-python",
   "name": "python",
   "nbconvert_exporter": "python",
   "pygments_lexer": "ipython3",
   "version": "3.9.13"
  },
  "toc": {
   "base_numbering": 1,
   "nav_menu": {},
   "number_sections": true,
   "sideBar": true,
   "skip_h1_title": true,
   "title_cell": "Table of Contents",
   "title_sidebar": "Contents",
   "toc_cell": true,
   "toc_position": {},
   "toc_section_display": true,
   "toc_window_display": false
  },
  "varInspector": {
   "cols": {
    "lenName": 16,
    "lenType": 16,
    "lenVar": 40
   },
   "kernels_config": {
    "python": {
     "delete_cmd_postfix": "",
     "delete_cmd_prefix": "del ",
     "library": "var_list.py",
     "varRefreshCmd": "print(var_dic_list())"
    },
    "r": {
     "delete_cmd_postfix": ") ",
     "delete_cmd_prefix": "rm(",
     "library": "var_list.r",
     "varRefreshCmd": "cat(var_dic_list()) "
    }
   },
   "types_to_exclude": [
    "module",
    "function",
    "builtin_function_or_method",
    "instance",
    "_Feature"
   ],
   "window_display": false
  }
 },
 "nbformat": 4,
 "nbformat_minor": 5
}
