{
 "cells": [
  {
   "cell_type": "markdown",
   "id": "c6e03256",
   "metadata": {
    "toc": true
   },
   "source": [
    "<h1>Table of Contents<span class=\"tocSkip\"></span></h1>\n",
    "<div class=\"toc\"><ul class=\"toc-item\"><li><span><a href=\"#Recursive_Feature_Elimination\" data-toc-modified-id=\"Recursive_Feature_Elimination-1\"><span class=\"toc-item-num\">1&nbsp;&nbsp;</span>Recursive_Feature_Elimination</a></span></li><li><span><a href=\"#Recursive-Feature-Elimination\" data-toc-modified-id=\"Recursive-Feature-Elimination-2\"><span class=\"toc-item-num\">2&nbsp;&nbsp;</span>Recursive Feature Elimination</a></span><ul class=\"toc-item\"><li><span><a href=\"#train_test_split-Section\" data-toc-modified-id=\"train_test_split-Section-2.1\"><span class=\"toc-item-num\">2.1&nbsp;&nbsp;</span>train_test_split Section</a></span></li><li><span><a href=\"#NOTE-1:\" data-toc-modified-id=\"NOTE-1:-2.2\"><span class=\"toc-item-num\">2.2&nbsp;&nbsp;</span>NOTE 1:</a></span></li></ul></li><li><span><a href=\"#MODEL-1:-5-Feature-Linear-Model\" data-toc-modified-id=\"MODEL-1:-5-Feature-Linear-Model-3\"><span class=\"toc-item-num\">3&nbsp;&nbsp;</span>MODEL 1: 5 Feature Linear Model</a></span><ul class=\"toc-item\"><li><span><a href=\"#Model-1:-5-Feature-Linear-Model\" data-toc-modified-id=\"Model-1:-5-Feature-Linear-Model-3.1\"><span class=\"toc-item-num\">3.1&nbsp;&nbsp;</span>Model 1: 5 Feature Linear Model</a></span></li></ul></li><li><span><a href=\"#MODEL-2\" data-toc-modified-id=\"MODEL-2-4\"><span class=\"toc-item-num\">4&nbsp;&nbsp;</span>MODEL 2</a></span></li></ul></div>"
   ]
  },
  {
   "cell_type": "markdown",
   "id": "e8f969db",
   "metadata": {},
   "source": [
    "# Life_Expectancy_WHO_UN_Analysis_Modeling\n",
    "\n",
    "## Recursive_Feature_Elimination\n",
    "\n",
    "To:&nbsp;&nbsp;&nbsp;&nbsp; Magnimind\n",
    "\n",
    "From: Matt Curcio, matt.curcio.ri@gmail.com\n",
    "\n",
    "Date: 2023-01-24\n",
    "\n",
    "Re:&nbsp;&nbsp;&nbsp; NOTEBOOK #5\n",
    "\n",
    "---\n",
    "\n",
    "\n",
    "- **Use** `Clean_LE_Data_FEng_3.csv`"
   ]
  },
  {
   "cell_type": "code",
   "execution_count": 8,
   "id": "0a73355e",
   "metadata": {
    "scrolled": true
   },
   "outputs": [],
   "source": [
    "# Common Python Libraries\n",
    "import pandas as pd\n",
    "import numpy as np\n",
    "import matplotlib.pyplot as plt\n",
    "%matplotlib inline\n",
    "import seaborn as sns\n",
    "\n",
    "# import warnings\n",
    "import warnings\n",
    "warnings.filterwarnings(\"ignore\")\n",
    "\n",
    "# Libraries from Sklearn\n",
    "from sklearn.preprocessing import MinMaxScaler\n",
    "from sklearn.model_selection import train_test_split\n",
    "from sklearn.feature_selection import RFE\n",
    "from sklearn.linear_model import LinearRegression\n",
    "\n",
    "import statsmodels.api as sm \n",
    "\n",
    "from statsmodels.stats.outliers_influence import variance_inflation_factor"
   ]
  },
  {
   "cell_type": "code",
   "execution_count": 9,
   "id": "d7e1ccb8",
   "metadata": {},
   "outputs": [
    {
     "name": "stdout",
     "output_type": "stream",
     "text": [
      "Clean_LE_Data_FEng_3.csv      Life_Expectancy_Data.csv\ty_test_LE_Splits.csv\r\n",
      "Clean_LE_Data_Post_EDA_2.csv  x_test_LE_Splits.csv\ty_train_LE_Splits.csv\r\n",
      "Clean_LE_Data_w_Means_1.csv   x_train_LE_Splits.csv\r\n"
     ]
    }
   ],
   "source": [
    "!ls *.csv"
   ]
  },
  {
   "cell_type": "code",
   "execution_count": 10,
   "id": "d03df7a9",
   "metadata": {
    "scrolled": true
   },
   "outputs": [
    {
     "name": "stdout",
     "output_type": "stream",
     "text": [
      "<class 'pandas.core.frame.DataFrame'>\n",
      "RangeIndex: 2928 entries, 0 to 2927\n",
      "Data columns (total 17 columns):\n",
      " #   Column          Non-Null Count  Dtype  \n",
      "---  ------          --------------  -----  \n",
      " 0   Country         2928 non-null   object \n",
      " 1   Year            2928 non-null   int64  \n",
      " 2   Status          2928 non-null   int64  \n",
      " 3   LifeExpectancy  2928 non-null   float64\n",
      " 4   AdultMort       2928 non-null   float64\n",
      " 5   EtOH            2928 non-null   float64\n",
      " 6   BMI             2928 non-null   float64\n",
      " 7   lt5yD           2928 non-null   int64  \n",
      " 8   Polio           2928 non-null   float64\n",
      " 9   TotalExpen      2928 non-null   float64\n",
      " 10  DTP             2928 non-null   float64\n",
      " 11  HIV             2928 non-null   float64\n",
      " 12  Thin5_9y        2928 non-null   float64\n",
      " 13  Income          2928 non-null   float64\n",
      " 14  Education       2928 non-null   float64\n",
      " 15  Region          2928 non-null   object \n",
      " 16  ge35BMI         2928 non-null   int64  \n",
      "dtypes: float64(11), int64(4), object(2)\n",
      "memory usage: 389.0+ KB\n"
     ]
    }
   ],
   "source": [
    "# Reality check ;)\n",
    "\n",
    "df = pd.read_csv(\"Clean_LE_Data_FEng_3.csv\")\n",
    "\n",
    "df.head(3)"
   ]
  },
  {
   "cell_type": "markdown",
   "id": "e4933fbf",
   "metadata": {},
   "source": [
    "## Recursive Feature Elimination\n",
    "\n",
    "### train_test_split Section"
   ]
  },
  {
   "cell_type": "code",
   "execution_count": 11,
   "id": "8ebd9095",
   "metadata": {},
   "outputs": [
    {
     "name": "stdout",
     "output_type": "stream",
     "text": [
      "\n",
      "Shape of x_train is {(2049, 14)}\n",
      "\n",
      "Shape of y_train is {(2049, 1)}\n"
     ]
    }
   ],
   "source": [
    "x = df.drop(['LifeExpectancy', 'Country', 'Region'], axis=1)\n",
    "y = df[['LifeExpectancy']]\n",
    "\n",
    "x_train, x_test, y_train, y_test = train_test_split(x, y,\n",
    "                                                    test_size=0.3,\n",
    "                                                    random_state=100)\n",
    "\n",
    "# Convert to categorical\n",
    "df['Status'] = pd.Categorical(df['Status']) \n",
    "\n",
    "print('\\nShape of x_train is', {x_train.shape})\n",
    "print('\\nShape of y_train is', {y_train.shape})"
   ]
  },
  {
   "cell_type": "code",
   "execution_count": 12,
   "id": "0809497b",
   "metadata": {},
   "outputs": [],
   "source": [
    "df.to_csv('x_train_LE_Splits.csv', index=False)\n",
    "df.to_csv('x_test_LE_Splits.csv', index=False)\n",
    "df.to_csv('y_train_LE_Splits.csv', index=False)\n",
    "df.to_csv('y_test_LE_Splits.csv', index=False)"
   ]
  },
  {
   "cell_type": "markdown",
   "id": "da31dcea",
   "metadata": {},
   "source": [
    "### NOTE 1:\n",
    "- Cannot Use Stratify, option for 'train_test_split'. In this case, there is not sufficient class labels of one of your classes to keep the data splitting ratio equal to test_size."
   ]
  },
  {
   "cell_type": "code",
   "execution_count": 13,
   "id": "c2a92794",
   "metadata": {},
   "outputs": [],
   "source": [
    "scaler = MinMaxScaler()\n",
    "\n",
    "numerical_vars = ['AdultMort', 'EtOH', 'BMI', 'lt5yD', 'Polio',\n",
    "                  'TotalExpen', 'DTP', 'HIV', 'Thin5_9y','Income',\n",
    "                  'Education', 'ge35BMI']\n",
    "                  \n",
    "x_train[numerical_vars] = scaler.fit_transform(x_train[numerical_vars])\n"
   ]
  },
  {
   "cell_type": "code",
   "execution_count": 14,
   "id": "24f97803",
   "metadata": {},
   "outputs": [],
   "source": [
    "lm = LinearRegression()\n",
    "lm.fit(x_train,y_train)\n",
    "rfe = RFE(lm)\n",
    "rfe = rfe.fit(x_train, y_train)"
   ]
  },
  {
   "cell_type": "code",
   "execution_count": 17,
   "id": "b5559b76",
   "metadata": {},
   "outputs": [],
   "source": [
    "feature_importance = list(zip(x_train.columns,rfe.support_,rfe.ranking_))"
   ]
  },
  {
   "cell_type": "code",
   "execution_count": 16,
   "id": "1e980ac2",
   "metadata": {},
   "outputs": [
    {
     "data": {
      "text/plain": [
       "[('AdultMort', True, 1),\n",
       " ('lt5yD', True, 1),\n",
       " ('Polio', True, 1),\n",
       " ('DTP', True, 1),\n",
       " ('HIV', True, 1),\n",
       " ('Income', True, 1),\n",
       " ('Education', True, 1),\n",
       " ('Status', False, 2),\n",
       " ('ge35BMI', False, 3),\n",
       " ('TotalExpen', False, 4),\n",
       " ('Thin5_9y', False, 5),\n",
       " ('BMI', False, 6),\n",
       " ('Year', False, 7),\n",
       " ('EtOH', False, 8)]"
      ]
     },
     "execution_count": 16,
     "metadata": {},
     "output_type": "execute_result"
    }
   ],
   "source": [
    "def Sort_Tuple(tup):\n",
    "    \"\"\" reverse = None (Sorts in Ascending order)\n",
    "    key is set to sort using second element of\n",
    "    sublist lambda has been used\n",
    "    \"\"\"\n",
    "    tup.sort(key = lambda x: x[2])\n",
    "    return tup\n",
    " \n",
    "\n",
    "# printing the sorted list of tuples\n",
    "Sort_Tuple(feature_importance)"
   ]
  },
  {
   "cell_type": "markdown",
   "id": "302f7ea0",
   "metadata": {},
   "source": [
    "**NOTE 5: Inference**\n",
    "    \n",
    "- Try first model with `Income`, `Education`,`HIV`, `DTP`, `Polio`, `lt5y_D`,`AdultMort`"
   ]
  },
  {
   "cell_type": "code",
   "execution_count": null,
   "id": "1d0907b0",
   "metadata": {},
   "outputs": [],
   "source": [
    "x_train.columns[selector.support_]"
   ]
  },
  {
   "cell_type": "code",
   "execution_count": null,
   "id": "39831bd8",
   "metadata": {},
   "outputs": [],
   "source": [
    "https://www.kaggle.com/code/goyalshalini93/car-price-prediction-linear-regression-rfe"
   ]
  },
  {
   "cell_type": "code",
   "execution_count": null,
   "id": "b72b53e7",
   "metadata": {},
   "outputs": [],
   "source": []
  },
  {
   "cell_type": "code",
   "execution_count": null,
   "id": "6cb96bfc",
   "metadata": {},
   "outputs": [],
   "source": []
  },
  {
   "cell_type": "markdown",
   "id": "c072eeb5",
   "metadata": {},
   "source": [
    "## MODEL 1: 5 Feature Linear Model"
   ]
  },
  {
   "cell_type": "code",
   "execution_count": null,
   "id": "2cb348cf",
   "metadata": {},
   "outputs": [],
   "source": [
    "# MODEL 1\n",
    "\n",
    "x_train_new = build_model(x_train_rfe, y_train)"
   ]
  },
  {
   "cell_type": "markdown",
   "id": "efdff19e",
   "metadata": {},
   "source": [
    "---\n",
    "\n",
    "### Model 1: 5 Feature Linear Model\n",
    "\n",
    "$$Life ~Expectancy ~=~ 57.0 ~+~ 10.1*Income ~+~ 18.4*Education ~-~ 24.1*HIV ~-~ 17.7*Adult ~Mortality ~-~ 10.7*lt5y-D$$\n",
    "\n",
    "---"
   ]
  },
  {
   "cell_type": "markdown",
   "id": "8a24cd12",
   "metadata": {},
   "source": [
    "## MODEL 2"
   ]
  },
  {
   "cell_type": "code",
   "execution_count": null,
   "id": "2eb9a0af",
   "metadata": {},
   "outputs": [],
   "source": [
    "# MODEL 2\n",
    "\n",
    "x_train_8 = x_train[['Income', 'Ed', 'HIV', 'A_Mort', 'lt5y_D', 'Dipt', 'BMI', 'Polio']]\n",
    "\n",
    "print(x_train_8.shape)\n",
    "\n",
    "x_train_8.head()\n",
    "\n",
    "x_train_new = build_model(x_train_8, y_train)\n"
   ]
  },
  {
   "cell_type": "code",
   "execution_count": null,
   "id": "7363cc8a",
   "metadata": {},
   "outputs": [],
   "source": [
    "def scatter(df, column, fig):\n",
    "    plt.subplot(5,2,fig)\n",
    "    plt.scatter(df[column], df['L_Expec'])\n",
    "    plt.title(column+' Vs Life Expectancy')\n",
    "    plt.ylabel('Life Expectancy')\n",
    "    plt.xlabel(column)\n",
    "\n",
    "plt.figure(figsize=(11,18))\n",
    "\n",
    "scatter(df, 'Income', 1)"
   ]
  },
  {
   "cell_type": "code",
   "execution_count": null,
   "id": "bb5b53e0",
   "metadata": {},
   "outputs": [],
   "source": [
    "scatter(df, 'Ed', 2)"
   ]
  },
  {
   "cell_type": "code",
   "execution_count": null,
   "id": "025e34bb",
   "metadata": {},
   "outputs": [],
   "source": [
    "scatter(df, 'HIV', 3)"
   ]
  },
  {
   "cell_type": "code",
   "execution_count": null,
   "id": "f47d0907",
   "metadata": {},
   "outputs": [],
   "source": [
    "scatter(df, 'A_Mort', 4)"
   ]
  },
  {
   "cell_type": "code",
   "execution_count": null,
   "id": "fe934846",
   "metadata": {},
   "outputs": [],
   "source": [
    "scatter(df, 'Dipt', 5)"
   ]
  },
  {
   "cell_type": "code",
   "execution_count": null,
   "id": "22f519ba",
   "metadata": {},
   "outputs": [],
   "source": [
    "scatter(df, 'BMI', 6)"
   ]
  },
  {
   "cell_type": "code",
   "execution_count": null,
   "id": "613cd17d",
   "metadata": {},
   "outputs": [],
   "source": [
    "scatter(df, 'Polio', 7)\n",
    "\n",
    "plt.tight_layout()"
   ]
  },
  {
   "cell_type": "code",
   "execution_count": null,
   "id": "3c2978dd",
   "metadata": {},
   "outputs": [],
   "source": []
  }
 ],
 "metadata": {
  "kernelspec": {
   "display_name": "Python 3 (ipykernel)",
   "language": "python",
   "name": "python3"
  },
  "language_info": {
   "codemirror_mode": {
    "name": "ipython",
    "version": 3
   },
   "file_extension": ".py",
   "mimetype": "text/x-python",
   "name": "python",
   "nbconvert_exporter": "python",
   "pygments_lexer": "ipython3",
   "version": "3.9.16"
  },
  "toc": {
   "base_numbering": 1,
   "nav_menu": {},
   "number_sections": true,
   "sideBar": true,
   "skip_h1_title": true,
   "title_cell": "Table of Contents",
   "title_sidebar": "Contents",
   "toc_cell": true,
   "toc_position": {},
   "toc_section_display": true,
   "toc_window_display": false
  },
  "varInspector": {
   "cols": {
    "lenName": 16,
    "lenType": 16,
    "lenVar": 40
   },
   "kernels_config": {
    "python": {
     "delete_cmd_postfix": "",
     "delete_cmd_prefix": "del ",
     "library": "var_list.py",
     "varRefreshCmd": "print(var_dic_list())"
    },
    "r": {
     "delete_cmd_postfix": ") ",
     "delete_cmd_prefix": "rm(",
     "library": "var_list.r",
     "varRefreshCmd": "cat(var_dic_list()) "
    }
   },
   "position": {
    "height": "212.85px",
    "left": "1402.67px",
    "right": "20px",
    "top": "120px",
    "width": "337.333px"
   },
   "types_to_exclude": [
    "module",
    "function",
    "builtin_function_or_method",
    "instance",
    "_Feature"
   ],
   "window_display": false
  }
 },
 "nbformat": 4,
 "nbformat_minor": 5
}
