{
 "cells": [
  {
   "cell_type": "markdown",
   "id": "b181e697",
   "metadata": {
    "toc": true
   },
   "source": [
    "<h1>Table of Contents<span class=\"tocSkip\"></span></h1>\n",
    "<div class=\"toc\"><ul class=\"toc-item\"></ul></div>"
   ]
  },
  {
   "cell_type": "code",
   "execution_count": 1,
   "id": "ad97a7ff",
   "metadata": {},
   "outputs": [],
   "source": [
    "# Common Python Libraries\n",
    "from __future__ import print_function, division\n",
    "import pandas as pd\n",
    "import numpy as np\n",
    "import numpy as np\n",
    "import matplotlib as mpl\n",
    "import matplotlib.pyplot as plt\n",
    "%matplotlib inline"
   ]
  },
  {
   "cell_type": "code",
   "execution_count": 2,
   "id": "bbedf96e",
   "metadata": {},
   "outputs": [],
   "source": [
    "file_read = \"Life_Expectancy_Data.csv\"\n",
    "file_saved = \"Beta_life_expect_data.csv\"\n",
    "\n",
    "df = pd.read_csv(file_read,\n",
    "                 na_values='') \n",
    "\n",
    "# Change column names for clarity\n",
    "df.columns = ['Cty', 'Yr', 'Dev', 'L_Expec', 'A_Mort', 'Inf_D', \n",
    "              'Alc', 'Per_Expen','HepB', 'Mes', 'BMI', 'lt5y_D', 'Polio', \n",
    "              'T_Expen', 'Dipt', 'HIV', 'GDP','Pop', 'Th_1-19y', 'Th_5-9y', \n",
    "              'Income', 'Ed'\n",
    "]\n",
    "\n",
    "# RE-ORDER dataframe\n",
    "df.loc[:, ['Yr','Cty','Dev',\n",
    "           'GDP','T_Expen','Per_Expen','Income','Pop','Ed',\n",
    "           'Alc','HepB', 'Mes','Polio','HIV','BMI',\n",
    "           'A_Mort', 'Inf_D','lt5y_D','Th_1-19y', 'Th_5-9y',\n",
    "           'L_Expec']]\n",
    "\n",
    "# Save Cleaned Data\n",
    "df.to_csv(file_saved)\n",
    "\n",
    "df = pd.read_csv(file_saved, usecols=lambda x: x != 'Unnamed: 0') # Drop Index Column"
   ]
  },
  {
   "cell_type": "code",
   "execution_count": 5,
   "id": "4dd93d91",
   "metadata": {},
   "outputs": [
    {
     "data": {
      "application/vnd.jupyter.widget-view+json": {
       "model_id": "14b3dd4b0047487c801457ea79162e96",
       "version_major": 2,
       "version_minor": 0
      },
      "text/plain": [
       "Summarize dataset:   0%|          | 0/5 [00:00<?, ?it/s]"
      ]
     },
     "metadata": {},
     "output_type": "display_data"
    },
    {
     "data": {
      "application/vnd.jupyter.widget-view+json": {
       "model_id": "d3bfa19a6d7c40f1ab9646e1ff0ef4d6",
       "version_major": 2,
       "version_minor": 0
      },
      "text/plain": [
       "Generate report structure:   0%|          | 0/1 [00:00<?, ?it/s]"
      ]
     },
     "metadata": {},
     "output_type": "display_data"
    },
    {
     "data": {
      "application/vnd.jupyter.widget-view+json": {
       "model_id": "1362926afa4b485f8ac4d60af8dc00cf",
       "version_major": 2,
       "version_minor": 0
      },
      "text/plain": [
       "Render HTML:   0%|          | 0/1 [00:00<?, ?it/s]"
      ]
     },
     "metadata": {},
     "output_type": "display_data"
    },
    {
     "data": {
      "application/vnd.jupyter.widget-view+json": {
       "model_id": "46688f4346aa4176a877310f73ed64a3",
       "version_major": 2,
       "version_minor": 0
      },
      "text/plain": [
       "Export report to file:   0%|          | 0/1 [00:00<?, ?it/s]"
      ]
     },
     "metadata": {},
     "output_type": "display_data"
    }
   ],
   "source": [
    "#pip install -U pandas-profiling\n",
    "\n",
    "df = pd.read_csv(file_saved, usecols=lambda x: x != 'Unnamed: 0') # Drop Index Column\n",
    "\n",
    "import pandas_profiling as pp\n",
    "\n",
    "profile = pp.ProfileReport(df, config_file=\"/home/mcc/anaconda3/lib/python3.9/site-packages/pandas_profiling/config_default.yaml\")\n",
    "\n",
    "# Save Report as a html string\n",
    "profile.to_file(\"mccReport_best.html\")"
   ]
  },
  {
   "cell_type": "markdown",
   "id": "1782d76a",
   "metadata": {},
   "source": [
    "| Variable | No. Missing | Important |\n",
    "|---------:|------------:|----------:|\n",
    "| L_Expec  | 10 | Yes |\n",
    "| A_Mort  | 10 |\n",
    "| Alc  | 194 |\n",
    "| HepB | 553 | Yes |\n",
    "| BMI  | 34 |\n",
    "| Polio  | 19 |\n",
    "| T_Expen  | 226 |\n",
    "| Dipt  | 19 |\n",
    "| GDP  | 448 | Yes |\n",
    "| Pop  | 652 | Yes |\n",
    "| Th_1-19y  | 34 |\n",
    "| Th_5-9y  | 34 |\n",
    "| Income  | 167 | Yes |\n",
    "| Ed  | 163 | Yes |"
   ]
  },
  {
   "cell_type": "code",
   "execution_count": null,
   "id": "94fc41ab",
   "metadata": {},
   "outputs": [],
   "source": []
  },
  {
   "cell_type": "code",
   "execution_count": null,
   "id": "cdd30f69",
   "metadata": {},
   "outputs": [],
   "source": []
  }
 ],
 "metadata": {
  "kernelspec": {
   "display_name": "Python 3 (ipykernel)",
   "language": "python",
   "name": "python3"
  },
  "language_info": {
   "codemirror_mode": {
    "name": "ipython",
    "version": 3
   },
   "file_extension": ".py",
   "mimetype": "text/x-python",
   "name": "python",
   "nbconvert_exporter": "python",
   "pygments_lexer": "ipython3",
   "version": "3.9.13"
  },
  "toc": {
   "base_numbering": 1,
   "nav_menu": {},
   "number_sections": true,
   "sideBar": true,
   "skip_h1_title": true,
   "title_cell": "Table of Contents",
   "title_sidebar": "Contents",
   "toc_cell": true,
   "toc_position": {},
   "toc_section_display": true,
   "toc_window_display": false
  },
  "varInspector": {
   "cols": {
    "lenName": 16,
    "lenType": 16,
    "lenVar": 40
   },
   "kernels_config": {
    "python": {
     "delete_cmd_postfix": "",
     "delete_cmd_prefix": "del ",
     "library": "var_list.py",
     "varRefreshCmd": "print(var_dic_list())"
    },
    "r": {
     "delete_cmd_postfix": ") ",
     "delete_cmd_prefix": "rm(",
     "library": "var_list.r",
     "varRefreshCmd": "cat(var_dic_list()) "
    }
   },
   "types_to_exclude": [
    "module",
    "function",
    "builtin_function_or_method",
    "instance",
    "_Feature"
   ],
   "window_display": false
  }
 },
 "nbformat": 4,
 "nbformat_minor": 5
}
