{
 "cells": [
  {
   "attachments": {},
   "cell_type": "markdown",
   "id": "90d7c48b",
   "metadata": {},
   "source": [
    "\n",
    "https://www.kaggle.com/discussions/general/60603\n",
    "\n",
    "                \n",
    "| **List Of Features** | **Description** |\n",
    "|:---------------------|:----------------|\n",
    "| **Year** |  Year  |\n",
    "| **Cntry** |   Country |\n",
    "| **Dev** |  Developed or Not |\n",
    "| **GDP** |  Gross Domestic Product per capita (in USD) |\n",
    "| **T_Expen** |    Total Expenditure |\n",
    "| **Per_Expen** |   Percent Expenditure |\n",
    "| **Income** |   Income composition of resources, Human Development Index |\n",
    "| **Pop** |   Population of country |\n",
    "| **Ed** |  Years of Education |\n",
    "| **EtOH** |  Alcohol consumption, litres of pure alcohol per capita  |\n",
    "| **HepB** |   Hepatitis B: % immunization coverage among 1-year-olds |\n",
    "| **Measles** |   Number of reported cases per 1,000 population |\n",
    "| **Diph** |    Diphtheria, tetanus toxoid & pertussis % immunization coverage among 1-year-olds |\n",
    "| **Polio** |   Pol3: % immunization coverage among 1-year-olds |\n",
    "| **HIV** |   HIV/AIDS: Deaths per 1,000 (0-4 years) |\n",
    "| **BMI** |   Average Body Mass Index of entire population |\n",
    "| **A_Mort** |  Adult Mortality Rates of both sexes (probability of dying between 15 and 60 years per 1000 population) \n",
    "| **Inf_D** |   Number of Infant Deaths per 1,000 population |\n",
    "| **lt5y_D** |  Number of under-five deaths per 1,000 population |\n",
    "| **Th_1-19y** |  % Prevalence of thinness among children and adolescents 10 < Age < 19 |\n",
    "| **Th_5-9y** |  % Prevalence of thinness among children and adolescents 5 < Age < 9 |\n",
    "| **L_Expec** |   Life Expectancy (Yr) |"
   ]
  },
  {
   "cell_type": "code",
   "execution_count": 2,
   "id": "bbedf96e",
   "metadata": {},
   "outputs": [],
   "source": [
    "file_read = \"Life_Expectancy_Data.csv\"\n",
    "file_saved = \"Alpha_life_expect_data.csv\"\n",
    "\n",
    "df = pd.read_csv(file_read,\n",
    "                 na_values='') \n",
    "\n",
    "# Change column names for clarity\n",
    "df.columns = ['Cty', 'Yr', 'Dev', 'L_Expec', 'A_Mort', 'Inf_D', \n",
    "              'Alc', 'Per_Expen','HepB', 'Mes', 'BMI', 'lt5y_D', 'Polio', \n",
    "              'T_Expen', 'Dipt', 'HIV', 'GDP','Pop', 'Th_1-19y', 'Th_5-9y', \n",
    "              'Income', 'Ed'\n",
    "]\n",
    "\n",
    "# RE-ORDER dataframe\n",
    "df.loc[:, ['Yr','Cty','Dev',\n",
    "           'GDP','T_Expen','Per_Expen','Income','Pop','Ed',\n",
    "           'Alc','HepB', 'Mes','Polio','HIV','BMI',\n",
    "           'A_Mort', 'Inf_D','lt5y_D','Th_1-19y', 'Th_5-9y',\n",
    "           'L_Expec']]\n",
    "\n",
    "# Save Cleaned Data\n",
    "df.to_csv(file_saved)"
   ]
  },
  {
   "cell_type": "code",
   "execution_count": 3,
   "id": "a7f0fd1c",
   "metadata": {},
   "outputs": [
    {
     "data": {
      "text/plain": [
       "count    2.264000e+03\n",
       "mean     3.888643e-01\n",
       "std      5.053968e+00\n",
       "min      6.801655e-08\n",
       "25%      1.261685e-04\n",
       "50%      1.267219e-03\n",
       "75%      1.226318e-02\n",
       "max      1.882010e+02\n",
       "Name: GDPpC, dtype: float64"
      ]
     },
     "execution_count": 3,
     "metadata": {},
     "output_type": "execute_result"
    }
   ],
   "source": [
    "df['GDPpC'] = df.apply(lambda row: row.GDP / row.Pop, axis=1)\n",
    "\n",
    "\n",
    "df.GDPpC.describe()"
   ]
  },
  {
   "cell_type": "code",
   "execution_count": 4,
   "id": "4dd93d91",
   "metadata": {},
   "outputs": [
    {
     "data": {
      "application/vnd.jupyter.widget-view+json": {
       "model_id": "0ca8c54869a246188e5a289d69972b92",
       "version_major": 2,
       "version_minor": 0
      },
      "text/plain": [
       "Summarize dataset:   0%|          | 0/5 [00:00<?, ?it/s]"
      ]
     },
     "metadata": {},
     "output_type": "display_data"
    },
    {
     "data": {
      "application/vnd.jupyter.widget-view+json": {
       "model_id": "c974b64754e34c6c923938f17d4d7853",
       "version_major": 2,
       "version_minor": 0
      },
      "text/plain": [
       "Generate report structure:   0%|          | 0/1 [00:00<?, ?it/s]"
      ]
     },
     "metadata": {},
     "output_type": "display_data"
    },
    {
     "data": {
      "application/vnd.jupyter.widget-view+json": {
       "model_id": "678640f007db410aba0fc0b04d8c8a9a",
       "version_major": 2,
       "version_minor": 0
      },
      "text/plain": [
       "Render HTML:   0%|          | 0/1 [00:00<?, ?it/s]"
      ]
     },
     "metadata": {},
     "output_type": "display_data"
    },
    {
     "data": {
      "application/vnd.jupyter.widget-view+json": {
       "model_id": "804b02be5f8d440c850002ecbbe05ac8",
       "version_major": 2,
       "version_minor": 0
      },
      "text/plain": [
       "Export report to file:   0%|          | 0/1 [00:00<?, ?it/s]"
      ]
     },
     "metadata": {},
     "output_type": "display_data"
    }
   ],
   "source": [
    "#pip install -U pandas-profiling\n",
    "\n",
    "df = pd.read_csv(file_saved, usecols=lambda x: x != 'Unnamed: 0') # Drop Index Column\n",
    "\n",
    "import pandas_profiling as ProfileReport\n",
    "\n",
    "profile = ProfileReport.ProfileReport(df, title=\"WHO RE_ORDER: Pandas Profiling Reporting\")\n",
    "\n",
    "# Save Report as a html string\n",
    "profile.to_file(\"WHO_RE_ORDER_Pandas_Profiling_Reporting.html\")"
   ]
  },
  {
   "cell_type": "markdown",
   "id": "1782d76a",
   "metadata": {},
   "source": [
    "| Variable | No. Missing | Important |\n",
    "|---------:|------------:|----------:|\n",
    "| L_Expec  | 10 | Yes |\n",
    "| A_Mort  | 10 |\n",
    "| Alc  | 194 |\n",
    "| HepB | 553 | Yes |\n",
    "| BMI  | 34 |\n",
    "| Polio  | 19 |\n",
    "| T_Expen  | 226 |\n",
    "| Dipt  | 19 |\n",
    "| GDP  | 448 | Yes |\n",
    "| Pop  | 652 | Yes |\n",
    "| Th_1-19y  | 34 |\n",
    "| Th_5-9y  | 34 |\n",
    "| Income  | 167 | Yes |\n",
    "| Ed  | 163 | Yes |"
   ]
  }
 ],
 "metadata": {
  "kernelspec": {
   "display_name": "Python 3",
   "language": "python",
   "name": "python3"
  },
  "language_info": {
   "codemirror_mode": {
    "name": "ipython",
    "version": 3
   },
   "file_extension": ".py",
   "mimetype": "text/x-python",
   "name": "python",
   "nbconvert_exporter": "python",
   "pygments_lexer": "ipython3",
   "version": "3.10.6"
  },
  "toc": {
   "base_numbering": 1,
   "nav_menu": {},
   "number_sections": true,
   "sideBar": true,
   "skip_h1_title": true,
   "title_cell": "Table of Contents",
   "title_sidebar": "Contents",
   "toc_cell": true,
   "toc_position": {},
   "toc_section_display": true,
   "toc_window_display": false
  },
  "varInspector": {
   "cols": {
    "lenName": 16,
    "lenType": 16,
    "lenVar": 40
   },
   "kernels_config": {
    "python": {
     "delete_cmd_postfix": "",
     "delete_cmd_prefix": "del ",
     "library": "var_list.py",
     "varRefreshCmd": "print(var_dic_list())"
    },
    "r": {
     "delete_cmd_postfix": ") ",
     "delete_cmd_prefix": "rm(",
     "library": "var_list.r",
     "varRefreshCmd": "cat(var_dic_list()) "
    }
   },
   "types_to_exclude": [
    "module",
    "function",
    "builtin_function_or_method",
    "instance",
    "_Feature"
   ],
   "window_display": false
  },
  "vscode": {
   "interpreter": {
    "hash": "916dbcbb3f70747c44a77c7bcd40155683ae19c65e1c03b4aa3499c5328201f1"
   }
  }
 },
 "nbformat": 4,
 "nbformat_minor": 5
}
