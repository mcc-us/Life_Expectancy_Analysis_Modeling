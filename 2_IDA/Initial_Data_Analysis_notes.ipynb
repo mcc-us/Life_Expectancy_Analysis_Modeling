{
 "cells": [
  {
   "cell_type": "markdown",
   "id": "4e26f58c",
   "metadata": {},
   "source": [
    "### NOTE 1: \n",
    "- The feature 'LifeExpectancy' has 10 missing values. \n",
    " \n",
    "- Therefore the 10 rows that have NAN values will be deleted. Because 'LifeExpectancy' is a Dependent variable, I will delete those 10 observations with NO labels rather than impute them.\n",
    "\n",
    "- Drop 10 rows containing null in `LifeExpectancy` column\n",
    " \n",
    "- The 'LifeExpectancy' feature appear to be **Missing Completely at Random(MCAR)**. The main advantage of **MCAR** is that the analysis is unbiased. Data lost with design fault do not impact other parameters in the model. "
   ]
  },
  {
   "cell_type": "code",
   "execution_count": 5,
   "id": "bf72eff3",
   "metadata": {},
   "outputs": [],
   "source": [
    "df.dropna(subset=['LifeExpectancy'], inplace=True) # 10 rows deleted"
   ]
  },
  {
   "cell_type": "markdown",
   "id": "facc5c8b",
   "metadata": {},
   "source": [
    "### NOTE 2: \n",
    "- The three features with the highest percent of mising vlaues are:\n",
    "\n",
    "|  | Feature | Number Missing | % Missing |\n",
    "|--|:--------|---------------:|----------:|\n",
    "|1 | Population | 644/2928 | 22.0% |\n",
    "|2 | HepB | 553/2928 |  18.9% |\n",
    "|3 | GDP | 448/2928 | 15.3% |"
   ]
  },
  {
   "cell_type": "markdown",
   "id": "3a701fe0",
   "metadata": {},
   "source": [
    "### NOTE 3: \n",
    "- Drop feature columns ['Population', 'HepB', 'GDP'] where % Missing is greater than 15%.\n",
    "\n",
    "\n",
    "- More data scraping or gathering needs to be done in at least 5 areas.\n",
    "   - 1 \tCountry Population\n",
    "   - 2 \tHepititus B Vaccination rates\n",
    "   - 3 \tGross Domestic Product\n",
    "   - 4 \tTotal Expenditure of Country Funds: Health Related\n",
    "   - 5 \tEthanol Comsumption per capita"
   ]
  }
 ],
 "metadata": {
  "kernelspec": {
   "display_name": "Python 3 (ipykernel)",
   "language": "python",
   "name": "python3"
  },
  "language_info": {
   "codemirror_mode": {
    "name": "ipython",
    "version": 3
   },
   "file_extension": ".py",
   "mimetype": "text/x-python",
   "name": "python",
   "nbconvert_exporter": "python",
   "pygments_lexer": "ipython3",
   "version": "3.9.16"
  },
  "toc": {
   "base_numbering": 1,
   "nav_menu": {},
   "number_sections": true,
   "sideBar": true,
   "skip_h1_title": true,
   "title_cell": "Table of Contents",
   "title_sidebar": "Contents",
   "toc_cell": true,
   "toc_position": {},
   "toc_section_display": true,
   "toc_window_display": false
  },
  "varInspector": {
   "cols": {
    "lenName": 16,
    "lenType": 16,
    "lenVar": 40
   },
   "kernels_config": {
    "python": {
     "delete_cmd_postfix": "",
     "delete_cmd_prefix": "del ",
     "library": "var_list.py",
     "varRefreshCmd": "print(var_dic_list())"
    },
    "r": {
     "delete_cmd_postfix": ") ",
     "delete_cmd_prefix": "rm(",
     "library": "var_list.r",
     "varRefreshCmd": "cat(var_dic_list()) "
    }
   },
   "types_to_exclude": [
    "module",
    "function",
    "builtin_function_or_method",
    "instance",
    "_Feature"
   ],
   "window_display": false
  },
  "vscode": {
   "interpreter": {
    "hash": "ee253db64471d3bc5400655757329a6a33de9a5ca06cae94740881a9d5095460"
   }
  }
 },
 "nbformat": 4,
 "nbformat_minor": 5
}
