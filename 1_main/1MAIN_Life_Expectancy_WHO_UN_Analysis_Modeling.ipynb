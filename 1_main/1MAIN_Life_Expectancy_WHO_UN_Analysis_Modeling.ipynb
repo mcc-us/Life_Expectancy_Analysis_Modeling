{
 "cells": [
  {
   "attachments": {},
   "cell_type": "markdown",
   "id": "b7ae52a0",
   "metadata": {},
   "source": [
    "## Executive Summary\n",
    "\n",
    "**Impetus**\n",
    "\n",
    "Information on [Life Expectancy-Kaggle](https://www.kaggle.com/datasets/kumarajarshi/life-expectancy-who) from the World Health Organization and United Nations was gathered for the years 2000-2015 for 193 countries in three categories: \n",
    "\n",
    "1. *Communicable diseases*: Hepatitis B, Measles, Polio, Diphtheria, HIV/AIDS.\n",
    "\n",
    "\n",
    "2. *Country-specific monetary data*: Gross domestic product, Governmental expenditure rates, Average personal income, Developmental status, Population, Education.\n",
    "\n",
    "\n",
    "3. *Health-related information*: Infant and adult mortality rates, Number of deaths less than 5 yr, Alcohol consumption rates, Child-related malnutrition, Average body mass index per capita.\n",
    "\n",
    "\n",
    "**Important Features**\n",
    "\n",
    "21 Features were culled to six (6) features that were deemed most important then used in the final modeling of life expactancy:\n",
    "\n",
    "1. Income\n",
    "2. Education\n",
    "3. HIV\n",
    "4. DTP\n",
    "5. Polio\n",
    "6. AdultMort\n",
    "\n",
    "**Results**\n",
    "\n",
    "Four algorthms were tested on the data and the accuracy alone was used as a benchmark:\n",
    "\n",
    "| Model | Average % Accuracy (cv=5) |\n",
    "|:------|--------------------------:|\n",
    "| Gradient Boosting Regressor | 94.7 |\n",
    "| Decision Tree Regressor     | 88.5 |\n",
    "| Linear Regression         | 81.0 |\n",
    "| Support Vector Regressor  | 19.0 |\n",
    "\n",
    "---"
   ]
  },
  {
   "cell_type": "markdown",
   "id": "743a0c01",
   "metadata": {},
   "source": [
    "## Introduction\n",
    "\n",
    "In 2006, The World Health Organization published a report entitled *Preventing disease through healthy environments*. \n",
    ">[It] “confirms that approximately one-quarter of the global disease burden, and more than one-third of the burden among children, is due to modifiable environmental factors.”\n",
    ">\n",
    ">[WHO-Preventing Disease Through Healthy Environments](https://www.who.int/publications/i/item/9241593822)\n",
    "\n",
    "The dataset was obtained from Kaggle.com:\n",
    "https://www.kaggle.com/datasets/kumarajarshi/life-expectancy-who"
   ]
  },
  {
   "cell_type": "markdown",
   "id": "7f19f8ea",
   "metadata": {},
   "source": [
    "### Project Planning\n",
    "\n",
    "- [Initial Data Analysis](2_Life_Expectancy_Initial_Data_Analysis.ipynb)\n",
    "- [Exploratory Data Analysis](3_Life_Expectancy_EDA.ipynb)\n",
    "- [Exploratory Data Analysis #2](4_Life_Expectancy_Exploratory_Data_Analysis_PART2.ipynb)\n",
    "- [Pandas Profiling Library](../reports/Test_Pandas_Profiling_Report.ipynb) \n",
    "- [Feature Engineering](5_Life_Expectancy_Feature_Engineering.ipynb)\n",
    "- [Recursive Feature Elimination](6_Life_Expectancy_Recursive_Feature_Elimination.ipynb)\n",
    "- [Modeling](7_Life_Expectancy_Modeling.ipynb) \n",
    "- [Discussion of Linear Model](8-Life_Expectancy_Linear_Coefficients.ipynb)\n",
    "- [Results](8-Life_Expectancy_Groupings.ipynb)\n",
    "\n",
    "---"
   ]
  },
  {
   "cell_type": "markdown",
   "id": "1c2b6b22",
   "metadata": {},
   "source": [
    "\n",
    "| **Response Variable** |      **Description** |\n",
    "|:----------------------|:---------------------|\n",
    "|    **LifeExpectancy** | Life Expectancy (Yr) |\n",
    "\n",
    "**<p style=\"color:green;\">Green indicates feature used in final model</p>**\n",
    "**<p style=\"color:blue;\">Blue indicates feature of questionable importance</p>**\n",
    "**<p style=\"color:orange;\">Orange indicates dropped due to high collinearity</p>**\n",
    "**<p style=\"color:red;\">Red indicates dropped due to missing values greater than 15%</p>**\n",
    "\n",
    "| **List Of Features** | **Description** |\n",
    "|:---------------------|:----------------|\n",
    "| **<p style=\"color:green;\">Income</p>** | Income composition of resources, Human Development Index |\n",
    "| **<p style=\"color:green;\">Education</p>** | Years of Education |\n",
    "| **<p style=\"color:green;\">HIV</p>** | HIV/AIDS: Deaths per 1,000 |\n",
    "| **<p style=\"color:green;\">DTP</p>** | Diphtheria, tetanus toxoid & pertussis % immunization coverage among 1-year-olds |\n",
    "| **<p style=\"color:green;\">Polio</p>** | Pol3: % immunization coverage among 1-year-olds |\n",
    "| **<p style=\"color:green;\">AdultMort</p>** | Adult Mortality Rates of both sexes (probability of dying between 15 and 60 years per 1000 population) |\n",
    "| **<p style=\"color:blue;\">Year</p>** |  Year   |\n",
    "| **<p style=\"color:blue;\">Country</p>** |   Country |\n",
    "| **<p style=\"color:blue;\">Status</p>** |  Developed(1) or Developing(0) |\n",
    "| **<p style=\"color:blue;\">BMI</p>** |   Average Body Mass Index of entire population |\n",
    "| **<p style=\"color:blue;\">lt5yD</p>** |  Number of under-five deaths per 1,000 population |\n",
    "| **<p style=\"color:blue;\">Thin1_19y</p>** |  % Prevalence of thinness among children and adolescents 10 < Age < 19 |\n",
    "| **<p style=\"color:blue;\">TotalExpen</p>** |    Total Expenditure |\n",
    "| **<p style=\"color:blue;\">PercExpen</p>** |   Percent Expenditure |\n",
    "| **<p style=\"color:blue;\">EtOH</p>** |  Alcohol consumption, litres of pure alcohol per capita  |\n",
    "| **<p style=\"color:blue;\">Measles</p>** |   Number of reported cases per 1,000 population |\n",
    "| **<p style=\"color:orange;\">Thin5_9y</p>** |  % Prevalence of thinness among children and adolescents 5 < Age < 9 |\n",
    "| **<p style=\"color:orange;\">InfD</p>** |   Number of Infant Deaths per 1,000 population |\n",
    "| **<p style=\"color:red;\">HepB</p>** | Hepatitis B: % immunization coverage among 1-year-olds |\n",
    "| **<p style=\"color:red;\">Population</p>** | Population of country |\n",
    "| **<p style=\"color:red;\">GDP</p>** | Gross Domestic Product per capita (in USD) |\n",
    "\n"
   ]
  },
  {
   "cell_type": "code",
   "execution_count": 2,
   "id": "b0dd8e85",
   "metadata": {},
   "outputs": [
    {
     "name": "stdout",
     "output_type": "stream",
     "text": [
      "1_MAIN_Life_Expectancy_WHO_UN_Analysis_Modeling.ipynb\n",
      "2_Life_Expectancy_Initial_Data_Analysis.ipynb\n",
      "3_Life_Expectancy_EDA.ipynb\n",
      "4_Life_Expectancy_Exploratory_Data_Analysis_PART2.ipynb\n",
      "5_Life_Expectancy_Feature_Engineering.ipynb\n",
      "6_Life_Expectancy_Recursive_Feature_Elimination.ipynb\n",
      "7_Life_Expectancy_Modeling.ipynb\n",
      "8-Life_Expectancy_Linear_Coefficients.ipynb\n",
      "9-Life_Expectancy_Groupings.ipynb\n",
      "<class 'pandas.core.frame.DataFrame'>\n",
      "RangeIndex: 2938 entries, 0 to 2937\n",
      "Data columns (total 22 columns):\n",
      " #   Column          Non-Null Count  Dtype  \n",
      "---  ------          --------------  -----  \n",
      " 0   Country         2938 non-null   object \n",
      " 1   Year            2938 non-null   int64  \n",
      " 2   Status          2938 non-null   object \n",
      " 3   LifeExpectancy  2928 non-null   float64\n",
      " 4   AdultMort       2928 non-null   float64\n",
      " 5   InfD            2938 non-null   int64  \n",
      " 6   EtOH            2744 non-null   float64\n",
      " 7   PercExpen       2938 non-null   float64\n",
      " 8   HepB            2385 non-null   float64\n",
      " 9   Measles         2938 non-null   int64  \n",
      " 10  BMI             2904 non-null   float64\n",
      " 11  lt5yD           2938 non-null   int64  \n",
      " 12  Polio           2919 non-null   float64\n",
      " 13  TotalExpen      2712 non-null   float64\n",
      " 14  DTP             2919 non-null   float64\n",
      " 15  HIV             2938 non-null   float64\n",
      " 16  GDP             2490 non-null   float64\n",
      " 17  Population      2286 non-null   float64\n",
      " 18  Thin1_19y       2904 non-null   float64\n",
      " 19  Thin5_9y        2904 non-null   float64\n",
      " 20  Income          2771 non-null   float64\n",
      " 21  Education       2775 non-null   float64\n",
      "dtypes: float64(16), int64(4), object(2)\n",
      "memory usage: 505.1+ KB\n",
      "\n",
      "Dataframe df shape: (2928, 22)\n",
      "<class 'pandas.core.frame.DataFrame'>\n",
      "Int64Index: 2928 entries, 0 to 2937\n",
      "Data columns (total 19 columns):\n",
      " #   Column          Non-Null Count  Dtype  \n",
      "---  ------          --------------  -----  \n",
      " 0   Country         2928 non-null   object \n",
      " 1   Year            2928 non-null   int64  \n",
      " 2   Status          2928 non-null   object \n",
      " 3   LifeExpectancy  2928 non-null   float64\n",
      " 4   AdultMort       2928 non-null   float64\n",
      " 5   InfD            2928 non-null   int64  \n",
      " 6   EtOH            2735 non-null   float64\n",
      " 7   PercExpen       2928 non-null   float64\n",
      " 8   Measles         2928 non-null   int64  \n",
      " 9   BMI             2896 non-null   float64\n",
      " 10  lt5yD           2928 non-null   int64  \n",
      " 11  Polio           2909 non-null   float64\n",
      " 12  TotalExpen      2702 non-null   float64\n",
      " 13  DTP             2909 non-null   float64\n",
      " 14  HIV             2928 non-null   float64\n",
      " 15  Thin1_19y       2896 non-null   float64\n",
      " 16  Thin5_9y        2896 non-null   float64\n",
      " 17  Income          2768 non-null   float64\n",
      " 18  Education       2768 non-null   float64\n",
      "dtypes: float64(13), int64(4), object(2)\n",
      "memory usage: 457.5+ KB\n",
      "\n",
      "Shape of Cleaned and Imputed dataframe: (2928, 19)\n",
      "Clean_LE_Data_w_Means_2.csv\n"
     ]
    }
   ],
   "source": [
    "%run 2_Life_Expectancy_Initial_Data_Analysis.ipynb"
   ]
  }
 ],
 "metadata": {
  "kernelspec": {
   "display_name": "Python 3",
   "language": "python",
   "name": "python3"
  },
  "language_info": {
   "codemirror_mode": {
    "name": "ipython",
    "version": 3
   },
   "file_extension": ".py",
   "mimetype": "text/x-python",
   "name": "python",
   "nbconvert_exporter": "python",
   "pygments_lexer": "ipython3",
   "version": "3.10.6"
  },
  "toc": {
   "base_numbering": 1,
   "nav_menu": {},
   "number_sections": true,
   "sideBar": true,
   "skip_h1_title": true,
   "title_cell": "Table of Contents",
   "title_sidebar": "Contents",
   "toc_cell": true,
   "toc_position": {
    "height": "calc(100% - 180px)",
    "left": "10px",
    "top": "150px",
    "width": "165px"
   },
   "toc_section_display": true,
   "toc_window_display": false
  },
  "varInspector": {
   "cols": {
    "lenName": 16,
    "lenType": 16,
    "lenVar": 40
   },
   "kernels_config": {
    "python": {
     "delete_cmd_postfix": "",
     "delete_cmd_prefix": "del ",
     "library": "var_list.py",
     "varRefreshCmd": "print(var_dic_list())"
    },
    "r": {
     "delete_cmd_postfix": ") ",
     "delete_cmd_prefix": "rm(",
     "library": "var_list.r",
     "varRefreshCmd": "cat(var_dic_list()) "
    }
   },
   "types_to_exclude": [
    "module",
    "function",
    "builtin_function_or_method",
    "instance",
    "_Feature"
   ],
   "window_display": false
  },
  "vscode": {
   "interpreter": {
    "hash": "916dbcbb3f70747c44a77c7bcd40155683ae19c65e1c03b4aa3499c5328201f1"
   }
  }
 },
 "nbformat": 4,
 "nbformat_minor": 5
}
