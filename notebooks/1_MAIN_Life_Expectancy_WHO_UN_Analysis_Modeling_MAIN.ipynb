{
 "cells": [
  {
   "cell_type": "markdown",
   "id": "d137dd18",
   "metadata": {
    "toc": true
   },
   "source": [
    "<h1>Table of Contents<span class=\"tocSkip\"></span></h1>\n",
    "<div class=\"toc\"><ul class=\"toc-item\"><li><span><a href=\"#Executive-Summary\" data-toc-modified-id=\"Executive-Summary-1\"><span class=\"toc-item-num\">1&nbsp;&nbsp;</span>Executive Summary</a></span></li><li><span><a href=\"#Introduction\" data-toc-modified-id=\"Introduction-2\"><span class=\"toc-item-num\">2&nbsp;&nbsp;</span>Introduction</a></span></li></ul></div>"
   ]
  },
  {
   "attachments": {},
   "cell_type": "markdown",
   "id": "f29391f8",
   "metadata": {},
   "source": [
    "# 1_MAIN_Life_Expectancy_WHO_UN_Analysis_Modeling\n",
    "\n",
    "To:&nbsp;&nbsp;&nbsp;&nbsp; [Magnimind](https://magnimindacademy.com/)\n",
    "\n",
    "From: Matt Curcio, matt.curcio.ri@gmail.com\n",
    "\n",
    "Date: 2023-01-29\n",
    "\n",
    "Re:&nbsp;&nbsp;&nbsp; NOTEBOOK #1\n"
   ]
  },
  {
   "attachments": {},
   "cell_type": "markdown",
   "id": "b7ae52a0",
   "metadata": {},
   "source": [
    "## Executive Summary\n",
    "\n",
    "**Problem Statement**\n",
    "\n",
    "This report investigates modifiable environmental factors that may contribute to life expectancy in the hopes of finding a mathematical model. The primary questions we answer are: The primary questions we answer are:\n",
    "\n",
    "1. *Which variables are significant and important in modeling and predicting Life Expectancy?*\n",
    "\n",
    "\n",
    "2. *What steps should be taken given limited resources?*\n",
    "\n",
    "Information from the World Health Organization and United Nations was gathered for the years 2000-2015 for 193 countries in three categories: \n",
    "\n",
    "1. *Communicable diseases*: Hepatitis B, Measles, Polio, Diphtheria, HIV/AIDS.\n",
    "\n",
    "\n",
    "2. *Country-specific monetary data*: Gross domestic product, Governmental expenditure rates, Average personal income, Developmental status, Population, Education.\n",
    "\n",
    "\n",
    "3. *Health-related information*: Infant and adult mortality rates, Number of deaths less than 5 yr, Alcohol consumption rates, Child-related malnutrition, Average body mass index per capita.\n",
    "\n",
    "Six features were deemed most important and used in the final modeling of life expactancy:\n",
    "\n",
    "1. Income\n",
    "2. Education\n",
    "3. HIV\n",
    "4. DTP\n",
    "5. Polio\n",
    "6. AdultMort\n",
    "\n",
    "Four algorythms were tested on the data and the accuracy alone was used as a benchmark:\n",
    "\n",
    "| Model | Average % Accuracy (cv=5) |\n",
    "|:------|--------------------------:|\n",
    "| Gradient Boosting Regressor | 94.7 |\n",
    "| Decision Tree Regressor     | 88.5 |\n",
    "| Linear Regression         | 81.0 |\n",
    "| Support Vector Regressor  | 19.0 |\n",
    "\n",
    "Alternattively, there are many algorthms that can be tested:\n",
    "\n",
    "\n",
    "\n",
    "1. Ridge Regression\n",
    "2. Neural Network Regression \n",
    "3. Lasso Regression \n",
    "4. KNN Model \n",
    "5. Gausian Regression\n",
    "6. Polynomial Regression\n"
   ]
  },
  {
   "attachments": {},
   "cell_type": "markdown",
   "id": "743a0c01",
   "metadata": {},
   "source": [
    "## Introduction\n",
    "\n",
    "In 2006, The World Health Organization published a report entitled *Preventing disease through healthy environments*. \n",
    ">[It] “confirms that approximately one-quarter of the global disease burden, and more than one-third of the burden among children, is due to modifiable environmental factors.”\n",
    ">\n",
    ">[WHO-Preventing Disease Through Healthy Environments](https://www.who.int/publications/i/item/9241593822)\n",
    "\n",
    "\n",
    "\n",
    "\n",
    "CONTINUE:\n",
    "Not all data features are complete. There are approximately 20+ countries that need more information. Many of these countries are currently in civil unrest or outright war.\n",
    "\n",
    "We hope that global resources can be spent cost-effectively. \n",
    "\n",
    "The dataset was obtained from Kaggle.com:\n",
    "https://www.kaggle.com/datasets/kumarajarshi/life-expectancy-who\n",
    "\n",
    "\n",
    "Data can be found at: https://www.kaggle.com/discussions/general/60603\n"
   ]
  },
  {
   "attachments": {},
   "cell_type": "markdown",
   "id": "7f19f8ea",
   "metadata": {},
   "source": [
    "### Project Planning\n",
    "\n",
    "- [Initial Data Analysis]()\n",
    "- Histograms and boxplots \n",
    "- Value counts \n",
    "- Missing data \n",
    "- Correlation between the metrics \n",
    "- Explore interesting themes \n",
    "    - Wealth \n",
    "    - By location \n",
    "    - Age vs Education scatterplot \n",
    "- Feature engineering \n",
    "- Scaling?\n",
    "- Model Baseline \n",
    "- Model comparison with CV "
   ]
  },
  {
   "attachments": {},
   "cell_type": "markdown",
   "id": "1c2b6b22",
   "metadata": {},
   "source": [
    "\n",
    "| **Response Variable** |      **Description** |\n",
    "|:----------------------|:---------------------|\n",
    "|    **LifeExpectancy** | Life Expectancy (Yr) |\n",
    "\n",
    "**<p style=\"color:green;\">Green indicates feature used in final model</p>**\n",
    "**<p style=\"color:blue;\">Blue indicates feature of questionable importance</p>**\n",
    "**<p style=\"color:orange;\">Orange indicates dropped due to high collinearity</p>**\n",
    "**<p style=\"color:red;\">Red indicates dropped due to missing values greater than 15%</p>**\n",
    "\n",
    "| **List Of Features** | **Description** |\n",
    "|:---------------------|:----------------|\n",
    "| **<p style=\"color:green;\">Income</p>** | Income composition of resources, Human Development Index |\n",
    "| **<p style=\"color:green;\">Education</p>** | Years of Education |\n",
    "| **<p style=\"color:green;\">HIV</p>** | HIV/AIDS: Deaths per 1,000 |\n",
    "| **<p style=\"color:green;\">DTP</p>** | Diphtheria, tetanus toxoid & pertussis % immunization coverage among 1-year-olds |\n",
    "| **<p style=\"color:green;\">Polio</p>** | Pol3: % immunization coverage among 1-year-olds |\n",
    "| **<p style=\"color:green;\">AdultMort</p>** | Adult Mortality Rates of both sexes (probability of dying between 15 and 60 years per 1000 population) |\n",
    "| **<p style=\"color:blue;\">Year</p>** |  Year   |\n",
    "| **<p style=\"color:blue;\">Country</p>** |   Country |\n",
    "| **<p style=\"color:blue;\">Status</p>** |  Developed(1) or Developing(0) |\n",
    "| **<p style=\"color:blue;\">BMI</p>** |   Average Body Mass Index of entire population |\n",
    "| **<p style=\"color:blue;\">lt5yD</p>** |  Number of under-five deaths per 1,000 population |\n",
    "| **<p style=\"color:blue;\">Thin1_19y</p>** |  % Prevalence of thinness among children and adolescents 10 < Age < 19 |\n",
    "| **<p style=\"color:blue;\">TotalExpen</p>** |    Total Expenditure |\n",
    "| **<p style=\"color:blue;\">PercExpen</p>** |   Percent Expenditure |\n",
    "| **<p style=\"color:blue;\">EtOH</p>** |  Alcohol consumption, litres of pure alcohol per capita  |\n",
    "| **<p style=\"color:blue;\">Measles</p>** |   Number of reported cases per 1,000 population |\n",
    "| **<p style=\"color:orange;\">Thin5_9y</p>** |  % Prevalence of thinness among children and adolescents 5 < Age < 9 |\n",
    "| **<p style=\"color:orange;\">InfD</p>** |   Number of Infant Deaths per 1,000 population |\n",
    "| **<p style=\"color:red;\">HepB</p>** | Hepatitis B: % immunization coverage among 1-year-olds |\n",
    "| **<p style=\"color:red;\">Population</p>** | Population of country |\n",
    "| **<p style=\"color:red;\">GDP</p>** | Gross Domestic Product per capita (in USD) |\n",
    "\n"
   ]
  }
 ],
 "metadata": {
  "kernelspec": {
   "display_name": "base",
   "language": "python",
   "name": "python3"
  },
  "language_info": {
   "codemirror_mode": {
    "name": "ipython",
    "version": 3
   },
   "file_extension": ".py",
   "mimetype": "text/x-python",
   "name": "python",
   "nbconvert_exporter": "python",
   "pygments_lexer": "ipython3",
   "version": "3.9.16 (main, Jan 11 2023, 16:05:54) \n[GCC 11.2.0]"
  },
  "toc": {
   "base_numbering": 1,
   "nav_menu": {},
   "number_sections": true,
   "sideBar": true,
   "skip_h1_title": true,
   "title_cell": "Table of Contents",
   "title_sidebar": "Contents",
   "toc_cell": true,
   "toc_position": {
    "height": "calc(100% - 180px)",
    "left": "10px",
    "top": "150px",
    "width": "165px"
   },
   "toc_section_display": true,
   "toc_window_display": false
  },
  "varInspector": {
   "cols": {
    "lenName": 16,
    "lenType": 16,
    "lenVar": 40
   },
   "kernels_config": {
    "python": {
     "delete_cmd_postfix": "",
     "delete_cmd_prefix": "del ",
     "library": "var_list.py",
     "varRefreshCmd": "print(var_dic_list())"
    },
    "r": {
     "delete_cmd_postfix": ") ",
     "delete_cmd_prefix": "rm(",
     "library": "var_list.r",
     "varRefreshCmd": "cat(var_dic_list()) "
    }
   },
   "types_to_exclude": [
    "module",
    "function",
    "builtin_function_or_method",
    "instance",
    "_Feature"
   ],
   "window_display": false
  },
  "vscode": {
   "interpreter": {
    "hash": "ee253db64471d3bc5400655757329a6a33de9a5ca06cae94740881a9d5095460"
   }
  }
 },
 "nbformat": 4,
 "nbformat_minor": 5
}
