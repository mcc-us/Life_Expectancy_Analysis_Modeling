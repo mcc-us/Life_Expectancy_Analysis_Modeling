{
 "cells": [
  {
   "cell_type": "markdown",
   "id": "d137dd18",
   "metadata": {
    "toc": true
   },
   "source": [
    "<h1>Table of Contents<span class=\"tocSkip\"></span></h1>\n",
    "<div class=\"toc\"><ul class=\"toc-item\"><li><span><a href=\"#Executive-Summary\" data-toc-modified-id=\"Executive-Summary-1\"><span class=\"toc-item-num\">1&nbsp;&nbsp;</span>Executive Summary</a></span></li><li><span><a href=\"#Introduction\" data-toc-modified-id=\"Introduction-2\"><span class=\"toc-item-num\">2&nbsp;&nbsp;</span>Introduction</a></span></li></ul></div>"
   ]
  },
  {
   "cell_type": "markdown",
   "id": "f29391f8",
   "metadata": {},
   "source": [
    "# 1_MAIN_Life_Expectancy_WHO_UN_Analysis_Modeling\n",
    "\n",
    "To:&nbsp;&nbsp;&nbsp;&nbsp; Magnimind\n",
    "\n",
    "From: Matt Curcio, matt.curcio.ri@gmail.com\n",
    "\n",
    "Date: 2023-01-24\n",
    "\n",
    "Re:&nbsp;&nbsp;&nbsp; NOTEBOOK #1\n"
   ]
  },
  {
   "attachments": {},
   "cell_type": "markdown",
   "id": "b7ae52a0",
   "metadata": {},
   "source": [
    "## Executive Summary\n",
    "\n",
    "**Problem Statement**\n",
    "\n",
    "This report investigates modifiable environmental factors that may contribute to life expectancy in the hopes of finding a mathematical model. The primary questions we answer are:\n",
    "\n",
    "1. *Which variables are significant and important in modeling and predicting Life Expectancy?*\n",
    "2. *What steps should be taken given limited resources?*\n",
    "\n",
    "Information from the World Health Organization and United Nations was gathered for the years 2000-2015 for 193 countries in three categories: \n",
    "\n",
    "1. *Communicable diseases*: Hepatitis B, Measles, Polio, Diphtheria, HIV/AIDS.\n",
    "\n",
    "\n",
    "2. *Country-specific monetary data*: Gross domestic product, Governmental expenditure rates, Average personal income, Developmental status, Population, Education.\n",
    "\n",
    "\n",
    "3. *Health-related information*: Infant and adult mortality rates, Number of deaths less than 5 yr, Alcohol consumption rates, Child-related malnutrition, including child thinness rates between 1-19 years and 5-9 years, Average body mass index per capita.\n",
    "\n",
    "\n",
    "This report investigates modifiable environmental factors that may contribute to life expectancy in the hopes of finding a mathematical model. The two primary questions we hope to answer are:\n",
    "\n",
    "1. *Which variables are significant in modeling and predicting Life Expectancy?*\n",
    "\n",
    "\n",
    "2. *What steps should be taken given limited resources?*"
   ]
  },
  {
   "attachments": {},
   "cell_type": "markdown",
   "id": "743a0c01",
   "metadata": {},
   "source": [
    "## Introduction\n",
    "\n",
    "In 2006, The World Health Organization published a report entitled `Preventing disease through healthy environments`. \n",
    ">[It] “confirms that approximately one-quarter of the global disease burden, and more than one-third of the burden among children, is due to modifiable environmental factors.”\n",
    ">\n",
    ">[WHO-Preventing Disease Through Healthy Environments](https://www.who.int/publications/i/item/9241593822)\n",
    "\n",
    "\n",
    "\n",
    "\n",
    "CONTINUE:\n",
    "Not all data features are complete. There are approximately 20+ countries that need more information. Many of these countries are currently in civil unrest or outright war.\n",
    "\n",
    "We hope that global resources can be spent cost-effectively. \n",
    "\n",
    "The dataset was obtained from Kaggle.com:\n",
    "https://www.kaggle.com/datasets/kumarajarshi/life-expectancy-who\n",
    "\n",
    "\n",
    "Data can be found at: https://www.kaggle.com/discussions/general/60603\n"
   ]
  },
  {
   "attachments": {},
   "cell_type": "markdown",
   "id": "7f19f8ea",
   "metadata": {},
   "source": [
    "**Project Planning**\n",
    "\n",
    "Below is a rough outline that for this project.\n",
    "\n",
    "- Understand nature of the data .info() .describe()\n",
    "- Histograms and boxplots \n",
    "- Value counts \n",
    "- Missing data \n",
    "- Correlation between the metrics \n",
    "- Explore interesting themes \n",
    "    - Wealth \n",
    "    - By location \n",
    "    - Age vs Education scatterplot \n",
    "- Feature engineering \n",
    "- Scaling?\n",
    "- Model Baseline \n",
    "- Model comparison with CV "
   ]
  },
  {
   "cell_type": "code",
   "execution_count": 2,
   "id": "b68915c3",
   "metadata": {},
   "outputs": [
    {
     "name": "stdout",
     "output_type": "stream",
     "text": [
      "/home/mcc/Desktop/Life_Expectancy_Analysis_Modeling/4_Life_Expectancy_Exploratory_Data_Analysis_PART2-jvsc-ef2c3a0b-90b4-4525-ad95-b239ad6ab215f5da0ed2-e117-4450-ad70-9f96307f7ba0.ipynb\n",
      "/home/mcc/Desktop/Life_Expectancy_Analysis_Modeling/requirements.txt\n",
      "/home/mcc/Desktop/Life_Expectancy_Analysis_Modeling/1_MAIN_Life_Expectancy_WHO_UN_Analysis_Modeling_MAIN-jvsc-df8d4607-1ca1-4f37-b544-28cf8461137d10d9a541-35da-47cf-8749-f65553488c40.ipynb\n",
      "/home/mcc/Desktop/Life_Expectancy_Analysis_Modeling/README.md\n",
      "/home/mcc/Desktop/Life_Expectancy_Analysis_Modeling/4_Life_Expectancy_Exploratory_Data_Analysis_PART2-jvsc-864cb06e-1082-4ab2-9fd5-50ca4e9fcce451cb8354-5cc0-489f-ab27-bde5c88d5de0.ipynb\n",
      "/home/mcc/Desktop/Life_Expectancy_Analysis_Modeling/reports/config_default.yaml\n",
      "/home/mcc/Desktop/Life_Expectancy_Analysis_Modeling/reports/Life Expecteancy: IDA_EDA Report Using Pandas Profiling.html\n",
      "/home/mcc/Desktop/Life_Expectancy_Analysis_Modeling/data/raw/Life_Expectancy_Data.csv\n",
      "/home/mcc/Desktop/Life_Expectancy_Analysis_Modeling/data/processed/Clean_LE_Data_w_Means_2.csv\n",
      "/home/mcc/Desktop/Life_Expectancy_Analysis_Modeling/data/processed/Clean_LE_Data_Post_EDA_3.csv\n",
      "/home/mcc/Desktop/Life_Expectancy_Analysis_Modeling/data/processed/Clean_LE_Data_FEng_4.csv\n",
      "/home/mcc/Desktop/Life_Expectancy_Analysis_Modeling/data/processed/x_train.csv\n",
      "/home/mcc/Desktop/Life_Expectancy_Analysis_Modeling/data/processed/y_train.csv\n",
      "/home/mcc/Desktop/Life_Expectancy_Analysis_Modeling/data/processed/y_test.csv\n",
      "/home/mcc/Desktop/Life_Expectancy_Analysis_Modeling/data/processed/x_test.csv\n",
      "/home/mcc/Desktop/Life_Expectancy_Analysis_Modeling/.git/packed-refs\n",
      "/home/mcc/Desktop/Life_Expectancy_Analysis_Modeling/.git/COMMIT_EDITMSG\n",
      "/home/mcc/Desktop/Life_Expectancy_Analysis_Modeling/.git/description\n",
      "/home/mcc/Desktop/Life_Expectancy_Analysis_Modeling/.git/FETCH_HEAD\n",
      "/home/mcc/Desktop/Life_Expectancy_Analysis_Modeling/.git/config\n",
      "/home/mcc/Desktop/Life_Expectancy_Analysis_Modeling/.git/HEAD\n",
      "/home/mcc/Desktop/Life_Expectancy_Analysis_Modeling/.git/ORIG_HEAD\n",
      "/home/mcc/Desktop/Life_Expectancy_Analysis_Modeling/.git/index\n",
      "/home/mcc/Desktop/Life_Expectancy_Analysis_Modeling/.git/refs/heads/main\n",
      "/home/mcc/Desktop/Life_Expectancy_Analysis_Modeling/.git/refs/remotes/origin/main\n",
      "/home/mcc/Desktop/Life_Expectancy_Analysis_Modeling/.git/refs/remotes/origin/HEAD\n",
      "/home/mcc/Desktop/Life_Expectancy_Analysis_Modeling/.git/hooks/pre-receive.sample\n",
      "/home/mcc/Desktop/Life_Expectancy_Analysis_Modeling/.git/hooks/pre-rebase.sample\n",
      "/home/mcc/Desktop/Life_Expectancy_Analysis_Modeling/.git/hooks/applypatch-msg.sample\n",
      "/home/mcc/Desktop/Life_Expectancy_Analysis_Modeling/.git/hooks/pre-push.sample\n",
      "/home/mcc/Desktop/Life_Expectancy_Analysis_Modeling/.git/hooks/pre-commit.sample\n",
      "/home/mcc/Desktop/Life_Expectancy_Analysis_Modeling/.git/hooks/update.sample\n",
      "/home/mcc/Desktop/Life_Expectancy_Analysis_Modeling/.git/hooks/prepare-commit-msg.sample\n",
      "/home/mcc/Desktop/Life_Expectancy_Analysis_Modeling/.git/hooks/pre-applypatch.sample\n",
      "/home/mcc/Desktop/Life_Expectancy_Analysis_Modeling/.git/hooks/fsmonitor-watchman.sample\n",
      "/home/mcc/Desktop/Life_Expectancy_Analysis_Modeling/.git/hooks/commit-msg.sample\n",
      "/home/mcc/Desktop/Life_Expectancy_Analysis_Modeling/.git/hooks/push-to-checkout.sample\n",
      "/home/mcc/Desktop/Life_Expectancy_Analysis_Modeling/.git/hooks/post-update.sample\n",
      "/home/mcc/Desktop/Life_Expectancy_Analysis_Modeling/.git/hooks/pre-merge-commit.sample\n",
      "/home/mcc/Desktop/Life_Expectancy_Analysis_Modeling/.git/info/exclude\n",
      "/home/mcc/Desktop/Life_Expectancy_Analysis_Modeling/.git/logs/HEAD\n",
      "/home/mcc/Desktop/Life_Expectancy_Analysis_Modeling/.git/logs/refs/heads/main\n",
      "/home/mcc/Desktop/Life_Expectancy_Analysis_Modeling/.git/logs/refs/remotes/origin/main\n",
      "/home/mcc/Desktop/Life_Expectancy_Analysis_Modeling/.git/logs/refs/remotes/origin/HEAD\n",
      "/home/mcc/Desktop/Life_Expectancy_Analysis_Modeling/.git/objects/10/b18ee7b758c08fcb63be3fed96dde58cf5292f\n",
      "/home/mcc/Desktop/Life_Expectancy_Analysis_Modeling/.git/objects/d1/93cdd237a58a1af8b1f24e90d4717976176866\n",
      "/home/mcc/Desktop/Life_Expectancy_Analysis_Modeling/.git/objects/6f/a9434b20a3c22904da5b64f40147f536a39606\n",
      "/home/mcc/Desktop/Life_Expectancy_Analysis_Modeling/.git/objects/75/1c5e0a416b427a4c2265005574851206a56128\n",
      "/home/mcc/Desktop/Life_Expectancy_Analysis_Modeling/.git/objects/pack/pack-37553521a9e3a93e9ec2cb59c66efd4d8eff3c97.pack\n",
      "/home/mcc/Desktop/Life_Expectancy_Analysis_Modeling/.git/objects/pack/pack-37553521a9e3a93e9ec2cb59c66efd4d8eff3c97.idx\n",
      "/home/mcc/Desktop/Life_Expectancy_Analysis_Modeling/.git/objects/35/18f50c45b85f023abef431d8f49d8ed9c35b59\n",
      "/home/mcc/Desktop/Life_Expectancy_Analysis_Modeling/.git/objects/c3/0352929ca9ce5019376e24ccba0b68305ea389\n",
      "/home/mcc/Desktop/Life_Expectancy_Analysis_Modeling/.git/objects/e5/ae6875c8918a8d4befeb122f4a1a1022e4c293\n",
      "/home/mcc/Desktop/Life_Expectancy_Analysis_Modeling/.git/objects/1e/e3351d239e48d1fe862913ff2fbef6187aafb3\n",
      "/home/mcc/Desktop/Life_Expectancy_Analysis_Modeling/.git/objects/44/14e4d4ab8c492020247e79777476c2c9745a31\n",
      "/home/mcc/Desktop/Life_Expectancy_Analysis_Modeling/.git/objects/c8/8e303b8afa77155535eec6928933b142291a81\n",
      "/home/mcc/Desktop/Life_Expectancy_Analysis_Modeling/.git/objects/c8/e72647ff5ac2f5f25859676786db1ae128c41b\n",
      "/home/mcc/Desktop/Life_Expectancy_Analysis_Modeling/.git/objects/c1/764bd55810757069b604941fd12e466ce20852\n",
      "/home/mcc/Desktop/Life_Expectancy_Analysis_Modeling/.git/objects/e1/6c260868d897f1ed933315df6566155427a11b\n",
      "/home/mcc/Desktop/Life_Expectancy_Analysis_Modeling/.git/objects/d8/34795d2fdba353298524b0f944f66967869533\n",
      "/home/mcc/Desktop/Life_Expectancy_Analysis_Modeling/.git/objects/36/75f80e09b2de5e7b78e6b4c1e07c500bd87109\n",
      "/home/mcc/Desktop/Life_Expectancy_Analysis_Modeling/.git/objects/92/469be103e2d7f0a3baf0d60144ec48172a3a81\n",
      "/home/mcc/Desktop/Life_Expectancy_Analysis_Modeling/.git/objects/fc/49c991af95a8c069af32350935d4df71d73c72\n",
      "/home/mcc/Desktop/Life_Expectancy_Analysis_Modeling/notebooks/Clean_LE_Data_w_Means_2.csv\n",
      "/home/mcc/Desktop/Life_Expectancy_Analysis_Modeling/notebooks/4_Life_Expectancy_Exploratory_Data_Analysis_PART2-jvsc-ef2c3a0b-90b4-4525-ad95-b239ad6ab215f5da0ed2-e117-4450-ad70-9f96307f7ba0.ipynb\n",
      "/home/mcc/Desktop/Life_Expectancy_Analysis_Modeling/notebooks/1_MAIN_Life_Expectancy_WHO_UN_Analysis_Modeling_MAIN.ipynb\n",
      "/home/mcc/Desktop/Life_Expectancy_Analysis_Modeling/notebooks/5_Life_Expectancy_Feature_Engineering.ipynb\n",
      "/home/mcc/Desktop/Life_Expectancy_Analysis_Modeling/notebooks/7_Modeling_NOTES.ipynb\n",
      "/home/mcc/Desktop/Life_Expectancy_Analysis_Modeling/notebooks/6_Life_Expectancy_Recursive_Feature_Elimination.ipynb\n",
      "/home/mcc/Desktop/Life_Expectancy_Analysis_Modeling/notebooks/Clean_LE_Data_Post_EDA_3.csv\n",
      "/home/mcc/Desktop/Life_Expectancy_Analysis_Modeling/notebooks/Clean_LE_Data_FEng_4.csv\n",
      "/home/mcc/Desktop/Life_Expectancy_Analysis_Modeling/notebooks/7_Life_Expectancy_Modeling.ipynb\n",
      "/home/mcc/Desktop/Life_Expectancy_Analysis_Modeling/notebooks/2_Life_Expectancy_Initial_Data_Analysis.ipynb\n",
      "/home/mcc/Desktop/Life_Expectancy_Analysis_Modeling/notebooks/Life_Expectancy_Data.csv\n",
      "/home/mcc/Desktop/Life_Expectancy_Analysis_Modeling/notebooks/4_Life_Expectancy_Exploratory_Data_Analysis_PART2.ipynb\n",
      "/home/mcc/Desktop/Life_Expectancy_Analysis_Modeling/notebooks/x_train.csv\n",
      "/home/mcc/Desktop/Life_Expectancy_Analysis_Modeling/notebooks/3_Life_Expectancy_EDA.ipynb\n",
      "/home/mcc/Desktop/Life_Expectancy_Analysis_Modeling/notebooks/y_train.csv\n",
      "/home/mcc/Desktop/Life_Expectancy_Analysis_Modeling/notebooks/1_MAIN_Life_Expectancy_WHO_UN_Analysis_Modeling_MAIN-jvsc-df8d4607-1ca1-4f37-b544-28cf8461137d10d9a541-35da-47cf-8749-f65553488c40.ipynb\n",
      "/home/mcc/Desktop/Life_Expectancy_Analysis_Modeling/notebooks/y_test.csv\n",
      "/home/mcc/Desktop/Life_Expectancy_Analysis_Modeling/notebooks/4_Life_Expectancy_Exploratory_Data_Analysis_PART2-jvsc-864cb06e-1082-4ab2-9fd5-50ca4e9fcce451cb8354-5cc0-489f-ab27-bde5c88d5de0.ipynb\n",
      "/home/mcc/Desktop/Life_Expectancy_Analysis_Modeling/notebooks/x_test.csv\n",
      "/home/mcc/Desktop/Life_Expectancy_Analysis_Modeling/notebooks/7_Modeling.ipynb\n",
      "/home/mcc/Desktop/Life_Expectancy_Analysis_Modeling/notebooks/.ipynb_checkpoints/Untitled-checkpoint.ipynb\n",
      "/home/mcc/Desktop/Life_Expectancy_Analysis_Modeling/.ipynb_checkpoints/Untitled-checkpoint.ipynb\n"
     ]
    }
   ],
   "source": [
    "import os\n",
    "for dirname, _, filenames in os.walk('/home/mcc/Desktop/Life_Expectancy_Analysis_Modeling'):\n",
    "    for filename in filenames:\n",
    "        print(os.path.join(dirname, filename))"
   ]
  },
  {
   "cell_type": "code",
   "execution_count": null,
   "id": "1c2b6b22",
   "metadata": {},
   "outputs": [],
   "source": []
  }
 ],
 "metadata": {
  "kernelspec": {
   "display_name": "Python 3",
   "language": "python",
   "name": "python3"
  },
  "language_info": {
   "codemirror_mode": {
    "name": "ipython",
    "version": 3
   },
   "file_extension": ".py",
   "mimetype": "text/x-python",
   "name": "python",
   "nbconvert_exporter": "python",
   "pygments_lexer": "ipython3",
   "version": "3.10.6"
  },
  "toc": {
   "base_numbering": 1,
   "nav_menu": {},
   "number_sections": true,
   "sideBar": true,
   "skip_h1_title": true,
   "title_cell": "Table of Contents",
   "title_sidebar": "Contents",
   "toc_cell": true,
   "toc_position": {
    "height": "calc(100% - 180px)",
    "left": "10px",
    "top": "150px",
    "width": "165px"
   },
   "toc_section_display": true,
   "toc_window_display": false
  },
  "varInspector": {
   "cols": {
    "lenName": 16,
    "lenType": 16,
    "lenVar": 40
   },
   "kernels_config": {
    "python": {
     "delete_cmd_postfix": "",
     "delete_cmd_prefix": "del ",
     "library": "var_list.py",
     "varRefreshCmd": "print(var_dic_list())"
    },
    "r": {
     "delete_cmd_postfix": ") ",
     "delete_cmd_prefix": "rm(",
     "library": "var_list.r",
     "varRefreshCmd": "cat(var_dic_list()) "
    }
   },
   "types_to_exclude": [
    "module",
    "function",
    "builtin_function_or_method",
    "instance",
    "_Feature"
   ],
   "window_display": false
  },
  "vscode": {
   "interpreter": {
    "hash": "916dbcbb3f70747c44a77c7bcd40155683ae19c65e1c03b4aa3499c5328201f1"
   }
  }
 },
 "nbformat": 4,
 "nbformat_minor": 5
}
