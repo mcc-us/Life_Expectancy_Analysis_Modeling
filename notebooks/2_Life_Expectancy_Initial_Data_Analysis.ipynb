{
 "cells": [
  {
   "cell_type": "markdown",
   "id": "a752c232",
   "metadata": {
    "toc": true
   },
   "source": [
    "<h1>Table of Contents<span class=\"tocSkip\"></span></h1>\n",
    "<div class=\"toc\"><ul class=\"toc-item\"><li><span><a href=\"#Initial_Data_Analysis\" data-toc-modified-id=\"Initial_Data_Analysis-1\"><span class=\"toc-item-num\">1&nbsp;&nbsp;</span>Initial_Data_Analysis</a></span></li><li><span><a href=\"#Load,-rename-columns,-information\" data-toc-modified-id=\"Load,-rename-columns,-information-2\"><span class=\"toc-item-num\">2&nbsp;&nbsp;</span>Load, rename columns, information</a></span></li><li><span><a href=\"#Check-number-of-null-values\" data-toc-modified-id=\"Check-number-of-null-values-3\"><span class=\"toc-item-num\">3&nbsp;&nbsp;</span>Check number of null values</a></span></li><li><span><a href=\"#Drop-10-rows-containing-null-in-LifeExpectancy-column\" data-toc-modified-id=\"Drop-10-rows-containing-null-in-LifeExpectancy-column-4\"><span class=\"toc-item-num\">4&nbsp;&nbsp;</span>Drop 10 rows containing null in <code>LifeExpectancy</code> column</a></span><ul class=\"toc-item\"><li><span><a href=\"#NOTE-1:\" data-toc-modified-id=\"NOTE-1:-4.1\"><span class=\"toc-item-num\">4.1&nbsp;&nbsp;</span>NOTE 1:</a></span></li><li><span><a href=\"#NOTE-2:\" data-toc-modified-id=\"NOTE-2:-4.2\"><span class=\"toc-item-num\">4.2&nbsp;&nbsp;</span>NOTE 2:</a></span></li><li><span><a href=\"#NOTE-3:\" data-toc-modified-id=\"NOTE-3:-4.3\"><span class=\"toc-item-num\">4.3&nbsp;&nbsp;</span>NOTE 3:</a></span></li></ul></li><li><span><a href=\"#Imputation-using-column-means\" data-toc-modified-id=\"Imputation-using-column-means-5\"><span class=\"toc-item-num\">5&nbsp;&nbsp;</span>Imputation using column means</a></span></li><li><span><a href=\"#Re-Check-null-data-points\" data-toc-modified-id=\"Re-Check-null-data-points-6\"><span class=\"toc-item-num\">6&nbsp;&nbsp;</span>Re-Check null data points</a></span></li><li><span><a href=\"#Save-intermediate-dataframe\" data-toc-modified-id=\"Save-intermediate-dataframe-7\"><span class=\"toc-item-num\">7&nbsp;&nbsp;</span>Save intermediate dataframe</a></span></li></ul></div>"
   ]
  },
  {
   "attachments": {},
   "cell_type": "markdown",
   "id": "3f5ac5ac",
   "metadata": {},
   "source": [
    "# Life_Expectancy_WHO_UN_Analysis_Modeling\n",
    "\n",
    "## Initial_Data_Analysis\n",
    "\n",
    "To:&nbsp;&nbsp;&nbsp;&nbsp; [Magnimind](https://magnimindacademy.com/)\n",
    "\n",
    "From: Matt Curcio, matt.curcio.ri@gmail.com\n",
    "\n",
    "Date: 2023-01-29\n",
    "\n",
    "Re:&nbsp;&nbsp;&nbsp; NOTEBOOK #2\n",
    "\n",
    "---\n",
    "\n",
    "This python notebook simply takes the original data file `Life_Expectancy_Data.csv` and produces an intermediate file `Clean_LE_Data_w_Means_1.csv`.\n",
    "\n",
    "\n",
    "| **List Of Features** | **Description** |\n",
    "|:---------------------|:----------------|\n",
    "| **Year** |  Year  |\n",
    "| **Country** |   Country |\n",
    "| **Status** |  Developed(1) or Developing(0) |\n",
    "| **GDP** |  Gross Domestic Product per capita (in USD) |\n",
    "| **TotalExpen** |    Total Expenditure |\n",
    "| **PercExpen** |   Percent Expenditure |\n",
    "| **Income** |   Income composition of resources, Human Development Index |\n",
    "| **Population** |   Population of country |\n",
    "| **Education** |  Years of Education |\n",
    "| **EtOH** |  Alcohol consumption, litres of pure alcohol per capita  |\n",
    "| **HepB** |   Hepatitis B: % immunization coverage among 1-year-olds |\n",
    "| **Measles** |   Number of reported cases per 1,000 population |\n",
    "| **DTP** |    Diphtheria, tetanus toxoid & pertussis % immunization coverage among 1-year-olds |\n",
    "| **Polio** |   Pol3: % immunization coverage among 1-year-olds |\n",
    "| **HIV** |   HIV/AIDS: Deaths per 1,000 (0-4 years) |\n",
    "| **BMI** |   Average Body Mass Index of entire population |\n",
    "| **AdultMort** |  Adult Mortality Rates of both sexes (probability of dying between 15 and 60 years per 1000 population) \n",
    "| **InfD** |   Number of Infant Deaths per 1,000 population |\n",
    "| **lt5y_D** |  Number of under-five deaths per 1,000 population |\n",
    "| **Thin1_19y** |  % Prevalence of thinness among children and adolescents 10 < Age < 19 |\n",
    "| **Thin5_9y** |  % Prevalence of thinness among children and adolescents 5 < Age < 9 |\n",
    "| **LifeExpectancy** |   Life Expectancy (Yr) |"
   ]
  },
  {
   "cell_type": "code",
   "execution_count": 1,
   "id": "656d8c75",
   "metadata": {},
   "outputs": [],
   "source": [
    "# Common Python Libraries\n",
    "import numpy as np\n",
    "import pandas as pd\n",
    "import matplotlib.pyplot as plt\n",
    "%matplotlib inline\n",
    "import seaborn as sns"
   ]
  },
  {
   "cell_type": "code",
   "execution_count": 2,
   "id": "dd13bccf",
   "metadata": {},
   "outputs": [
    {
     "name": "stdout",
     "output_type": "stream",
     "text": [
      "ls: cannot access '*.csv': No such file or directory\n"
     ]
    }
   ],
   "source": [
    "!ls *.csv"
   ]
  },
  {
   "cell_type": "markdown",
   "id": "e99d56e5",
   "metadata": {},
   "source": [
    "## Load, rename columns, information"
   ]
  },
  {
   "cell_type": "code",
   "execution_count": 3,
   "id": "06115e7f",
   "metadata": {},
   "outputs": [
    {
     "name": "stdout",
     "output_type": "stream",
     "text": [
      "<class 'pandas.core.frame.DataFrame'>\n",
      "RangeIndex: 2938 entries, 0 to 2937\n",
      "Data columns (total 22 columns):\n",
      " #   Column          Non-Null Count  Dtype  \n",
      "---  ------          --------------  -----  \n",
      " 0   Country         2938 non-null   object \n",
      " 1   Year            2938 non-null   int64  \n",
      " 2   Status          2938 non-null   object \n",
      " 3   LifeExpectancy  2928 non-null   float64\n",
      " 4   AdultMort       2928 non-null   float64\n",
      " 5   InfD            2938 non-null   int64  \n",
      " 6   EtOH            2744 non-null   float64\n",
      " 7   PercExpen       2938 non-null   float64\n",
      " 8   HepB            2385 non-null   float64\n",
      " 9   Measles         2938 non-null   int64  \n",
      " 10  BMI             2904 non-null   float64\n",
      " 11  lt5yD           2938 non-null   int64  \n",
      " 12  Polio           2919 non-null   float64\n",
      " 13  TotalExpen      2712 non-null   float64\n",
      " 14  DTP             2919 non-null   float64\n",
      " 15  HIV             2938 non-null   float64\n",
      " 16  GDP             2490 non-null   float64\n",
      " 17  Population      2286 non-null   float64\n",
      " 18  Thin1_19y       2904 non-null   float64\n",
      " 19  Thin5_9y        2904 non-null   float64\n",
      " 20  Income          2771 non-null   float64\n",
      " 21  Education       2775 non-null   float64\n",
      "dtypes: float64(16), int64(4), object(2)\n",
      "memory usage: 505.1+ KB\n"
     ]
    }
   ],
   "source": [
    "filename = 'Life_Expectancy_Data.csv'\n",
    "\n",
    "column_names = ['Country','Year','Status','LifeExpectancy','AdultMort',\n",
    "                'InfD','EtOH','PercExpen','HepB','Measles',\n",
    "                'BMI','lt5yD','Polio','TotalExpen','DTP','HIV',\n",
    "                'GDP','Population','Thin1_19y','Thin5_9y','Income',\n",
    "                'Education']\n",
    "\n",
    "df = pd.read_csv(filename, names=column_names, header=0)\n",
    "\n",
    "df.info()"
   ]
  },
  {
   "cell_type": "markdown",
   "id": "bc0d9af6",
   "metadata": {},
   "source": [
    "## Check number of null values"
   ]
  },
  {
   "cell_type": "code",
   "execution_count": 4,
   "id": "4cab4dae",
   "metadata": {
    "scrolled": false
   },
   "outputs": [
    {
     "data": {
      "text/plain": [
       "Country             0\n",
       "Year                0\n",
       "Status              0\n",
       "LifeExpectancy     10\n",
       "AdultMort          10\n",
       "InfD                0\n",
       "EtOH              194\n",
       "PercExpen           0\n",
       "HepB              553\n",
       "Measles             0\n",
       "BMI                34\n",
       "lt5yD               0\n",
       "Polio              19\n",
       "TotalExpen        226\n",
       "DTP                19\n",
       "HIV                 0\n",
       "GDP               448\n",
       "Population        652\n",
       "Thin1_19y          34\n",
       "Thin5_9y           34\n",
       "Income            167\n",
       "Education         163\n",
       "dtype: int64"
      ]
     },
     "execution_count": 4,
     "metadata": {},
     "output_type": "execute_result"
    }
   ],
   "source": [
    "df.isnull().sum()"
   ]
  },
  {
   "attachments": {},
   "cell_type": "markdown",
   "id": "4e26f58c",
   "metadata": {},
   "source": [
    "### NOTE 1: \n",
    "- The feature 'LifeExpectancy' has 10 missing values. \n",
    " \n",
    "- Therefore the 10 rows that have NAN values will be deleted. Because 'LifeExpectancy' is a Dependent variable, I will delete those 10 observations with NO labels rather than impute them.\n",
    "\n",
    "- Drop 10 rows containing null in `LifeExpectancy` column\n",
    " \n",
    "- The 'LifeExpectancy' feature appear to be **Missing Completely at Random(MCAR)**. The main advantage of **MCAR** is that the analysis is unbiased. Data lost with design fault do not impact other parameters in the model. "
   ]
  },
  {
   "cell_type": "code",
   "execution_count": 5,
   "id": "bf72eff3",
   "metadata": {},
   "outputs": [],
   "source": [
    "df.dropna(subset=['LifeExpectancy'], inplace=True) # 10 rows deleted"
   ]
  },
  {
   "cell_type": "code",
   "execution_count": 6,
   "id": "d0e4a1bd",
   "metadata": {},
   "outputs": [
    {
     "name": "stdout",
     "output_type": "stream",
     "text": [
      "\n",
      "Dataframe df shape: (2928, 22)\n"
     ]
    },
    {
     "data": {
      "text/plain": [
       "Country             0\n",
       "Year                0\n",
       "Status              0\n",
       "LifeExpectancy      0\n",
       "AdultMort           0\n",
       "InfD                0\n",
       "EtOH              193\n",
       "PercExpen           0\n",
       "HepB              553\n",
       "Measles             0\n",
       "BMI                32\n",
       "lt5yD               0\n",
       "Polio              19\n",
       "TotalExpen        226\n",
       "DTP                19\n",
       "HIV                 0\n",
       "GDP               443\n",
       "Population        644\n",
       "Thin1_19y          32\n",
       "Thin5_9y           32\n",
       "Income            160\n",
       "Education         160\n",
       "dtype: int64"
      ]
     },
     "execution_count": 6,
     "metadata": {},
     "output_type": "execute_result"
    }
   ],
   "source": [
    "print('\\nDataframe df shape:', df.shape)\n",
    "\n",
    "df.isnull().sum()"
   ]
  },
  {
   "attachments": {},
   "cell_type": "markdown",
   "id": "facc5c8b",
   "metadata": {},
   "source": [
    "### NOTE 2: \n",
    "- The five features with the highest number of mising vlaues (out of 2928) are:\n",
    "\n",
    "|  | Feature | Number Missing | % Missing |\n",
    "|--|:--------|---------------:|----------:|\n",
    "|1 | Population | 644 | 22.0% |\n",
    "|2 | HepB | 553 |  18.9% |\n",
    "|3 | GDP | 448 | 15.3% |\n",
    "|4 | TotalExpen | 226 | 7.7% |\n",
    "|5 | EtOH | 193 | 6.6% |"
   ]
  },
  {
   "cell_type": "markdown",
   "id": "3a701fe0",
   "metadata": {},
   "source": [
    "### NOTE 3: \n",
    "- Drop feature columns ['Population', 'HepB', 'GDP'] where % Missing is greater than 15%.\n",
    "\n",
    "- More data scraping or gathering needs to be done in at least 5 areas.\n",
    "   - 1 \tCountry Population\n",
    "   - 2 \tHepititus B Vaccination rates\n",
    "   - 3 \tGross Domestic Product\n",
    "   - 4 \tTotal Expenditure of Country Funds: Health Related\n",
    "   - 5 \tEthanol Comsumption per capita"
   ]
  },
  {
   "cell_type": "code",
   "execution_count": 7,
   "id": "4710c8ef",
   "metadata": {},
   "outputs": [
    {
     "name": "stdout",
     "output_type": "stream",
     "text": [
      "<class 'pandas.core.frame.DataFrame'>\n",
      "Int64Index: 2928 entries, 0 to 2937\n",
      "Data columns (total 19 columns):\n",
      " #   Column          Non-Null Count  Dtype  \n",
      "---  ------          --------------  -----  \n",
      " 0   Country         2928 non-null   object \n",
      " 1   Year            2928 non-null   int64  \n",
      " 2   Status          2928 non-null   object \n",
      " 3   LifeExpectancy  2928 non-null   float64\n",
      " 4   AdultMort       2928 non-null   float64\n",
      " 5   InfD            2928 non-null   int64  \n",
      " 6   EtOH            2735 non-null   float64\n",
      " 7   PercExpen       2928 non-null   float64\n",
      " 8   Measles         2928 non-null   int64  \n",
      " 9   BMI             2896 non-null   float64\n",
      " 10  lt5yD           2928 non-null   int64  \n",
      " 11  Polio           2909 non-null   float64\n",
      " 12  TotalExpen      2702 non-null   float64\n",
      " 13  DTP             2909 non-null   float64\n",
      " 14  HIV             2928 non-null   float64\n",
      " 15  Thin1_19y       2896 non-null   float64\n",
      " 16  Thin5_9y        2896 non-null   float64\n",
      " 17  Income          2768 non-null   float64\n",
      " 18  Education       2768 non-null   float64\n",
      "dtypes: float64(13), int64(4), object(2)\n",
      "memory usage: 457.5+ KB\n"
     ]
    }
   ],
   "source": [
    "df.drop(['Population', 'HepB', 'GDP'], axis=1, inplace=True)\n",
    "\n",
    "df.info()"
   ]
  },
  {
   "cell_type": "markdown",
   "id": "bff3fbd3",
   "metadata": {},
   "source": [
    "## Imputation using column means"
   ]
  },
  {
   "cell_type": "code",
   "execution_count": 8,
   "id": "cbd80604",
   "metadata": {},
   "outputs": [],
   "source": [
    "df['InfD'].fillna(np.mean(df.InfD), inplace=True)\n",
    "df['EtOH'].fillna(np.mean(df.EtOH), inplace=True)\n",
    "df['PercExpen'].fillna(np.mean(df.PercExpen), inplace=True)\n",
    "df['Measles'].fillna(np.mean(df.Measles), inplace=True)\n",
    "df['BMI'].fillna(np.mean(df.BMI), inplace=True)\n",
    "df['Polio'].fillna(np.mean(df.Polio), inplace=True)\n",
    "df['TotalExpen'].fillna(np.mean(df.TotalExpen), inplace=True)\n",
    "df['DTP'].fillna(np.mean(df.DTP), inplace=True)\n",
    "df['Thin1_19y'].fillna(np.mean(df.Thin1_19y), inplace=True)\n",
    "df['Thin5_9y'].fillna(np.mean(df.Thin5_9y), inplace=True)\n",
    "df['Income'].fillna(np.mean(df.Income), inplace=True)\n",
    "df['Education'].fillna(np.mean(df.Education), inplace=True)\n",
    "\n",
    "# Convert Dev status to a binary variable, where Developing Nations = 0, Developed Nation status = 1.\n",
    "df['Status'] = df['Status'].apply(lambda x: 0 if x == 'Developing' else 1).astype('int8')"
   ]
  },
  {
   "cell_type": "markdown",
   "id": "7999c53b",
   "metadata": {},
   "source": [
    "## Re-Check null data points"
   ]
  },
  {
   "cell_type": "code",
   "execution_count": 9,
   "id": "0190a1e6",
   "metadata": {},
   "outputs": [
    {
     "name": "stdout",
     "output_type": "stream",
     "text": [
      "\n",
      "Shape of Cleaned and Imputed dataframe: (2928, 19)\n"
     ]
    },
    {
     "data": {
      "text/plain": [
       "Country           0\n",
       "Year              0\n",
       "Status            0\n",
       "LifeExpectancy    0\n",
       "AdultMort         0\n",
       "InfD              0\n",
       "EtOH              0\n",
       "PercExpen         0\n",
       "Measles           0\n",
       "BMI               0\n",
       "lt5yD             0\n",
       "Polio             0\n",
       "TotalExpen        0\n",
       "DTP               0\n",
       "HIV               0\n",
       "Thin1_19y         0\n",
       "Thin5_9y          0\n",
       "Income            0\n",
       "Education         0\n",
       "dtype: int64"
      ]
     },
     "execution_count": 9,
     "metadata": {},
     "output_type": "execute_result"
    }
   ],
   "source": [
    "print('\\nShape of Cleaned and Imputed dataframe:', df.shape)\n",
    "      \n",
    "df.isnull().sum()"
   ]
  },
  {
   "cell_type": "markdown",
   "id": "2804ee73",
   "metadata": {},
   "source": [
    "## Save intermediate dataframe"
   ]
  },
  {
   "cell_type": "code",
   "execution_count": 10,
   "id": "c0f4a104",
   "metadata": {},
   "outputs": [],
   "source": [
    "df.to_csv(\"Clean_LE_Data_w_Means_2.csv\", index=False)"
   ]
  },
  {
   "cell_type": "code",
   "execution_count": 11,
   "id": "3052fce7",
   "metadata": {},
   "outputs": [
    {
     "name": "stdout",
     "output_type": "stream",
     "text": [
      "Clean_LE_Data_w_Means_2.csv  Life_Expectancy_Data.csv\n"
     ]
    }
   ],
   "source": [
    "!ls *.csv"
   ]
  },
  {
   "cell_type": "code",
   "execution_count": 12,
   "id": "db4022dc",
   "metadata": {},
   "outputs": [
    {
     "data": {
      "text/html": [
       "<div>\n",
       "<style scoped>\n",
       "    .dataframe tbody tr th:only-of-type {\n",
       "        vertical-align: middle;\n",
       "    }\n",
       "\n",
       "    .dataframe tbody tr th {\n",
       "        vertical-align: top;\n",
       "    }\n",
       "\n",
       "    .dataframe thead th {\n",
       "        text-align: right;\n",
       "    }\n",
       "</style>\n",
       "<table border=\"1\" class=\"dataframe\">\n",
       "  <thead>\n",
       "    <tr style=\"text-align: right;\">\n",
       "      <th></th>\n",
       "      <th>Country</th>\n",
       "      <th>Year</th>\n",
       "      <th>Status</th>\n",
       "      <th>LifeExpectancy</th>\n",
       "      <th>AdultMort</th>\n",
       "      <th>InfD</th>\n",
       "      <th>EtOH</th>\n",
       "      <th>PercExpen</th>\n",
       "      <th>Measles</th>\n",
       "      <th>BMI</th>\n",
       "      <th>lt5yD</th>\n",
       "      <th>Polio</th>\n",
       "      <th>TotalExpen</th>\n",
       "      <th>DTP</th>\n",
       "      <th>HIV</th>\n",
       "      <th>Thin1_19y</th>\n",
       "      <th>Thin5_9y</th>\n",
       "      <th>Income</th>\n",
       "      <th>Education</th>\n",
       "    </tr>\n",
       "  </thead>\n",
       "  <tbody>\n",
       "    <tr>\n",
       "      <th>0</th>\n",
       "      <td>Afghanistan</td>\n",
       "      <td>2015</td>\n",
       "      <td>0</td>\n",
       "      <td>65.0</td>\n",
       "      <td>263.0</td>\n",
       "      <td>62</td>\n",
       "      <td>0.01</td>\n",
       "      <td>71.279624</td>\n",
       "      <td>1154</td>\n",
       "      <td>19.1</td>\n",
       "      <td>83</td>\n",
       "      <td>6.0</td>\n",
       "      <td>8.16</td>\n",
       "      <td>65.0</td>\n",
       "      <td>0.1</td>\n",
       "      <td>17.2</td>\n",
       "      <td>17.3</td>\n",
       "      <td>0.479</td>\n",
       "      <td>10.1</td>\n",
       "    </tr>\n",
       "    <tr>\n",
       "      <th>1</th>\n",
       "      <td>Afghanistan</td>\n",
       "      <td>2014</td>\n",
       "      <td>0</td>\n",
       "      <td>59.9</td>\n",
       "      <td>271.0</td>\n",
       "      <td>64</td>\n",
       "      <td>0.01</td>\n",
       "      <td>73.523582</td>\n",
       "      <td>492</td>\n",
       "      <td>18.6</td>\n",
       "      <td>86</td>\n",
       "      <td>58.0</td>\n",
       "      <td>8.18</td>\n",
       "      <td>62.0</td>\n",
       "      <td>0.1</td>\n",
       "      <td>17.5</td>\n",
       "      <td>17.5</td>\n",
       "      <td>0.476</td>\n",
       "      <td>10.0</td>\n",
       "    </tr>\n",
       "    <tr>\n",
       "      <th>2</th>\n",
       "      <td>Afghanistan</td>\n",
       "      <td>2013</td>\n",
       "      <td>0</td>\n",
       "      <td>59.9</td>\n",
       "      <td>268.0</td>\n",
       "      <td>66</td>\n",
       "      <td>0.01</td>\n",
       "      <td>73.219243</td>\n",
       "      <td>430</td>\n",
       "      <td>18.1</td>\n",
       "      <td>89</td>\n",
       "      <td>62.0</td>\n",
       "      <td>8.13</td>\n",
       "      <td>64.0</td>\n",
       "      <td>0.1</td>\n",
       "      <td>17.7</td>\n",
       "      <td>17.7</td>\n",
       "      <td>0.470</td>\n",
       "      <td>9.9</td>\n",
       "    </tr>\n",
       "  </tbody>\n",
       "</table>\n",
       "</div>"
      ],
      "text/plain": [
       "       Country  Year  Status  LifeExpectancy  AdultMort  InfD  EtOH  \\\n",
       "0  Afghanistan  2015       0            65.0      263.0    62  0.01   \n",
       "1  Afghanistan  2014       0            59.9      271.0    64  0.01   \n",
       "2  Afghanistan  2013       0            59.9      268.0    66  0.01   \n",
       "\n",
       "   PercExpen  Measles   BMI  lt5yD  Polio  TotalExpen   DTP  HIV  Thin1_19y  \\\n",
       "0  71.279624     1154  19.1     83    6.0        8.16  65.0  0.1       17.2   \n",
       "1  73.523582      492  18.6     86   58.0        8.18  62.0  0.1       17.5   \n",
       "2  73.219243      430  18.1     89   62.0        8.13  64.0  0.1       17.7   \n",
       "\n",
       "   Thin5_9y  Income  Education  \n",
       "0      17.3   0.479       10.1  \n",
       "1      17.5   0.476       10.0  \n",
       "2      17.7   0.470        9.9  "
      ]
     },
     "execution_count": 12,
     "metadata": {},
     "output_type": "execute_result"
    }
   ],
   "source": [
    "df.head(3)"
   ]
  },
  {
   "cell_type": "code",
   "execution_count": null,
   "id": "b05c55fb",
   "metadata": {},
   "outputs": [],
   "source": []
  }
 ],
 "metadata": {
  "kernelspec": {
   "display_name": "base",
   "language": "python",
   "name": "python3"
  },
  "language_info": {
   "codemirror_mode": {
    "name": "ipython",
    "version": 3
   },
   "file_extension": ".py",
   "mimetype": "text/x-python",
   "name": "python",
   "nbconvert_exporter": "python",
   "pygments_lexer": "ipython3",
   "version": "3.9.16 (main, Jan 11 2023, 16:05:54) \n[GCC 11.2.0]"
  },
  "toc": {
   "base_numbering": 1,
   "nav_menu": {},
   "number_sections": true,
   "sideBar": true,
   "skip_h1_title": true,
   "title_cell": "Table of Contents",
   "title_sidebar": "Contents",
   "toc_cell": true,
   "toc_position": {},
   "toc_section_display": true,
   "toc_window_display": false
  },
  "varInspector": {
   "cols": {
    "lenName": 16,
    "lenType": 16,
    "lenVar": 40
   },
   "kernels_config": {
    "python": {
     "delete_cmd_postfix": "",
     "delete_cmd_prefix": "del ",
     "library": "var_list.py",
     "varRefreshCmd": "print(var_dic_list())"
    },
    "r": {
     "delete_cmd_postfix": ") ",
     "delete_cmd_prefix": "rm(",
     "library": "var_list.r",
     "varRefreshCmd": "cat(var_dic_list()) "
    }
   },
   "types_to_exclude": [
    "module",
    "function",
    "builtin_function_or_method",
    "instance",
    "_Feature"
   ],
   "window_display": false
  },
  "vscode": {
   "interpreter": {
    "hash": "ee253db64471d3bc5400655757329a6a33de9a5ca06cae94740881a9d5095460"
   }
  }
 },
 "nbformat": 4,
 "nbformat_minor": 5
}
