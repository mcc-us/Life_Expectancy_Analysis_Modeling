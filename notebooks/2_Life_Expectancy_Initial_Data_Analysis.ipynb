{
 "cells": [
  {
   "cell_type": "markdown",
   "id": "a752c232",
   "metadata": {
    "toc": true
   },
   "source": [
    "<h1>Table of Contents<span class=\"tocSkip\"></span></h1>\n",
    "<div class=\"toc\"><ul class=\"toc-item\"><li><span><a href=\"#Initial_Data_Analysis\" data-toc-modified-id=\"Initial_Data_Analysis-1\"><span class=\"toc-item-num\">1&nbsp;&nbsp;</span>Initial_Data_Analysis</a></span></li><li><span><a href=\"#Load,-rename-columns,-information\" data-toc-modified-id=\"Load,-rename-columns,-information-2\"><span class=\"toc-item-num\">2&nbsp;&nbsp;</span>Load, rename columns, information</a></span></li><li><span><a href=\"#Check-number-of-null-values\" data-toc-modified-id=\"Check-number-of-null-values-3\"><span class=\"toc-item-num\">3&nbsp;&nbsp;</span>Check number of null values</a></span><ul class=\"toc-item\"><li><span><a href=\"#NOTE-1:\" data-toc-modified-id=\"NOTE-1:-3.1\"><span class=\"toc-item-num\">3.1&nbsp;&nbsp;</span>NOTE 1:</a></span></li><li><span><a href=\"#NOTE-2:\" data-toc-modified-id=\"NOTE-2:-3.2\"><span class=\"toc-item-num\">3.2&nbsp;&nbsp;</span>NOTE 2:</a></span></li><li><span><a href=\"#NOTE-3:\" data-toc-modified-id=\"NOTE-3:-3.3\"><span class=\"toc-item-num\">3.3&nbsp;&nbsp;</span>NOTE 3:</a></span></li></ul></li><li><span><a href=\"#Imputation-using-column-means\" data-toc-modified-id=\"Imputation-using-column-means-4\"><span class=\"toc-item-num\">4&nbsp;&nbsp;</span>Imputation using column means</a></span></li><li><span><a href=\"#Re-Check-null-data-points\" data-toc-modified-id=\"Re-Check-null-data-points-5\"><span class=\"toc-item-num\">5&nbsp;&nbsp;</span>Re-Check null data points</a></span></li><li><span><a href=\"#Save-intermediate-dataframe\" data-toc-modified-id=\"Save-intermediate-dataframe-6\"><span class=\"toc-item-num\">6&nbsp;&nbsp;</span>Save intermediate dataframe</a></span></li></ul></div>"
   ]
  },
  {
   "cell_type": "markdown",
   "id": "3f5ac5ac",
   "metadata": {},
   "source": [
    "# Life_Expectancy_WHO_UN_Analysis_Modeling\n",
    "\n",
    "## Initial_Data_Analysis\n",
    "\n",
    "To:&nbsp;&nbsp;&nbsp;&nbsp; [Magnimind](https://magnimindacademy.com/)\n",
    "\n",
    "From: Matt Curcio, matt.curcio.ri@gmail.com\n",
    "\n",
    "Date: 2023-01-29\n",
    "\n",
    "Re:&nbsp;&nbsp;&nbsp; NOTEBOOK #2\n",
    "\n",
    "---\n",
    "\n",
    "This python notebook simply takes the original data file `Life_Expectancy_Data.csv` and produces an intermediate file `Clean_LE_Data_w_Means_1.csv`."
   ]
  },
  {
   "cell_type": "code",
   "execution_count": 1,
   "id": "656d8c75",
   "metadata": {},
   "outputs": [],
   "source": [
    "# Common Python Libraries\n",
    "import numpy as np\n",
    "import pandas as pd\n",
    "import matplotlib.pyplot as plt\n",
    "%matplotlib inline\n",
    "import seaborn as sns"
   ]
  },
  {
   "cell_type": "markdown",
   "id": "e99d56e5",
   "metadata": {},
   "source": [
    "## Load, rename columns, information"
   ]
  },
  {
   "cell_type": "code",
   "execution_count": 3,
   "id": "06115e7f",
   "metadata": {},
   "outputs": [
    {
     "name": "stdout",
     "output_type": "stream",
     "text": [
      "<class 'pandas.core.frame.DataFrame'>\n",
      "RangeIndex: 2938 entries, 0 to 2937\n",
      "Data columns (total 22 columns):\n",
      " #   Column          Non-Null Count  Dtype  \n",
      "---  ------          --------------  -----  \n",
      " 0   Country         2938 non-null   object \n",
      " 1   Year            2938 non-null   int64  \n",
      " 2   Status          2938 non-null   object \n",
      " 3   LifeExpectancy  2928 non-null   float64\n",
      " 4   AdultMort       2928 non-null   float64\n",
      " 5   InfD            2938 non-null   int64  \n",
      " 6   EtOH            2744 non-null   float64\n",
      " 7   PercExpen       2938 non-null   float64\n",
      " 8   HepB            2385 non-null   float64\n",
      " 9   Measles         2938 non-null   int64  \n",
      " 10  BMI             2904 non-null   float64\n",
      " 11  lt5yD           2938 non-null   int64  \n",
      " 12  Polio           2919 non-null   float64\n",
      " 13  TotalExpen      2712 non-null   float64\n",
      " 14  DTP             2919 non-null   float64\n",
      " 15  HIV             2938 non-null   float64\n",
      " 16  GDP             2490 non-null   float64\n",
      " 17  Population      2286 non-null   float64\n",
      " 18  Thin1_19y       2904 non-null   float64\n",
      " 19  Thin5_9y        2904 non-null   float64\n",
      " 20  Income          2771 non-null   float64\n",
      " 21  Education       2775 non-null   float64\n",
      "dtypes: float64(16), int64(4), object(2)\n",
      "memory usage: 505.1+ KB\n"
     ]
    }
   ],
   "source": [
    "filename = 'Life_Expectancy_Data.csv'\n",
    "\n",
    "column_names = ['Country','Year','Status','LifeExpectancy','AdultMort',\n",
    "                'InfD','EtOH','PercExpen','HepB','Measles',\n",
    "                'BMI','lt5yD','Polio','TotalExpen','DTP','HIV',\n",
    "                'GDP','Population','Thin1_19y','Thin5_9y','Income',\n",
    "                'Education']\n",
    "\n",
    "df = pd.read_csv(filename, names=column_names, header=0)\n",
    "\n",
    "df.info()"
   ]
  },
  {
   "cell_type": "markdown",
   "id": "bc0d9af6",
   "metadata": {},
   "source": [
    "## Check number of null values"
   ]
  },
  {
   "cell_type": "code",
   "execution_count": 4,
   "id": "4cab4dae",
   "metadata": {
    "scrolled": false
   },
   "outputs": [
    {
     "data": {
      "text/plain": [
       "Country             0\n",
       "Year                0\n",
       "Status              0\n",
       "LifeExpectancy     10\n",
       "AdultMort          10\n",
       "InfD                0\n",
       "EtOH              194\n",
       "PercExpen           0\n",
       "HepB              553\n",
       "Measles             0\n",
       "BMI                34\n",
       "lt5yD               0\n",
       "Polio              19\n",
       "TotalExpen        226\n",
       "DTP                19\n",
       "HIV                 0\n",
       "GDP               448\n",
       "Population        652\n",
       "Thin1_19y          34\n",
       "Thin5_9y           34\n",
       "Income            167\n",
       "Education         163\n",
       "dtype: int64"
      ]
     },
     "execution_count": 4,
     "metadata": {},
     "output_type": "execute_result"
    }
   ],
   "source": [
    "df.isnull().sum()"
   ]
  },
  {
   "cell_type": "markdown",
   "id": "4e26f58c",
   "metadata": {},
   "source": [
    "### NOTE 1: \n",
    "- The feature 'LifeExpectancy' has 10 missing values. \n",
    " \n",
    "- Therefore the 10 rows that have NAN values will be deleted. Because 'LifeExpectancy' is a Dependent variable, I will delete those 10 observations with NO labels rather than impute them.\n",
    "\n",
    "- Drop 10 rows containing null in `LifeExpectancy` column\n",
    " \n",
    "- The 'LifeExpectancy' feature appear to be **Missing Completely at Random(MCAR)**. The main advantage of **MCAR** is that the analysis is unbiased. Data lost with design fault do not impact other parameters in the model. "
   ]
  },
  {
   "cell_type": "code",
   "execution_count": 5,
   "id": "bf72eff3",
   "metadata": {},
   "outputs": [],
   "source": [
    "df.dropna(subset=['LifeExpectancy'], inplace=True) # 10 rows deleted"
   ]
  },
  {
   "cell_type": "code",
   "execution_count": 6,
   "id": "d0e4a1bd",
   "metadata": {},
   "outputs": [
    {
     "name": "stdout",
     "output_type": "stream",
     "text": [
      "\n",
      "Dataframe df shape: (2928, 22)\n"
     ]
    },
    {
     "data": {
      "text/plain": [
       "Country             0\n",
       "Year                0\n",
       "Status              0\n",
       "LifeExpectancy      0\n",
       "AdultMort           0\n",
       "InfD                0\n",
       "EtOH              193\n",
       "PercExpen           0\n",
       "HepB              553\n",
       "Measles             0\n",
       "BMI                32\n",
       "lt5yD               0\n",
       "Polio              19\n",
       "TotalExpen        226\n",
       "DTP                19\n",
       "HIV                 0\n",
       "GDP               443\n",
       "Population        644\n",
       "Thin1_19y          32\n",
       "Thin5_9y           32\n",
       "Income            160\n",
       "Education         160\n",
       "dtype: int64"
      ]
     },
     "execution_count": 6,
     "metadata": {},
     "output_type": "execute_result"
    }
   ],
   "source": [
    "print('\\nDataframe shape:', df.shape)\n",
    "\n",
    "df.isnull().sum()"
   ]
  },
  {
   "attachments": {},
   "cell_type": "markdown",
   "id": "facc5c8b",
   "metadata": {},
   "source": [
    "### NOTE 2: \n",
    "- The three features with the highest percent of mising vlaues are:\n",
    "\n",
    "|  | Feature | Number Missing | % Missing |\n",
    "|--|:--------|---------------:|----------:|\n",
    "|1 | Population | 644/2928 | 22.0% |\n",
    "|2 | HepB | 553/2928 |  18.9% |\n",
    "|3 | GDP | 448/2928 | 15.3% |"
   ]
  },
  {
   "cell_type": "markdown",
   "id": "3a701fe0",
   "metadata": {},
   "source": [
    "### NOTE 3: \n",
    "- Drop feature columns ['Population', 'HepB', 'GDP'] where % Missing is greater than 15%.\n",
    "\n",
    "\n",
    "- More data scraping or gathering needs to be done in at least 5 areas.\n",
    "   - 1 \tCountry Population\n",
    "   - 2 \tHepititus B Vaccination rates\n",
    "   - 3 \tGross Domestic Product\n",
    "   - 4 \tTotal Expenditure of Country Funds: Health Related\n",
    "   - 5 \tEthanol Comsumption per capita"
   ]
  },
  {
   "cell_type": "code",
   "execution_count": 7,
   "id": "4710c8ef",
   "metadata": {},
   "outputs": [
    {
     "name": "stdout",
     "output_type": "stream",
     "text": [
      "<class 'pandas.core.frame.DataFrame'>\n",
      "Int64Index: 2928 entries, 0 to 2937\n",
      "Data columns (total 19 columns):\n",
      " #   Column          Non-Null Count  Dtype  \n",
      "---  ------          --------------  -----  \n",
      " 0   Country         2928 non-null   object \n",
      " 1   Year            2928 non-null   int64  \n",
      " 2   Status          2928 non-null   object \n",
      " 3   LifeExpectancy  2928 non-null   float64\n",
      " 4   AdultMort       2928 non-null   float64\n",
      " 5   InfD            2928 non-null   int64  \n",
      " 6   EtOH            2735 non-null   float64\n",
      " 7   PercExpen       2928 non-null   float64\n",
      " 8   Measles         2928 non-null   int64  \n",
      " 9   BMI             2896 non-null   float64\n",
      " 10  lt5yD           2928 non-null   int64  \n",
      " 11  Polio           2909 non-null   float64\n",
      " 12  TotalExpen      2702 non-null   float64\n",
      " 13  DTP             2909 non-null   float64\n",
      " 14  HIV             2928 non-null   float64\n",
      " 15  Thin1_19y       2896 non-null   float64\n",
      " 16  Thin5_9y        2896 non-null   float64\n",
      " 17  Income          2768 non-null   float64\n",
      " 18  Education       2768 non-null   float64\n",
      "dtypes: float64(13), int64(4), object(2)\n",
      "memory usage: 457.5+ KB\n"
     ]
    }
   ],
   "source": [
    "df.drop(['Population', 'HepB', 'GDP'], axis=1, inplace=True)"
   ]
  },
  {
   "cell_type": "markdown",
   "id": "bff3fbd3",
   "metadata": {},
   "source": [
    "## Imputation using column means"
   ]
  },
  {
   "cell_type": "code",
   "execution_count": 8,
   "id": "cbd80604",
   "metadata": {},
   "outputs": [],
   "source": [
    "df['InfD'].fillna(np.mean(df.InfD), inplace=True)\n",
    "df['EtOH'].fillna(np.mean(df.EtOH), inplace=True)\n",
    "df['PercExpen'].fillna(np.mean(df.PercExpen), inplace=True)\n",
    "df['Measles'].fillna(np.mean(df.Measles), inplace=True)\n",
    "df['BMI'].fillna(np.mean(df.BMI), inplace=True)\n",
    "df['Polio'].fillna(np.mean(df.Polio), inplace=True)\n",
    "df['TotalExpen'].fillna(np.mean(df.TotalExpen), inplace=True)\n",
    "df['DTP'].fillna(np.mean(df.DTP), inplace=True)\n",
    "df['Thin1_19y'].fillna(np.mean(df.Thin1_19y), inplace=True)\n",
    "df['Thin5_9y'].fillna(np.mean(df.Thin5_9y), inplace=True)\n",
    "df['Income'].fillna(np.mean(df.Income), inplace=True)\n",
    "df['Education'].fillna(np.mean(df.Education), inplace=True)\n",
    "\n",
    "# Convert Dev status to a binary variable, where Developing Nations = 0, Developed Nation status = 1.\n",
    "df['Status'] = df['Status'].apply(lambda x: 0 if x == 'Developing' else 1).astype('int8')"
   ]
  },
  {
   "cell_type": "markdown",
   "id": "7999c53b",
   "metadata": {},
   "source": [
    "## Re-Check null data points"
   ]
  },
  {
   "cell_type": "code",
   "execution_count": 9,
   "id": "0190a1e6",
   "metadata": {},
   "outputs": [
    {
     "name": "stdout",
     "output_type": "stream",
     "text": [
      "\n",
      "Shape of Cleaned and Imputed dataframe: (2928, 19)\n"
     ]
    },
    {
     "data": {
      "text/plain": [
       "Country           0\n",
       "Year              0\n",
       "Status            0\n",
       "LifeExpectancy    0\n",
       "AdultMort         0\n",
       "InfD              0\n",
       "EtOH              0\n",
       "PercExpen         0\n",
       "Measles           0\n",
       "BMI               0\n",
       "lt5yD             0\n",
       "Polio             0\n",
       "TotalExpen        0\n",
       "DTP               0\n",
       "HIV               0\n",
       "Thin1_19y         0\n",
       "Thin5_9y          0\n",
       "Income            0\n",
       "Education         0\n",
       "dtype: int64"
      ]
     },
     "execution_count": 9,
     "metadata": {},
     "output_type": "execute_result"
    }
   ],
   "source": [
    "print('\\nShape of Cleaned and Imputed dataframe:', df.shape)\n",
    "      \n",
    "df.isnull().sum()"
   ]
  },
  {
   "cell_type": "markdown",
   "id": "2804ee73",
   "metadata": {},
   "source": [
    "## Save intermediate dataframe"
   ]
  },
  {
   "cell_type": "code",
   "execution_count": 10,
   "id": "c0f4a104",
   "metadata": {},
   "outputs": [],
   "source": [
    "df.to_csv(\"Clean_LE_Data_w_Means_2.csv\", index=False)"
   ]
  },
  {
   "cell_type": "code",
   "execution_count": null,
   "id": "b05c55fb",
   "metadata": {},
   "outputs": [],
   "source": []
  }
 ],
 "metadata": {
  "kernelspec": {
   "display_name": "Python 3 (ipykernel)",
   "language": "python",
   "name": "python3"
  },
  "language_info": {
   "codemirror_mode": {
    "name": "ipython",
    "version": 3
   },
   "file_extension": ".py",
   "mimetype": "text/x-python",
   "name": "python",
   "nbconvert_exporter": "python",
   "pygments_lexer": "ipython3",
   "version": "3.9.16 (main, Jan 11 2023, 16:05:54) \n[GCC 11.2.0]"
  },
  "toc": {
   "base_numbering": 1,
   "nav_menu": {},
   "number_sections": true,
   "sideBar": true,
   "skip_h1_title": true,
   "title_cell": "Table of Contents",
   "title_sidebar": "Contents",
   "toc_cell": true,
   "toc_position": {},
   "toc_section_display": true,
   "toc_window_display": false
  },
  "varInspector": {
   "cols": {
    "lenName": 16,
    "lenType": 16,
    "lenVar": 40
   },
   "kernels_config": {
    "python": {
     "delete_cmd_postfix": "",
     "delete_cmd_prefix": "del ",
     "library": "var_list.py",
     "varRefreshCmd": "print(var_dic_list())"
    },
    "r": {
     "delete_cmd_postfix": ") ",
     "delete_cmd_prefix": "rm(",
     "library": "var_list.r",
     "varRefreshCmd": "cat(var_dic_list()) "
    }
   },
   "types_to_exclude": [
    "module",
    "function",
    "builtin_function_or_method",
    "instance",
    "_Feature"
   ],
   "window_display": false
  },
  "vscode": {
   "interpreter": {
    "hash": "ee253db64471d3bc5400655757329a6a33de9a5ca06cae94740881a9d5095460"
   }
  }
 },
 "nbformat": 4,
 "nbformat_minor": 5
}
