{
 "cells": [
  {
   "attachments": {},
   "cell_type": "markdown",
   "metadata": {},
   "source": [
    "# Life Expectancy Analysis & Modeling Using WHO & UN Data\n",
    "\n",
    "## What makes a developed nation?\n",
    "\n",
    "To:&nbsp;&nbsp;&nbsp;&nbsp; [Magnimind](https://magnimindacademy.com/)\n",
    "\n",
    "From: Matt Curcio, matt.curcio.us@gmail.com\n",
    "\n",
    "Date: 2023-01-29\n",
    "\n",
    "Re:&nbsp;&nbsp;&nbsp; \n",
    "\n",
    "---\n",
    "\n",
    "## Executive Summary\n",
    "\n",
    "It lumps nations into the two standard categories, Developed and Developing, and several of these assignments seem questionable.\n",
    "\n",
    "Input: `Life_Expectancy_Data.csv`\n",
    "\n",
    "Output: `Clean_LE_Data_w_Means_1.csv`\n",
    "\n",
    "---"
   ]
  }
 ],
 "metadata": {
  "kernelspec": {
   "display_name": "Python 3",
   "language": "python",
   "name": "python3"
  },
  "language_info": {
   "name": "python",
   "version": "3.10.6"
  },
  "orig_nbformat": 4,
  "vscode": {
   "interpreter": {
    "hash": "916dbcbb3f70747c44a77c7bcd40155683ae19c65e1c03b4aa3499c5328201f1"
   }
  }
 },
 "nbformat": 4,
 "nbformat_minor": 2
}
