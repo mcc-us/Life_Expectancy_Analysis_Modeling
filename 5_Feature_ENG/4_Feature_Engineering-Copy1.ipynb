{
 "cells": [
  {
   "cell_type": "markdown",
   "id": "d9069ab7",
   "metadata": {
    "toc": true
   },
   "source": [
    "<h1>Table of Contents<span class=\"tocSkip\"></span></h1>\n",
    "<div class=\"toc\"><ul class=\"toc-item\"><li><span><a href=\"#Load-and-Verify-Data-Integrity\" data-toc-modified-id=\"Load-and-Verify-Data-Integrity-1\"><span class=\"toc-item-num\">1&nbsp;&nbsp;</span>Load and Verify Data Integrity</a></span></li><li><span><a href=\"#Categorize-Countries-into-Regions\" data-toc-modified-id=\"Categorize-Countries-into-Regions-2\"><span class=\"toc-item-num\">2&nbsp;&nbsp;</span>Categorize Countries into Regions</a></span><ul class=\"toc-item\"><li><span><a href=\"#NOTE-1:\" data-toc-modified-id=\"NOTE-1:-2.1\"><span class=\"toc-item-num\">2.1&nbsp;&nbsp;</span>NOTE 1:</a></span></li></ul></li><li><span><a href=\"#Discretization-of-BMI-data\" data-toc-modified-id=\"Discretization-of-BMI-data-3\"><span class=\"toc-item-num\">3&nbsp;&nbsp;</span>Discretization of BMI data</a></span></li><li><span><a href=\"#Save-Engineered-Data-for-Modeling\" data-toc-modified-id=\"Save-Engineered-Data-for-Modeling-4\"><span class=\"toc-item-num\">4&nbsp;&nbsp;</span>Save Engineered Data for Modeling</a></span></li></ul></div>"
   ]
  },
  {
   "cell_type": "markdown",
   "id": "0d6eaa04",
   "metadata": {},
   "source": [
    "# 4_Feature_Engineering\n",
    "\n",
    "Categorize Countires into Regions\n",
    "\n",
    "This file takes input of  `Clean_LE_Data_Post_EDA_2.csv`  and produces output of `?????regional_data_2.csv`\n",
    "\n",
    "- This list of countries and their regions was found on the site:\n",
    "\n",
    "    https://www.thoughtco.com/official-listing-of-countries-world-region-1435153"
   ]
  },
  {
   "cell_type": "markdown",
   "id": "b76a31a2",
   "metadata": {},
   "source": [
    "## Load and Verify Data Integrity"
   ]
  },
  {
   "cell_type": "code",
   "execution_count": 1,
   "id": "bb04b6d3",
   "metadata": {},
   "outputs": [],
   "source": [
    "# Common Python Libraries\n",
    "import numpy as np\n",
    "import pandas as pd\n",
    "import matplotlib.pyplot as plt\n",
    "%matplotlib inline\n",
    "import seaborn as sns"
   ]
  },
  {
   "cell_type": "code",
   "execution_count": 2,
   "id": "127f518f",
   "metadata": {},
   "outputs": [
    {
     "name": "stdout",
     "output_type": "stream",
     "text": [
      "Clean_LE_Data_Post_EDA_2.csv  Life_Expectancy_Data.csv\r\n",
      "Clean_LE_Data_w_Means_1.csv\r\n"
     ]
    }
   ],
   "source": [
    "!ls *.csv"
   ]
  },
  {
   "cell_type": "code",
   "execution_count": 3,
   "id": "2026d29a",
   "metadata": {},
   "outputs": [
    {
     "name": "stdout",
     "output_type": "stream",
     "text": [
      "<class 'pandas.core.frame.DataFrame'>\n",
      "RangeIndex: 2928 entries, 0 to 2927\n",
      "Data columns (total 15 columns):\n",
      " #   Column          Non-Null Count  Dtype   \n",
      "---  ------          --------------  -----   \n",
      " 0   Country         2928 non-null   object  \n",
      " 1   Year            2928 non-null   int64   \n",
      " 2   Status          2928 non-null   category\n",
      " 3   LifeExpectancy  2928 non-null   float64 \n",
      " 4   AdultMort       2928 non-null   float64 \n",
      " 5   EtOH            2928 non-null   float64 \n",
      " 6   BMI             2928 non-null   float64 \n",
      " 7   lt5yD           2928 non-null   int64   \n",
      " 8   Polio           2928 non-null   float64 \n",
      " 9   TotalExpen      2928 non-null   float64 \n",
      " 10  DTP             2928 non-null   float64 \n",
      " 11  HIV             2928 non-null   float64 \n",
      " 12  Thin5_9y        2928 non-null   float64 \n",
      " 13  Income          2928 non-null   float64 \n",
      " 14  Education       2928 non-null   float64 \n",
      "dtypes: category(1), float64(11), int64(2), object(1)\n",
      "memory usage: 323.4+ KB\n"
     ]
    }
   ],
   "source": [
    "filename = 'Clean_LE_Data_Post_EDA_2.csv'\n",
    "\n",
    "df = pd.read_csv(filename)\n",
    "\n",
    "# Convert object 'Status' to categorical \n",
    "df[\"Status\"] = pd.Categorical(df[\"Status\"])\n",
    "\n",
    "df.info()"
   ]
  },
  {
   "cell_type": "markdown",
   "id": "460bb91a",
   "metadata": {},
   "source": [
    "## Categorize Countries into Regions"
   ]
  },
  {
   "cell_type": "code",
   "execution_count": 6,
   "id": "fe010053",
   "metadata": {},
   "outputs": [
    {
     "name": "stdout",
     "output_type": "stream",
     "text": [
      "\n",
      "Number of countries evaluated in dataset: 183\n"
     ]
    },
    {
     "data": {
      "text/plain": [
       "array(['Afghanistan', 'Albania', 'Algeria', 'Angola',\n",
       "       'Antigua and Barbuda', 'Argentina', 'Armenia', 'Australia',\n",
       "       'Austria', 'Azerbaijan', 'Bahamas', 'Bahrain', 'Bangladesh',\n",
       "       'Barbados', 'Belarus', 'Belgium', 'Belize', 'Benin', 'Bhutan',\n",
       "       'Bolivia (Plurinational State of)', 'Bosnia and Herzegovina',\n",
       "       'Botswana', 'Brazil', 'Brunei Darussalam', 'Bulgaria',\n",
       "       'Burkina Faso', 'Burundi', \"Côte d'Ivoire\", 'Cabo Verde',\n",
       "       'Cambodia', 'Cameroon', 'Canada', 'Central African Republic',\n",
       "       'Chad', 'Chile', 'China', 'Colombia', 'Comoros', 'Congo',\n",
       "       'Costa Rica', 'Croatia', 'Cuba', 'Cyprus', 'Czechia',\n",
       "       \"Democratic People's Republic of Korea\",\n",
       "       'Democratic Republic of the Congo', 'Denmark', 'Djibouti',\n",
       "       'Dominican Republic', 'Ecuador', 'Egypt', 'El Salvador',\n",
       "       'Equatorial Guinea', 'Eritrea', 'Estonia', 'Ethiopia', 'Fiji',\n",
       "       'Finland', 'France', 'Gabon', 'Gambia', 'Georgia', 'Germany',\n",
       "       'Ghana', 'Greece', 'Grenada', 'Guatemala', 'Guinea',\n",
       "       'Guinea-Bissau', 'Guyana', 'Haiti', 'Honduras', 'Hungary',\n",
       "       'Iceland', 'India', 'Indonesia', 'Iran (Islamic Republic of)',\n",
       "       'Iraq', 'Ireland', 'Israel', 'Italy', 'Jamaica', 'Japan', 'Jordan',\n",
       "       'Kazakhstan', 'Kenya', 'Kiribati', 'Kuwait', 'Kyrgyzstan',\n",
       "       \"Lao People's Democratic Republic\", 'Latvia', 'Lebanon', 'Lesotho',\n",
       "       'Liberia', 'Libya', 'Lithuania', 'Luxembourg', 'Madagascar',\n",
       "       'Malawi', 'Malaysia', 'Maldives', 'Mali', 'Malta', 'Mauritania',\n",
       "       'Mauritius', 'Mexico', 'Micronesia (Federated States of)',\n",
       "       'Mongolia', 'Montenegro', 'Morocco', 'Mozambique', 'Myanmar',\n",
       "       'Namibia', 'Nepal', 'Netherlands', 'New Zealand', 'Nicaragua',\n",
       "       'Niger', 'Nigeria', 'Norway', 'Oman', 'Pakistan', 'Panama',\n",
       "       'Papua New Guinea', 'Paraguay', 'Peru', 'Philippines', 'Poland',\n",
       "       'Portugal', 'Qatar', 'Republic of Korea', 'Republic of Moldova',\n",
       "       'Romania', 'Russian Federation', 'Rwanda', 'Saint Lucia',\n",
       "       'Saint Vincent and the Grenadines', 'Samoa',\n",
       "       'Sao Tome and Principe', 'Saudi Arabia', 'Senegal', 'Serbia',\n",
       "       'Seychelles', 'Sierra Leone', 'Singapore', 'Slovakia', 'Slovenia',\n",
       "       'Solomon Islands', 'Somalia', 'South Africa', 'South Sudan',\n",
       "       'Spain', 'Sri Lanka', 'Sudan', 'Suriname', 'Swaziland', 'Sweden',\n",
       "       'Switzerland', 'Syrian Arab Republic', 'Tajikistan', 'Thailand',\n",
       "       'The former Yugoslav republic of Macedonia', 'Timor-Leste', 'Togo',\n",
       "       'Tonga', 'Trinidad and Tobago', 'Tunisia', 'Turkey',\n",
       "       'Turkmenistan', 'Uganda', 'Ukraine', 'United Arab Emirates',\n",
       "       'United Kingdom of Great Britain and Northern Ireland',\n",
       "       'United Republic of Tanzania', 'United States of America',\n",
       "       'Uruguay', 'Uzbekistan', 'Vanuatu',\n",
       "       'Venezuela (Bolivarian Republic of)', 'Viet Nam', 'Yemen',\n",
       "       'Zambia', 'Zimbabwe'], dtype=object)"
      ]
     },
     "execution_count": 6,
     "metadata": {},
     "output_type": "execute_result"
    }
   ],
   "source": [
    "lst_countries = df.Country.unique()\n",
    "\n",
    "print('\\nNumber of countries evaluated in dataset:', len(lst_countries))\n",
    "\n",
    "lst_countries"
   ]
  },
  {
   "cell_type": "markdown",
   "id": "9821034c",
   "metadata": {},
   "source": [
    "### NOTE 1:\n",
    "\n",
    "- This list of countries and their **EIGHT (8) regions** was found on the site:\n",
    "\n",
    "- https://www.thoughtco.com/official-listing-of-countries-world-region-1435153"
   ]
  },
  {
   "cell_type": "code",
   "execution_count": 8,
   "id": "505bf3d4",
   "metadata": {},
   "outputs": [],
   "source": [
    "Asia = ['Bangladesh','Bhutan','Brunei','Cambodia','China','India','Indonesia','Japan','Kazakhstan',\n",
    "        \"Democratic People's Republic of Korea\",'South Korea','Kyrgyzstan',\"Lao People's Democratic Republic\",'Malaysia','Maldives','Mongolia','Myanmar',\n",
    "        'Nepal','Philippines','Singapore','Sri Lanka','Taiwan','Tajikistan','Thailand','Turkmenistan',\n",
    "        'Uzbekistan','Viet Nam']\n"
   ]
  },
  {
   "cell_type": "code",
   "execution_count": 9,
   "id": "378d56e9",
   "metadata": {},
   "outputs": [],
   "source": [
    "M_East_N_Africa = ['Afghanistan','Algeria','Azerbaijan','Bahrain','Egypt',\"Iran (Islamic Republic of)\",\n",
    "                   'Iraq','Israel','Jordan','Kuwait','Lebanon','Libya','Morocco','Oman','Pakistan','Qatar',\n",
    "                   'Saudi Arabia','Somalia','Syrian Arab Republic','Tunisia','Turkey',\n",
    "                   'United Arab Emirates','Yemen']\n"
   ]
  },
  {
   "cell_type": "code",
   "execution_count": 10,
   "id": "ad31034c",
   "metadata": {},
   "outputs": [],
   "source": [
    "Europe = ['Albania','Andorra','Armenia','Austria','Belarus','Belgium','Bosnia and Herzegovina',\n",
    "          'Bulgaria','Croatia','Cyprus','Czech Republic','Denmark','Estonia','Finland','France',\n",
    "          'Georgia','Germany','Greece','Hungary','Iceland','Ireland','Italy','Kosovo','Latvia',\n",
    "          'Liechtenstein','Lithuania','Luxembourg','Yugoslav republic of Macedonia','Malta',\n",
    "          'Republic of Moldova','Monaco','Montenegro',\n",
    "          'Netherlands','Norway','Poland','Portugal','Romania','Russia','San Marino','Serbia',\n",
    "          'Slovakia','Slovenia','Spain','Sweden','Switzerland','Ukraine',\n",
    "          'United Kingdom of Great Britain and Northern Ireland','Vatican City']\n"
   ]
  },
  {
   "cell_type": "code",
   "execution_count": 11,
   "id": "81729892",
   "metadata": {},
   "outputs": [],
   "source": [
    "N_America = ['Canada','Greenland','Mexico','United States of America']\n"
   ]
  },
  {
   "cell_type": "code",
   "execution_count": 12,
   "id": "8f56d73b",
   "metadata": {},
   "outputs": [],
   "source": [
    "C_America_Caribbean = ['Antigua and Barbuda','Bahamas','Barbados','Belize','Costa Rica','Cuba',\n",
    "                       'Dominica','Dominican Republic','El Salvador','Grenada','Guatemala',\n",
    "                       'Haiti','Honduras','Jamaica','Nicaragua','Panama','Saint Kitts and Nevis',\n",
    "                       'Saint Lucia','Saint Vincent and the Grenadines','Trinidad and Tobago']\n"
   ]
  },
  {
   "cell_type": "code",
   "execution_count": 13,
   "id": "1b9bcb09",
   "metadata": {},
   "outputs": [],
   "source": [
    "S_America = ['Argentina','Bolivia','Brazil','Chile','Colombia','Ecuador','Guyana',\n",
    "             'Paraguay','Peru','Suriname','Uruguay',\"Venezuela (Bolivarian Republic of)\"]\n"
   ]
  },
  {
   "cell_type": "code",
   "execution_count": 14,
   "id": "8696b3ad",
   "metadata": {},
   "outputs": [],
   "source": [
    "Sub_Saharan_Africa = ['Angola','Benin','Botswana','Burkina Faso','Burundi','Cameroon','Cape Verde',\n",
    "                      'The Central African Republic','Chad','Comoros','Republic of the Congo',\n",
    "                      'Democratic Republic of the Congo','Côte d\\'Ivoire','Djibouti',\n",
    "                      'Equatorial Guinea','Eritrea','Ethiopia','Gabon','Gambia','Ghana',\n",
    "                      'Guinea','Guinea-Bissau','Kenya','Lesotho','Liberia','Madagascar',\n",
    "                      'Malawi','Mali','Mauritania','Mauritius','Mozambique','Namibia','Niger',\n",
    "                      'Nigeria','Rwanda','Sao Tome and Principe','Senegal','Seychelles','Sierra Leone',\n",
    "                      'South Africa','South Sudan','Sudan','Swaziland','Tanzania','Togo','Uganda',\n",
    "                      'Zambia','Zimbabwe']\n"
   ]
  },
  {
   "cell_type": "code",
   "execution_count": 15,
   "id": "6f7c31a6",
   "metadata": {},
   "outputs": [],
   "source": [
    "Oceania = ['Australia','Timor-Leste','Fiji','Kiribati','Marshall Islands',\n",
    "           'Micronesia (Federated States of)','Nauru','Niue','New Zealand','Palau',\n",
    "           'Papua New Guinea','Samoa','Solomon Islands','Tonga','Tuvalu','Vanuatu']\n"
   ]
  },
  {
   "cell_type": "code",
   "execution_count": 16,
   "id": "3c285567",
   "metadata": {},
   "outputs": [
    {
     "name": "stdout",
     "output_type": "stream",
     "text": [
      "Good Job!\n"
     ]
    }
   ],
   "source": [
    "def country_2_region(country):\n",
    "    \"\"\"Assign a country name a region. There are EIGHT regions\"\"\"\n",
    "    \n",
    "    region = ''\n",
    "    if country in Asia:\n",
    "        region='Asia'\n",
    "    elif country in M_East_N_Africa:\n",
    "        region='M_East_N_Africa'\n",
    "    elif country in S_America:\n",
    "        region='S_America'\n",
    "    elif country in N_America:\n",
    "        region='N_America'\n",
    "    elif country in Europe:\n",
    "        region='Europe'\n",
    "    elif country in Oceania:\n",
    "        region='Oceania'\n",
    "    elif country in Sub_Saharan_Africa:\n",
    "        region='Sub_Saharan_Africa'\n",
    "    else: \n",
    "        region=\"C_America_Caribbean\"\n",
    "    \n",
    "    return region\n",
    "\n",
    "\n",
    "\n",
    "# Test with assertions\n",
    "\n",
    "assert 'Oceania'==country_2_region('Samoa')\n",
    "\n",
    "assert 'M_East_N_Africa'==country_2_region('Algeria')\n",
    "\n",
    "assert 'S_America'==country_2_region('Bolivia')\n",
    "\n",
    "assert 'N_America'==country_2_region('Canada')\n",
    "\n",
    "assert 'Europe'==country_2_region('Andorra')\n",
    "\n",
    "assert 'Sub_Saharan_Africa'==country_2_region('Botswana')\n",
    "\n",
    "print('Good Job!')"
   ]
  },
  {
   "cell_type": "code",
   "execution_count": null,
   "id": "5e54a97b",
   "metadata": {},
   "outputs": [],
   "source": [
    "# Save Files with date-time stamp\n",
    "\n",
    "# def NamePlusDateTime(file_description, suffix):\n",
    "#     \"\"\"This function takes in a file name or desctiption\n",
    "#     and returns a filename with a date-time stamp suffixed to it.\"\"\"\n",
    "    \n",
    "#     from datetime import datetime\n",
    "#     current_datetime = datetime.now()\n",
    "#     str_current_datetime = str(current_datetime)\n",
    "#     file_name_DT = file_description + '-' + str_current_datetime + \".\" + suffix\n",
    "#     return file_name_DT"
   ]
  },
  {
   "cell_type": "code",
   "execution_count": 17,
   "id": "8dc95b6f",
   "metadata": {},
   "outputs": [
    {
     "data": {
      "text/plain": [
       "array(['M_East_N_Africa', 'Europe', 'Sub_Saharan_Africa',\n",
       "       'C_America_Caribbean', 'S_America', 'Oceania', 'Asia', 'N_America'],\n",
       "      dtype=object)"
      ]
     },
     "execution_count": 17,
     "metadata": {},
     "output_type": "execute_result"
    }
   ],
   "source": [
    "df['Region'] = df['Country'].apply(country_2_region)\n",
    "\n",
    "lst_regions = df.Region.unique()\n",
    "lst_regions"
   ]
  },
  {
   "cell_type": "markdown",
   "id": "b47d7ac0",
   "metadata": {},
   "source": [
    "## Discretization of BMI data\n",
    "\n",
    "- The BMI histogram seen in the EDA was bimodal. Therefore we will assign a categorical value to the BMI feature.\n",
    "\n",
    "- BMI's less than 35 will be assigned zero(0), while BMI's great than or equal to 35 will be one(1).\n",
    "\n",
    "|     BMI | ge35BMI |\n",
    "|--------:|--------:|\n",
    "|  < 35.0 |       0 |\n",
    "| >= 35.0 |       1 |\n"
   ]
  },
  {
   "cell_type": "code",
   "execution_count": 19,
   "id": "68644cb6",
   "metadata": {},
   "outputs": [],
   "source": [
    "# Create new feature called **ge35BMI** \n",
    "df['ge35BMI'] = df['BMI'].apply(lambda x: 0 if x < 35 else 1)"
   ]
  },
  {
   "cell_type": "code",
   "execution_count": 26,
   "id": "3ccb3f69",
   "metadata": {},
   "outputs": [
    {
     "data": {
      "text/plain": [
       "count    2928.000000\n",
       "mean        0.566257\n",
       "std         0.495675\n",
       "min         0.000000\n",
       "25%         0.000000\n",
       "50%         1.000000\n",
       "75%         1.000000\n",
       "max         1.000000\n",
       "Name: ge35BMI, dtype: float64"
      ]
     },
     "execution_count": 26,
     "metadata": {},
     "output_type": "execute_result"
    }
   ],
   "source": [
    "df['ge35BMI'].describe()"
   ]
  },
  {
   "cell_type": "code",
   "execution_count": 27,
   "id": "5dcb63c8",
   "metadata": {},
   "outputs": [
    {
     "name": "stdout",
     "output_type": "stream",
     "text": [
      "<class 'pandas.core.frame.DataFrame'>\n",
      "RangeIndex: 2928 entries, 0 to 2927\n",
      "Data columns (total 17 columns):\n",
      " #   Column          Non-Null Count  Dtype   \n",
      "---  ------          --------------  -----   \n",
      " 0   Country         2928 non-null   object  \n",
      " 1   Year            2928 non-null   int64   \n",
      " 2   Status          2928 non-null   category\n",
      " 3   LifeExpectancy  2928 non-null   float64 \n",
      " 4   AdultMort       2928 non-null   float64 \n",
      " 5   EtOH            2928 non-null   float64 \n",
      " 6   BMI             2928 non-null   float64 \n",
      " 7   lt5yD           2928 non-null   int64   \n",
      " 8   Polio           2928 non-null   float64 \n",
      " 9   TotalExpen      2928 non-null   float64 \n",
      " 10  DTP             2928 non-null   float64 \n",
      " 11  HIV             2928 non-null   float64 \n",
      " 12  Thin5_9y        2928 non-null   float64 \n",
      " 13  Income          2928 non-null   float64 \n",
      " 14  Education       2928 non-null   float64 \n",
      " 15  Region          2928 non-null   object  \n",
      " 16  ge35BMI         2928 non-null   int64   \n",
      "dtypes: category(1), float64(11), int64(3), object(2)\n",
      "memory usage: 369.1+ KB\n"
     ]
    }
   ],
   "source": [
    "df.info()"
   ]
  },
  {
   "cell_type": "markdown",
   "id": "8d690ab7",
   "metadata": {},
   "source": [
    "## Save Engineered Data for Modeling"
   ]
  },
  {
   "cell_type": "code",
   "execution_count": 28,
   "id": "a89f5a3b",
   "metadata": {},
   "outputs": [],
   "source": [
    "file_name = 'Clean_LE_Data_FEng_3.csv'\n",
    "\n",
    "df.to_csv(file_name, index=False)\n"
   ]
  },
  {
   "cell_type": "code",
   "execution_count": 29,
   "id": "6401f485",
   "metadata": {},
   "outputs": [
    {
     "name": "stdout",
     "output_type": "stream",
     "text": [
      "Clean_LE_Data_FEng_3.csv      Clean_LE_Data_w_Means_1.csv\r\n",
      "Clean_LE_Data_Post_EDA_2.csv  Life_Expectancy_Data.csv\r\n"
     ]
    }
   ],
   "source": [
    "!ls *.csv"
   ]
  },
  {
   "cell_type": "code",
   "execution_count": null,
   "id": "dd5304d7",
   "metadata": {},
   "outputs": [],
   "source": []
  }
 ],
 "metadata": {
  "kernelspec": {
   "display_name": "Python 3 (ipykernel)",
   "language": "python",
   "name": "python3"
  },
  "language_info": {
   "codemirror_mode": {
    "name": "ipython",
    "version": 3
   },
   "file_extension": ".py",
   "mimetype": "text/x-python",
   "name": "python",
   "nbconvert_exporter": "python",
   "pygments_lexer": "ipython3",
   "version": "3.9.16"
  },
  "toc": {
   "base_numbering": 1,
   "nav_menu": {},
   "number_sections": true,
   "sideBar": true,
   "skip_h1_title": true,
   "title_cell": "Table of Contents",
   "title_sidebar": "Contents",
   "toc_cell": true,
   "toc_position": {},
   "toc_section_display": true,
   "toc_window_display": false
  },
  "varInspector": {
   "cols": {
    "lenName": 16,
    "lenType": 16,
    "lenVar": 40
   },
   "kernels_config": {
    "python": {
     "delete_cmd_postfix": "",
     "delete_cmd_prefix": "del ",
     "library": "var_list.py",
     "varRefreshCmd": "print(var_dic_list())"
    },
    "r": {
     "delete_cmd_postfix": ") ",
     "delete_cmd_prefix": "rm(",
     "library": "var_list.r",
     "varRefreshCmd": "cat(var_dic_list()) "
    }
   },
   "position": {
    "height": "264.85px",
    "left": "1390px",
    "right": "20px",
    "top": "120px",
    "width": "350px"
   },
   "types_to_exclude": [
    "module",
    "function",
    "builtin_function_or_method",
    "instance",
    "_Feature"
   ],
   "window_display": false
  }
 },
 "nbformat": 4,
 "nbformat_minor": 5
}
