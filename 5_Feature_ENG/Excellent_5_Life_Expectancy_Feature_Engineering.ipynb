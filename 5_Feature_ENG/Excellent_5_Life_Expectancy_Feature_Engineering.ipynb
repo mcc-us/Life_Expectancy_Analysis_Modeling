{
 "cells": [
  {
   "attachments": {},
   "cell_type": "markdown",
   "id": "0d6eaa04",
   "metadata": {},
   "source": [
    "# Life Expectancy Analysis & Modeling Using WHO, UN data\n",
    "\n",
    "## Feature Engineering\n",
    "\n",
    "To:&nbsp;&nbsp;&nbsp;&nbsp; [Magnimind](https://magnimindacademy.com/)\n",
    "\n",
    "From: Matt Curcio, matt.curcio.ri@gmail.com\n",
    "\n",
    "Date: 2023-01-29\n",
    "\n",
    "Re:&nbsp;&nbsp;&nbsp; NOTEBOOK #5\n",
    "\n",
    "---\n",
    "\n",
    "Categorize Countires into Regions\n",
    "\n",
    "This file takes input of  `Clean_LE_Data_Post_EDA_3.csv` and produces output of `Clean_LE_Data_FEng_4.csv`\n",
    "\n",
    "- This list of countries and their regions was found on the site:\n",
    "\n",
    "    https://www.thoughtco.com/official-listing-of-countries-world-region-1435153"
   ]
  },
  {
   "cell_type": "markdown",
   "id": "b76a31a2",
   "metadata": {},
   "source": [
    "## Load and verify data integrity"
   ]
  },
  {
   "cell_type": "code",
   "execution_count": 1,
   "id": "bb04b6d3",
   "metadata": {},
   "outputs": [],
   "source": [
    "# Common Python Libraries\n",
    "import numpy as np\n",
    "import pandas as pd\n",
    "import matplotlib.pyplot as plt\n",
    "%matplotlib inline\n",
    "import seaborn as sns"
   ]
  },
  {
   "cell_type": "code",
   "execution_count": 3,
   "id": "2026d29a",
   "metadata": {},
   "outputs": [
    {
     "name": "stdout",
     "output_type": "stream",
     "text": [
      "<class 'pandas.core.frame.DataFrame'>\n",
      "RangeIndex: 2928 entries, 0 to 2927\n",
      "Data columns (total 17 columns):\n",
      " #   Column          Non-Null Count  Dtype   \n",
      "---  ------          --------------  -----   \n",
      " 0   Country         2928 non-null   object  \n",
      " 1   Year            2928 non-null   int64   \n",
      " 2   Status          2928 non-null   category\n",
      " 3   LifeExpectancy  2928 non-null   float64 \n",
      " 4   AdultMort       2928 non-null   float64 \n",
      " 5   EtOH            2928 non-null   float64 \n",
      " 6   PercExpen       2928 non-null   float64 \n",
      " 7   Measles         2928 non-null   int64   \n",
      " 8   BMI             2928 non-null   float64 \n",
      " 9   lt5yD           2928 non-null   int64   \n",
      " 10  Polio           2928 non-null   float64 \n",
      " 11  TotalExpen      2928 non-null   float64 \n",
      " 12  DTP             2928 non-null   float64 \n",
      " 13  HIV             2928 non-null   float64 \n",
      " 14  Thin1_19y       2928 non-null   float64 \n",
      " 15  Income          2928 non-null   float64 \n",
      " 16  Education       2928 non-null   float64 \n",
      "dtypes: category(1), float64(12), int64(3), object(1)\n",
      "memory usage: 369.1+ KB\n"
     ]
    }
   ],
   "source": [
    "filename = 'Clean_LE_Data_Post_EDA_3.csv'\n",
    "\n",
    "df = pd.read_csv(filename, header=0)\n",
    "\n",
    "# Convert object 'Status' to categorical \n",
    "df[\"Status\"] = pd.Categorical(df[\"Status\"])\n",
    "\n",
    "df.info()"
   ]
  },
  {
   "cell_type": "markdown",
   "id": "460bb91a",
   "metadata": {},
   "source": [
    "## Categorize Countries into Regions"
   ]
  },
  {
   "cell_type": "code",
   "execution_count": 4,
   "id": "fe010053",
   "metadata": {},
   "outputs": [
    {
     "name": "stdout",
     "output_type": "stream",
     "text": [
      "\n",
      "Number of countries evaluated in dataset: 183\n"
     ]
    },
    {
     "data": {
      "text/plain": [
       "array(['Afghanistan', 'Albania', 'Algeria', 'Angola',\n",
       "       'Antigua and Barbuda', 'Argentina', 'Armenia', 'Australia',\n",
       "       'Austria', 'Azerbaijan', 'Bahamas', 'Bahrain', 'Bangladesh',\n",
       "       'Barbados', 'Belarus', 'Belgium', 'Belize', 'Benin', 'Bhutan',\n",
       "       'Bolivia (Plurinational State of)', 'Bosnia and Herzegovina',\n",
       "       'Botswana', 'Brazil', 'Brunei Darussalam', 'Bulgaria',\n",
       "       'Burkina Faso', 'Burundi', \"Côte d'Ivoire\", 'Cabo Verde',\n",
       "       'Cambodia', 'Cameroon', 'Canada', 'Central African Republic',\n",
       "       'Chad', 'Chile', 'China', 'Colombia', 'Comoros', 'Congo',\n",
       "       'Costa Rica', 'Croatia', 'Cuba', 'Cyprus', 'Czechia',\n",
       "       \"Democratic People's Republic of Korea\",\n",
       "       'Democratic Republic of the Congo', 'Denmark', 'Djibouti',\n",
       "       'Dominican Republic', 'Ecuador', 'Egypt', 'El Salvador',\n",
       "       'Equatorial Guinea', 'Eritrea', 'Estonia', 'Ethiopia', 'Fiji',\n",
       "       'Finland', 'France', 'Gabon', 'Gambia', 'Georgia', 'Germany',\n",
       "       'Ghana', 'Greece', 'Grenada', 'Guatemala', 'Guinea',\n",
       "       'Guinea-Bissau', 'Guyana', 'Haiti', 'Honduras', 'Hungary',\n",
       "       'Iceland', 'India', 'Indonesia', 'Iran (Islamic Republic of)',\n",
       "       'Iraq', 'Ireland', 'Israel', 'Italy', 'Jamaica', 'Japan', 'Jordan',\n",
       "       'Kazakhstan', 'Kenya', 'Kiribati', 'Kuwait', 'Kyrgyzstan',\n",
       "       \"Lao People's Democratic Republic\", 'Latvia', 'Lebanon', 'Lesotho',\n",
       "       'Liberia', 'Libya', 'Lithuania', 'Luxembourg', 'Madagascar',\n",
       "       'Malawi', 'Malaysia', 'Maldives', 'Mali', 'Malta', 'Mauritania',\n",
       "       'Mauritius', 'Mexico', 'Micronesia (Federated States of)',\n",
       "       'Mongolia', 'Montenegro', 'Morocco', 'Mozambique', 'Myanmar',\n",
       "       'Namibia', 'Nepal', 'Netherlands', 'New Zealand', 'Nicaragua',\n",
       "       'Niger', 'Nigeria', 'Norway', 'Oman', 'Pakistan', 'Panama',\n",
       "       'Papua New Guinea', 'Paraguay', 'Peru', 'Philippines', 'Poland',\n",
       "       'Portugal', 'Qatar', 'Republic of Korea', 'Republic of Moldova',\n",
       "       'Romania', 'Russian Federation', 'Rwanda', 'Saint Lucia',\n",
       "       'Saint Vincent and the Grenadines', 'Samoa',\n",
       "       'Sao Tome and Principe', 'Saudi Arabia', 'Senegal', 'Serbia',\n",
       "       'Seychelles', 'Sierra Leone', 'Singapore', 'Slovakia', 'Slovenia',\n",
       "       'Solomon Islands', 'Somalia', 'South Africa', 'South Sudan',\n",
       "       'Spain', 'Sri Lanka', 'Sudan', 'Suriname', 'Swaziland', 'Sweden',\n",
       "       'Switzerland', 'Syrian Arab Republic', 'Tajikistan', 'Thailand',\n",
       "       'The former Yugoslav republic of Macedonia', 'Timor-Leste', 'Togo',\n",
       "       'Tonga', 'Trinidad and Tobago', 'Tunisia', 'Turkey',\n",
       "       'Turkmenistan', 'Uganda', 'Ukraine', 'United Arab Emirates',\n",
       "       'United Kingdom of Great Britain and Northern Ireland',\n",
       "       'United Republic of Tanzania', 'United States of America',\n",
       "       'Uruguay', 'Uzbekistan', 'Vanuatu',\n",
       "       'Venezuela (Bolivarian Republic of)', 'Viet Nam', 'Yemen',\n",
       "       'Zambia', 'Zimbabwe'], dtype=object)"
      ]
     },
     "execution_count": 4,
     "metadata": {},
     "output_type": "execute_result"
    }
   ],
   "source": [
    "lst_countries = df.Country.unique()\n",
    "\n",
    "print('\\nNumber of countries evaluated in dataset:', len(lst_countries))\n",
    "\n",
    "lst_countries"
   ]
  },
  {
   "cell_type": "markdown",
   "id": "9821034c",
   "metadata": {},
   "source": [
    "### NOTE 1:\n",
    "\n",
    "- This list of countries and their **EIGHT (8) regions** was found on the site:\n",
    "\n",
    "- https://www.thoughtco.com/official-listing-of-countries-world-region-1435153"
   ]
  },
  {
   "cell_type": "code",
   "execution_count": 5,
   "id": "505bf3d4",
   "metadata": {},
   "outputs": [],
   "source": [
    "Asia = ['Bangladesh','Bhutan','Brunei','Cambodia','China','India','Indonesia','Japan','Kazakhstan',\n",
    "        \"Democratic People's Republic of Korea\",'South Korea','Kyrgyzstan',\"Lao People's Democratic Republic\",'Malaysia','Maldives','Mongolia','Myanmar',\n",
    "        'Nepal','Philippines','Singapore','Sri Lanka','Taiwan','Tajikistan','Thailand','Turkmenistan',\n",
    "        'Uzbekistan','Viet Nam']\n"
   ]
  },
  {
   "cell_type": "code",
   "execution_count": 6,
   "id": "378d56e9",
   "metadata": {},
   "outputs": [],
   "source": [
    "M_East_N_Africa = ['Afghanistan','Algeria','Azerbaijan','Bahrain','Egypt',\"Iran (Islamic Republic of)\",\n",
    "                   'Iraq','Israel','Jordan','Kuwait','Lebanon','Libya','Morocco','Oman','Pakistan','Qatar',\n",
    "                   'Saudi Arabia','Somalia','Syrian Arab Republic','Tunisia','Turkey',\n",
    "                   'United Arab Emirates','Yemen']\n"
   ]
  },
  {
   "cell_type": "code",
   "execution_count": 7,
   "id": "ad31034c",
   "metadata": {},
   "outputs": [],
   "source": [
    "Europe = ['Albania','Andorra','Armenia','Austria','Belarus','Belgium','Bosnia and Herzegovina',\n",
    "          'Bulgaria','Croatia','Cyprus','Czech Republic','Denmark','Estonia','Finland','France',\n",
    "          'Georgia','Germany','Greece','Hungary','Iceland','Ireland','Italy','Kosovo','Latvia',\n",
    "          'Liechtenstein','Lithuania','Luxembourg','Yugoslav republic of Macedonia','Malta',\n",
    "          'Republic of Moldova','Monaco','Montenegro',\n",
    "          'Netherlands','Norway','Poland','Portugal','Romania','Russia','San Marino','Serbia',\n",
    "          'Slovakia','Slovenia','Spain','Sweden','Switzerland','Ukraine',\n",
    "          'United Kingdom of Great Britain and Northern Ireland','Vatican City']\n"
   ]
  },
  {
   "cell_type": "code",
   "execution_count": 8,
   "id": "81729892",
   "metadata": {},
   "outputs": [],
   "source": [
    "N_America = ['Canada','Greenland','Mexico','United States of America']\n"
   ]
  },
  {
   "cell_type": "code",
   "execution_count": 9,
   "id": "8f56d73b",
   "metadata": {},
   "outputs": [],
   "source": [
    "C_America_Caribbean = ['Antigua and Barbuda','Bahamas','Barbados','Belize','Costa Rica','Cuba',\n",
    "                       'Dominica','Dominican Republic','El Salvador','Grenada','Guatemala',\n",
    "                       'Haiti','Honduras','Jamaica','Nicaragua','Panama','Saint Kitts and Nevis',\n",
    "                       'Saint Lucia','Saint Vincent and the Grenadines','Trinidad and Tobago']\n"
   ]
  },
  {
   "cell_type": "code",
   "execution_count": 10,
   "id": "1b9bcb09",
   "metadata": {},
   "outputs": [],
   "source": [
    "S_America = ['Argentina','Bolivia','Brazil','Chile','Colombia','Ecuador','Guyana',\n",
    "             'Paraguay','Peru','Suriname','Uruguay',\"Venezuela (Bolivarian Republic of)\"]\n"
   ]
  },
  {
   "cell_type": "code",
   "execution_count": 11,
   "id": "8696b3ad",
   "metadata": {},
   "outputs": [],
   "source": [
    "Sub_Saharan_Africa = ['Angola','Benin','Botswana','Burkina Faso','Burundi','Cameroon','Cape Verde',\n",
    "                      'The Central African Republic','Chad','Comoros','Republic of the Congo',\n",
    "                      'Democratic Republic of the Congo','Côte d\\'Ivoire','Djibouti',\n",
    "                      'Equatorial Guinea','Eritrea','Ethiopia','Gabon','Gambia','Ghana',\n",
    "                      'Guinea','Guinea-Bissau','Kenya','Lesotho','Liberia','Madagascar',\n",
    "                      'Malawi','Mali','Mauritania','Mauritius','Mozambique','Namibia','Niger',\n",
    "                      'Nigeria','Rwanda','Sao Tome and Principe','Senegal','Seychelles','Sierra Leone',\n",
    "                      'South Africa','South Sudan','Sudan','Swaziland','Tanzania','Togo','Uganda',\n",
    "                      'Zambia','Zimbabwe']\n"
   ]
  },
  {
   "cell_type": "code",
   "execution_count": 12,
   "id": "6f7c31a6",
   "metadata": {},
   "outputs": [],
   "source": [
    "Oceania = ['Australia','Timor-Leste','Fiji','Kiribati','Marshall Islands',\n",
    "           'Micronesia (Federated States of)','Nauru','Niue','New Zealand','Palau',\n",
    "           'Papua New Guinea','Samoa','Solomon Islands','Tonga','Tuvalu','Vanuatu']\n"
   ]
  },
  {
   "cell_type": "code",
   "execution_count": 13,
   "id": "3c285567",
   "metadata": {},
   "outputs": [
    {
     "name": "stdout",
     "output_type": "stream",
     "text": [
      "Good Job!\n"
     ]
    }
   ],
   "source": [
    "def country_2_region(country):\n",
    "    \"\"\"Assign a country name a region. There are EIGHT regions:\n",
    "    {'Asia':1,\n",
    "    'M_East_N_Africa':2,\n",
    "    'S_America':3,\n",
    "    'N_America':4,\n",
    "    'Europe':5,\n",
    "    'Oceania':6,\n",
    "    'Sub_Saharan_Africa':7,\n",
    "    'C_America_Caribbean':8}\n",
    "    \"\"\"\n",
    "    \n",
    "    region = ''\n",
    "    if country in Asia:\n",
    "        region=1\n",
    "    elif country in M_East_N_Africa:\n",
    "        region=2\n",
    "    elif country in S_America:\n",
    "        region=3\n",
    "    elif country in N_America:\n",
    "        region=4\n",
    "    elif country in Europe:\n",
    "        region=5\n",
    "    elif country in Oceania:\n",
    "        region=6\n",
    "    elif country in Sub_Saharan_Africa:\n",
    "        region=7\n",
    "    else: \n",
    "        region=8\n",
    "    \n",
    "    return region\n",
    "\n",
    "\n",
    "\n",
    "# Test with assertions\n",
    "\n",
    "assert 1==country_2_region('Kazakhstan')\n",
    "\n",
    "assert 6==country_2_region('Samoa')\n",
    "\n",
    "assert 2==country_2_region('Algeria')\n",
    "\n",
    "assert 3==country_2_region('Bolivia')\n",
    "\n",
    "assert 4==country_2_region('Canada')\n",
    "\n",
    "assert 5==country_2_region('Andorra')\n",
    "\n",
    "assert 7==country_2_region('Botswana')\n",
    "\n",
    "assert 8==country_2_region('Bahamas')\n",
    "\n",
    "print('Good Job!')"
   ]
  },
  {
   "cell_type": "code",
   "execution_count": 14,
   "id": "5e54a97b",
   "metadata": {},
   "outputs": [],
   "source": [
    "# Save Files with date-time stamp\n",
    "\n",
    "# def NamePlusDateTime(file_description, suffix):\n",
    "#     \"\"\"This function takes in a file name or desctiption\n",
    "#     and returns a filename with a date-time stamp suffixed to it.\"\"\"\n",
    "    \n",
    "#     from datetime import datetime\n",
    "#     current_datetime = datetime.now()\n",
    "#     str_current_datetime = str(current_datetime)\n",
    "#     file_name_DT = file_description + '-' + str_current_datetime + \".\" + suffix\n",
    "#     return file_name_DT"
   ]
  },
  {
   "cell_type": "code",
   "execution_count": 15,
   "id": "8dc95b6f",
   "metadata": {},
   "outputs": [
    {
     "data": {
      "text/plain": [
       "array([2, 5, 7, 8, 3, 6, 1, 4])"
      ]
     },
     "execution_count": 15,
     "metadata": {},
     "output_type": "execute_result"
    }
   ],
   "source": [
    "df['Region'] = df['Country'].apply(country_2_region)\n",
    "\n",
    "lst_regions = df.Region.unique()\n",
    "lst_regions"
   ]
  },
  {
   "cell_type": "markdown",
   "id": "8d690ab7",
   "metadata": {},
   "source": [
    "## Save engineered data for modeling"
   ]
  },
  {
   "cell_type": "code",
   "execution_count": 16,
   "id": "a89f5a3b",
   "metadata": {},
   "outputs": [
    {
     "data": {
      "text/html": [
       "<div>\n",
       "<style scoped>\n",
       "    .dataframe tbody tr th:only-of-type {\n",
       "        vertical-align: middle;\n",
       "    }\n",
       "\n",
       "    .dataframe tbody tr th {\n",
       "        vertical-align: top;\n",
       "    }\n",
       "\n",
       "    .dataframe thead th {\n",
       "        text-align: right;\n",
       "    }\n",
       "</style>\n",
       "<table border=\"1\" class=\"dataframe\">\n",
       "  <thead>\n",
       "    <tr style=\"text-align: right;\">\n",
       "      <th></th>\n",
       "      <th>Country</th>\n",
       "      <th>Year</th>\n",
       "      <th>Status</th>\n",
       "      <th>LifeExpectancy</th>\n",
       "      <th>AdultMort</th>\n",
       "      <th>EtOH</th>\n",
       "      <th>PercExpen</th>\n",
       "      <th>Measles</th>\n",
       "      <th>BMI</th>\n",
       "      <th>lt5yD</th>\n",
       "      <th>Polio</th>\n",
       "      <th>TotalExpen</th>\n",
       "      <th>DTP</th>\n",
       "      <th>HIV</th>\n",
       "      <th>Thin1_19y</th>\n",
       "      <th>Income</th>\n",
       "      <th>Education</th>\n",
       "      <th>Region</th>\n",
       "    </tr>\n",
       "  </thead>\n",
       "  <tbody>\n",
       "    <tr>\n",
       "      <th>0</th>\n",
       "      <td>Afghanistan</td>\n",
       "      <td>2015</td>\n",
       "      <td>0</td>\n",
       "      <td>65.0</td>\n",
       "      <td>263.0</td>\n",
       "      <td>0.01</td>\n",
       "      <td>71.279624</td>\n",
       "      <td>1154</td>\n",
       "      <td>19.1</td>\n",
       "      <td>83</td>\n",
       "      <td>6.0</td>\n",
       "      <td>8.16</td>\n",
       "      <td>65.0</td>\n",
       "      <td>0.1</td>\n",
       "      <td>17.2</td>\n",
       "      <td>0.479</td>\n",
       "      <td>10.1</td>\n",
       "      <td>2</td>\n",
       "    </tr>\n",
       "    <tr>\n",
       "      <th>1</th>\n",
       "      <td>Afghanistan</td>\n",
       "      <td>2014</td>\n",
       "      <td>0</td>\n",
       "      <td>59.9</td>\n",
       "      <td>271.0</td>\n",
       "      <td>0.01</td>\n",
       "      <td>73.523582</td>\n",
       "      <td>492</td>\n",
       "      <td>18.6</td>\n",
       "      <td>86</td>\n",
       "      <td>58.0</td>\n",
       "      <td>8.18</td>\n",
       "      <td>62.0</td>\n",
       "      <td>0.1</td>\n",
       "      <td>17.5</td>\n",
       "      <td>0.476</td>\n",
       "      <td>10.0</td>\n",
       "      <td>2</td>\n",
       "    </tr>\n",
       "    <tr>\n",
       "      <th>2</th>\n",
       "      <td>Afghanistan</td>\n",
       "      <td>2013</td>\n",
       "      <td>0</td>\n",
       "      <td>59.9</td>\n",
       "      <td>268.0</td>\n",
       "      <td>0.01</td>\n",
       "      <td>73.219243</td>\n",
       "      <td>430</td>\n",
       "      <td>18.1</td>\n",
       "      <td>89</td>\n",
       "      <td>62.0</td>\n",
       "      <td>8.13</td>\n",
       "      <td>64.0</td>\n",
       "      <td>0.1</td>\n",
       "      <td>17.7</td>\n",
       "      <td>0.470</td>\n",
       "      <td>9.9</td>\n",
       "      <td>2</td>\n",
       "    </tr>\n",
       "  </tbody>\n",
       "</table>\n",
       "</div>"
      ],
      "text/plain": [
       "       Country  Year Status  LifeExpectancy  AdultMort  EtOH  PercExpen  \\\n",
       "0  Afghanistan  2015      0            65.0      263.0  0.01  71.279624   \n",
       "1  Afghanistan  2014      0            59.9      271.0  0.01  73.523582   \n",
       "2  Afghanistan  2013      0            59.9      268.0  0.01  73.219243   \n",
       "\n",
       "   Measles   BMI  lt5yD  Polio  TotalExpen   DTP  HIV  Thin1_19y  Income  \\\n",
       "0     1154  19.1     83    6.0        8.16  65.0  0.1       17.2   0.479   \n",
       "1      492  18.6     86   58.0        8.18  62.0  0.1       17.5   0.476   \n",
       "2      430  18.1     89   62.0        8.13  64.0  0.1       17.7   0.470   \n",
       "\n",
       "   Education  Region  \n",
       "0       10.1       2  \n",
       "1       10.0       2  \n",
       "2        9.9       2  "
      ]
     },
     "execution_count": 16,
     "metadata": {},
     "output_type": "execute_result"
    }
   ],
   "source": [
    "file_name = 'Clean_LE_Data_FEng_4.csv'\n",
    "\n",
    "df.to_csv(file_name, index=False)\n",
    "\n",
    "df.head(3)"
   ]
  },
  {
   "cell_type": "code",
   "execution_count": 17,
   "id": "6401f485",
   "metadata": {},
   "outputs": [
    {
     "name": "stdout",
     "output_type": "stream",
     "text": [
      "Clean_LE_Data_FEng_4.csv      Life_Expectancy_Data.csv\ty_test.csv\r\n",
      "Clean_LE_Data_Post_EDA_3.csv  x_test.csv\t\ty_train.csv\r\n",
      "Clean_LE_Data_w_Means_2.csv   x_train.csv\r\n"
     ]
    }
   ],
   "source": [
    "!ls *.csv"
   ]
  },
  {
   "cell_type": "code",
   "execution_count": null,
   "id": "dd5304d7",
   "metadata": {},
   "outputs": [],
   "source": []
  }
 ],
 "metadata": {
  "kernelspec": {
   "display_name": "Python 3 (ipykernel)",
   "language": "python",
   "name": "python3"
  },
  "language_info": {
   "codemirror_mode": {
    "name": "ipython",
    "version": 3
   },
   "file_extension": ".py",
   "mimetype": "text/x-python",
   "name": "python",
   "nbconvert_exporter": "python",
   "pygments_lexer": "ipython3",
   "version": "3.9.16"
  },
  "toc": {
   "base_numbering": 1,
   "nav_menu": {},
   "number_sections": true,
   "sideBar": true,
   "skip_h1_title": true,
   "title_cell": "Table of Contents",
   "title_sidebar": "Contents",
   "toc_cell": true,
   "toc_position": {},
   "toc_section_display": true,
   "toc_window_display": false
  },
  "varInspector": {
   "cols": {
    "lenName": 16,
    "lenType": 16,
    "lenVar": 40
   },
   "kernels_config": {
    "python": {
     "delete_cmd_postfix": "",
     "delete_cmd_prefix": "del ",
     "library": "var_list.py",
     "varRefreshCmd": "print(var_dic_list())"
    },
    "r": {
     "delete_cmd_postfix": ") ",
     "delete_cmd_prefix": "rm(",
     "library": "var_list.r",
     "varRefreshCmd": "cat(var_dic_list()) "
    }
   },
   "position": {
    "height": "264.85px",
    "left": "1390px",
    "right": "20px",
    "top": "120px",
    "width": "350px"
   },
   "types_to_exclude": [
    "module",
    "function",
    "builtin_function_or_method",
    "instance",
    "_Feature"
   ],
   "window_display": false
  },
  "vscode": {
   "interpreter": {
    "hash": "ee253db64471d3bc5400655757329a6a33de9a5ca06cae94740881a9d5095460"
   }
  }
 },
 "nbformat": 4,
 "nbformat_minor": 5
}
