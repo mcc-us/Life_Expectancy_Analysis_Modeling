{
 "cells": [
  {
   "cell_type": "markdown",
   "id": "d137dd18",
   "metadata": {
    "toc": true
   },
   "source": [
    "<h1>Table of Contents<span class=\"tocSkip\"></span></h1>\n",
    "<div class=\"toc\"><ul class=\"toc-item\"><li><span><a href=\"#Executive-Summary\" data-toc-modified-id=\"Executive-Summary-1\"><span class=\"toc-item-num\">1&nbsp;&nbsp;</span>Executive Summary</a></span></li><li><span><a href=\"#Introduction\" data-toc-modified-id=\"Introduction-2\"><span class=\"toc-item-num\">2&nbsp;&nbsp;</span>Introduction</a></span></li></ul></div>"
   ]
  },
  {
   "cell_type": "markdown",
   "id": "f29391f8",
   "metadata": {},
   "source": [
    "# 1_Life_Expectancy_WHO_UN_Analysis_Modeling\n",
    "\n",
    "To:&nbsp;&nbsp;&nbsp;&nbsp; Magnimind\n",
    "\n",
    "From: Matt Curcio, matt.curcio.ri@gmail.com\n",
    "\n",
    "Date: 2023-01-24\n",
    "\n",
    "Re:&nbsp;&nbsp;&nbsp; NOTEBOOK #1\n"
   ]
  },
  {
   "cell_type": "markdown",
   "id": "b7ae52a0",
   "metadata": {},
   "source": [
    "## Executive Summary\n",
    "\n",
    "**Problem Statement**\n",
    "\n",
    "Information from the World Health Organization and United Nations was gather for the years 2000-2015 for 183 countries in three categories: \n",
    "\n",
    "1. *Communicable diseases*: Hepatitis B, Measles, Polio, Diphtheria, HIV/AIDS.\n",
    "\n",
    "\n",
    "2. *Country-specific monetary data*: Gross domestic product, Governmental expenditure rates, Average personal income, Developmental status, Population, Education.\n",
    "\n",
    "\n",
    "3. *Health-related information*: Infant and adult mortality rates, Number of deaths less than 5 yr, Alcohol consumption rates, Child-related malnutrition, including child thinness rates between 1-19 years and 5-9 years, Average body mass index per capita.\n",
    "\n",
    "\n",
    "This report investigates modifiable environmental factors that may contribute to life expectancy in the hopes of finding a mathematical model. The two primary questions we hope to answer are:\n",
    "\n",
    "1. *Which variables are significant in modeling and predicting Life Expectancy?*\n",
    "\n",
    "\n",
    "2. *What steps should be taken given limited resources?*"
   ]
  },
  {
   "cell_type": "markdown",
   "id": "743a0c01",
   "metadata": {},
   "source": [
    "## Introduction\n",
    "\n",
    "In 2006, The World Health Organization published a report entitled `Preventing disease through healthy environments`.\n",
    ">[It] “confirms that approximately one-quarter of the global disease burden, and more than one-third of the burden among children, is due to modifiable environmental factors.” \n",
    ">\n",
    ">[WHO-Preventing Disease Through Healthy Environments](https://www.who.int/publications/i/item/9241593822)\n",
    "\n",
    "Not all data features are complete. There are approximately 20+ countries that need more information. Many of these countries are currently in civil unrest or outright war.\n",
    "\n",
    "We hope that global resources can be spent cost-effectively. \n",
    "\n",
    "The dataset was obtained from Kaggle.com:\n",
    "https://www.kaggle.com/datasets/kumarajarshi/life-expectancy-who\n",
    "\n",
    "\n",
    "Data can be found at: https://www.kaggle.com/discussions/general/60603\n"
   ]
  },
  {
   "cell_type": "code",
   "execution_count": null,
   "id": "7f19f8ea",
   "metadata": {},
   "outputs": [],
   "source": []
  },
  {
   "cell_type": "code",
   "execution_count": null,
   "id": "b68915c3",
   "metadata": {},
   "outputs": [],
   "source": []
  },
  {
   "cell_type": "code",
   "execution_count": null,
   "id": "1c2b6b22",
   "metadata": {},
   "outputs": [],
   "source": []
  }
 ],
 "metadata": {
  "kernelspec": {
   "display_name": "Python 3 (ipykernel)",
   "language": "python",
   "name": "python3"
  },
  "language_info": {
   "codemirror_mode": {
    "name": "ipython",
    "version": 3
   },
   "file_extension": ".py",
   "mimetype": "text/x-python",
   "name": "python",
   "nbconvert_exporter": "python",
   "pygments_lexer": "ipython3",
   "version": "3.9.16"
  },
  "toc": {
   "base_numbering": 1,
   "nav_menu": {},
   "number_sections": true,
   "sideBar": true,
   "skip_h1_title": true,
   "title_cell": "Table of Contents",
   "title_sidebar": "Contents",
   "toc_cell": true,
   "toc_position": {
    "height": "calc(100% - 180px)",
    "left": "10px",
    "top": "150px",
    "width": "165px"
   },
   "toc_section_display": true,
   "toc_window_display": false
  },
  "varInspector": {
   "cols": {
    "lenName": 16,
    "lenType": 16,
    "lenVar": 40
   },
   "kernels_config": {
    "python": {
     "delete_cmd_postfix": "",
     "delete_cmd_prefix": "del ",
     "library": "var_list.py",
     "varRefreshCmd": "print(var_dic_list())"
    },
    "r": {
     "delete_cmd_postfix": ") ",
     "delete_cmd_prefix": "rm(",
     "library": "var_list.r",
     "varRefreshCmd": "cat(var_dic_list()) "
    }
   },
   "types_to_exclude": [
    "module",
    "function",
    "builtin_function_or_method",
    "instance",
    "_Feature"
   ],
   "window_display": false
  }
 },
 "nbformat": 4,
 "nbformat_minor": 5
}
